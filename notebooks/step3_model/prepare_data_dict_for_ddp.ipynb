{
 "cells": [
  {
   "cell_type": "code",
   "execution_count": 1,
   "metadata": {
    "ExecuteTime": {
     "end_time": "2023-06-25T13:56:41.012457810Z",
     "start_time": "2023-06-25T13:56:40.404185399Z"
    },
    "tags": []
   },
   "outputs": [
    {
     "name": "stdout",
     "output_type": "stream",
     "text": [
      "/home/ubuntu/projects/ip-dual-encoder-factorization-machine/notebooks/step3_model\n"
     ]
    }
   ],
   "source": [
    "!pwd"
   ]
  },
  {
   "cell_type": "code",
   "execution_count": 3,
   "metadata": {
    "ExecuteTime": {
     "end_time": "2023-06-25T13:56:52.677908857Z",
     "start_time": "2023-06-25T13:56:52.662027360Z"
    },
    "collapsed": false,
    "jupyter": {
     "outputs_hidden": false
    },
    "tags": []
   },
   "outputs": [],
   "source": [
    "# c6a.4xlarge\n",
    "# ml.p3.2xlarge\n",
    "# ml.p3.8xlarge\n"
   ]
  },
  {
   "cell_type": "code",
   "execution_count": 4,
   "metadata": {
    "ExecuteTime": {
     "end_time": "2023-06-25T13:56:54.120932256Z",
     "start_time": "2023-06-25T13:56:54.104690441Z"
    },
    "collapsed": false,
    "jupyter": {
     "outputs_hidden": false
    },
    "tags": []
   },
   "outputs": [],
   "source": [
    "# !pip install --upgrade --no-cache-dir jupyter ipywidgets pandas torch transformers datasets s3fs tqdm tensorboard mlflow torchmetrics\n",
    "# !jupyter nbextension enable --py widgetsnbextension --sys-prefix\n"
   ]
  },
  {
   "cell_type": "code",
   "execution_count": 5,
   "metadata": {
    "ExecuteTime": {
     "end_time": "2023-06-25T13:56:58.976144344Z",
     "start_time": "2023-06-25T13:56:56.384453929Z"
    },
    "collapsed": false,
    "jupyter": {
     "outputs_hidden": false
    },
    "tags": []
   },
   "outputs": [
    {
     "name": "stdout",
     "output_type": "stream",
     "text": [
      "2.0.1+cu117\n",
      "2.4.1\n"
     ]
    }
   ],
   "source": [
    "import pandas as pd\n",
    "import numpy as np\n",
    "import math\n",
    "from pprint import pprint\n",
    "import matplotlib.pyplot as plt\n",
    "import os\n",
    "from tqdm.notebook import tqdm\n",
    "\n",
    "from transformers import AutoTokenizer, AutoModel, AutoConfig\n",
    "from transformers.modeling_outputs import TokenClassifierOutput\n",
    "from datasets import load_dataset, Dataset, DatasetDict\n",
    "import torch\n",
    "import torch.nn as nn\n",
    "import torch.nn.functional as F\n",
    "import mlflow\n",
    "\n",
    "print(torch.__version__)\n",
    "print(mlflow.__version__)"
   ]
  },
  {
   "cell_type": "code",
   "execution_count": 6,
   "metadata": {
    "ExecuteTime": {
     "end_time": "2023-06-25T13:56:59.275857188Z",
     "start_time": "2023-06-25T13:56:59.251586202Z"
    },
    "collapsed": false
   },
   "outputs": [
    {
     "name": "stdout",
     "output_type": "stream",
     "text": [
      "4\n"
     ]
    },
    {
     "data": {
      "text/plain": [
       "False"
      ]
     },
     "execution_count": 6,
     "metadata": {},
     "output_type": "execute_result"
    }
   ],
   "source": [
    "print(torch.cuda.device_count())\n",
    "# torch.backends.cuda.matmul.allow_tf32 = True # True\n",
    "torch.backends.cuda.matmul.allow_tf32"
   ]
  },
  {
   "cell_type": "code",
   "execution_count": 7,
   "metadata": {
    "ExecuteTime": {
     "end_time": "2023-06-25T13:57:32.375539043Z",
     "start_time": "2023-06-25T13:57:32.358331465Z"
    },
    "collapsed": false
   },
   "outputs": [],
   "source": [
    "# running_on_aws = False\n",
    "running_on_aws = True"
   ]
  },
  {
   "attachments": {},
   "cell_type": "markdown",
   "metadata": {},
   "source": [
    "# Load the processed data from step 2 (optional)\n",
    "Skip this part and start from `Load the DatasetDict from S3`"
   ]
  },
  {
   "cell_type": "code",
   "execution_count": 8,
   "metadata": {
    "ExecuteTime": {
     "end_time": "2023-06-25T13:57:33.870015512Z",
     "start_time": "2023-06-25T13:57:33.865130806Z"
    },
    "tags": []
   },
   "outputs": [
    {
     "data": {
      "text/plain": [
       "'/home/ubuntu/projects/ip-dual-encoder-factorization-machine'"
      ]
     },
     "execution_count": 8,
     "metadata": {},
     "output_type": "execute_result"
    }
   ],
   "source": [
    "proj_root_path = os.path.dirname(os.path.dirname(os.getcwd())) if running_on_aws else '/root/projects/PythonProjects/ip-dual-encoder-factorization-machine/'\n",
    "\n",
    "proj_root_path"
   ]
  },
  {
   "cell_type": "code",
   "execution_count": 11,
   "metadata": {
    "ExecuteTime": {
     "end_time": "2023-06-25T13:58:31.535300296Z",
     "start_time": "2023-06-25T13:58:27.026093276Z"
    },
    "collapsed": false,
    "jupyter": {
     "outputs_hidden": false
    },
    "tags": []
   },
   "outputs": [
    {
     "name": "stdout",
     "output_type": "stream",
     "text": [
      "s3://tyler-s3-bucket/other/interview-projects/seek/input_processed_output/\n"
     ]
    }
   ],
   "source": [
    "# data_path = '/root/projects/PythonProjects/ip-dual-encoder-factorization-machine/notebooks/input_processed/final'  # local path\n",
    "# data_dict = {ds: pd.read_json(os.path.join(data_path, f'{ds}_data.json')).sample(64) for ds in ['train', 'valid', 'test']}\n",
    "\n",
    "data_path = 's3://tyler-s3-bucket/other/interview-projects/seek/input_processed_output/' if running_on_aws else '/root/projects/PythonProjects/ip-dual-encoder-factorization-machine/data/input_processed_output/'\n",
    "print(data_path)\n",
    "\n",
    "df_dtypes = {\n",
    "    'event_datetime': str,\n",
    "    'resume_id_encoded': np.int32,\n",
    "    'job_id_sequence': str,\n",
    "    'job_id_next': np.int32,\n",
    "    'class': np.int8,\n",
    "    'title': str,\n",
    "    'abstract': str,\n",
    "    'location': str,\n",
    "    'classification': str\n",
    "}\n",
    "\n",
    "dataframe_dict = {\n",
    "    ds: pd.read_json(os.path.join(data_path, f'{ds}_data.json'), dtype=df_dtypes) for ds in ['train', 'valid', 'test']\n",
    "}"
   ]
  },
  {
   "cell_type": "code",
   "execution_count": 12,
   "metadata": {},
   "outputs": [
    {
     "data": {
      "text/plain": [
       "event_datetime       object\n",
       "resume_id_encoded     int32\n",
       "job_id_sequence      object\n",
       "job_id_next           int32\n",
       "class                  int8\n",
       "title                object\n",
       "abstract             object\n",
       "location             object\n",
       "classification       object\n",
       "dtype: object"
      ]
     },
     "metadata": {},
     "output_type": "display_data"
    },
    {
     "data": {
      "text/html": [
       "<div>\n",
       "<style scoped>\n",
       "    .dataframe tbody tr th:only-of-type {\n",
       "        vertical-align: middle;\n",
       "    }\n",
       "\n",
       "    .dataframe tbody tr th {\n",
       "        vertical-align: top;\n",
       "    }\n",
       "\n",
       "    .dataframe thead th {\n",
       "        text-align: right;\n",
       "    }\n",
       "</style>\n",
       "<table border=\"1\" class=\"dataframe\">\n",
       "  <thead>\n",
       "    <tr style=\"text-align: right;\">\n",
       "      <th></th>\n",
       "      <th>event_datetime</th>\n",
       "      <th>resume_id_encoded</th>\n",
       "      <th>job_id_sequence</th>\n",
       "      <th>job_id_next</th>\n",
       "      <th>class</th>\n",
       "      <th>title</th>\n",
       "      <th>abstract</th>\n",
       "      <th>location</th>\n",
       "      <th>classification</th>\n",
       "    </tr>\n",
       "  </thead>\n",
       "  <tbody>\n",
       "    <tr>\n",
       "      <th>0</th>\n",
       "      <td>2021-05-01 00:00:07</td>\n",
       "      <td>1</td>\n",
       "      <td>[23106]</td>\n",
       "      <td>17225</td>\n",
       "      <td>1</td>\n",
       "      <td>Programme Manager, healthAlliance</td>\n",
       "      <td>Permanent, Full Time Role Based in Penrose</td>\n",
       "      <td>Auckland</td>\n",
       "      <td>Information &amp; Communication Technology</td>\n",
       "    </tr>\n",
       "    <tr>\n",
       "      <th>1</th>\n",
       "      <td>2021-05-01 00:00:07</td>\n",
       "      <td>1</td>\n",
       "      <td>[23106, 17225]</td>\n",
       "      <td>939</td>\n",
       "      <td>1</td>\n",
       "      <td>Office Administrator</td>\n",
       "      <td>Excellent opportunity for a proactive PA/Offic...</td>\n",
       "      <td>Sydney</td>\n",
       "      <td>Administration &amp; Office Support</td>\n",
       "    </tr>\n",
       "    <tr>\n",
       "      <th>2</th>\n",
       "      <td>2021-05-01 00:00:07</td>\n",
       "      <td>1</td>\n",
       "      <td>[23106, 17225, 939]</td>\n",
       "      <td>24851</td>\n",
       "      <td>1</td>\n",
       "      <td>2IC Retail Career Opportunity - Liverpool Store</td>\n",
       "      <td>High profile Homemaker Retailer specialising i...</td>\n",
       "      <td>Sydney</td>\n",
       "      <td>Retail &amp; Consumer Products</td>\n",
       "    </tr>\n",
       "    <tr>\n",
       "      <th>3</th>\n",
       "      <td>2021-05-01 00:00:07</td>\n",
       "      <td>1</td>\n",
       "      <td>[23106, 17225, 939, 24851]</td>\n",
       "      <td>20479</td>\n",
       "      <td>1</td>\n",
       "      <td>Maternal &amp; Child Health Nurse</td>\n",
       "      <td>Yarra City Council is looking for enthusiastic...</td>\n",
       "      <td>Melbourne</td>\n",
       "      <td>Government &amp; Defence</td>\n",
       "    </tr>\n",
       "    <tr>\n",
       "      <th>4</th>\n",
       "      <td>2021-05-01 00:00:07</td>\n",
       "      <td>1</td>\n",
       "      <td>[23106, 17225, 939, 24851, 20479]</td>\n",
       "      <td>44011</td>\n",
       "      <td>1</td>\n",
       "      <td>Construction All Rounder / Labourer</td>\n",
       "      <td>Construction All Rounder/Labourer - Fulltime C...</td>\n",
       "      <td>Toowoomba &amp; Darling Downs</td>\n",
       "      <td>Trades &amp; Services</td>\n",
       "    </tr>\n",
       "    <tr>\n",
       "      <th>...</th>\n",
       "      <td>...</td>\n",
       "      <td>...</td>\n",
       "      <td>...</td>\n",
       "      <td>...</td>\n",
       "      <td>...</td>\n",
       "      <td>...</td>\n",
       "      <td>...</td>\n",
       "      <td>...</td>\n",
       "      <td>...</td>\n",
       "    </tr>\n",
       "    <tr>\n",
       "      <th>1344081</th>\n",
       "      <td>2021-05-01 23:54:48</td>\n",
       "      <td>19672</td>\n",
       "      <td>[18229, 25037, 24828, 19224, 27766, 5343, 1579...</td>\n",
       "      <td>14325</td>\n",
       "      <td>0</td>\n",
       "      <td>REAL ESTATE SALES - STAR PERFORMER WANTED - BE...</td>\n",
       "      <td>Berwick Leading Agents Expected Income Earning...</td>\n",
       "      <td>Melbourne</td>\n",
       "      <td>Sales</td>\n",
       "    </tr>\n",
       "    <tr>\n",
       "      <th>1344082</th>\n",
       "      <td>2021-05-01 23:54:48</td>\n",
       "      <td>19672</td>\n",
       "      <td>[18229, 25037, 24828, 19224, 27766, 5343, 1579...</td>\n",
       "      <td>27777</td>\n",
       "      <td>0</td>\n",
       "      <td>Litigation Support Clerk (afternoon shift)</td>\n",
       "      <td>Afternoon shift loading $$</td>\n",
       "      <td>Sydney</td>\n",
       "      <td>Administration &amp; Office Support</td>\n",
       "    </tr>\n",
       "    <tr>\n",
       "      <th>1344083</th>\n",
       "      <td>2021-05-01 23:54:48</td>\n",
       "      <td>19672</td>\n",
       "      <td>[18229, 25037, 24828, 19224, 27766, 5343, 1579...</td>\n",
       "      <td>45281</td>\n",
       "      <td>0</td>\n",
       "      <td>Team Administrator</td>\n",
       "      <td>Dynamic role working within a passionate and s...</td>\n",
       "      <td>Auckland</td>\n",
       "      <td>Administration &amp; Office Support</td>\n",
       "    </tr>\n",
       "    <tr>\n",
       "      <th>1344084</th>\n",
       "      <td>2021-05-01 23:54:48</td>\n",
       "      <td>19672</td>\n",
       "      <td>[18229, 25037, 24828, 19224, 27766, 5343, 1579...</td>\n",
       "      <td>43618</td>\n",
       "      <td>0</td>\n",
       "      <td>Retail Second In Charge - David Jones Chadston...</td>\n",
       "      <td>Join Seed on your exciting new journey; Help, ...</td>\n",
       "      <td>Melbourne</td>\n",
       "      <td>Retail &amp; Consumer Products</td>\n",
       "    </tr>\n",
       "    <tr>\n",
       "      <th>1344085</th>\n",
       "      <td>2021-05-01 23:54:48</td>\n",
       "      <td>19672</td>\n",
       "      <td>[18229, 25037, 24828, 19224, 27766, 5343, 1579...</td>\n",
       "      <td>18715</td>\n",
       "      <td>0</td>\n",
       "      <td>Senior Commercial Property Manager</td>\n",
       "      <td>Seeking a dynamic Senior Commercial Property M...</td>\n",
       "      <td>Perth</td>\n",
       "      <td>Real Estate &amp; Property</td>\n",
       "    </tr>\n",
       "  </tbody>\n",
       "</table>\n",
       "<p>1344086 rows × 9 columns</p>\n",
       "</div>"
      ],
      "text/plain": [
       "              event_datetime  resume_id_encoded  \\\n",
       "0        2021-05-01 00:00:07                  1   \n",
       "1        2021-05-01 00:00:07                  1   \n",
       "2        2021-05-01 00:00:07                  1   \n",
       "3        2021-05-01 00:00:07                  1   \n",
       "4        2021-05-01 00:00:07                  1   \n",
       "...                      ...                ...   \n",
       "1344081  2021-05-01 23:54:48              19672   \n",
       "1344082  2021-05-01 23:54:48              19672   \n",
       "1344083  2021-05-01 23:54:48              19672   \n",
       "1344084  2021-05-01 23:54:48              19672   \n",
       "1344085  2021-05-01 23:54:48              19672   \n",
       "\n",
       "                                           job_id_sequence  job_id_next  \\\n",
       "0                                                  [23106]        17225   \n",
       "1                                           [23106, 17225]          939   \n",
       "2                                      [23106, 17225, 939]        24851   \n",
       "3                               [23106, 17225, 939, 24851]        20479   \n",
       "4                        [23106, 17225, 939, 24851, 20479]        44011   \n",
       "...                                                    ...          ...   \n",
       "1344081  [18229, 25037, 24828, 19224, 27766, 5343, 1579...        14325   \n",
       "1344082  [18229, 25037, 24828, 19224, 27766, 5343, 1579...        27777   \n",
       "1344083  [18229, 25037, 24828, 19224, 27766, 5343, 1579...        45281   \n",
       "1344084  [18229, 25037, 24828, 19224, 27766, 5343, 1579...        43618   \n",
       "1344085  [18229, 25037, 24828, 19224, 27766, 5343, 1579...        18715   \n",
       "\n",
       "         class                                              title  \\\n",
       "0            1                  Programme Manager, healthAlliance   \n",
       "1            1                               Office Administrator   \n",
       "2            1    2IC Retail Career Opportunity - Liverpool Store   \n",
       "3            1                      Maternal & Child Health Nurse   \n",
       "4            1                Construction All Rounder / Labourer   \n",
       "...        ...                                                ...   \n",
       "1344081      0  REAL ESTATE SALES - STAR PERFORMER WANTED - BE...   \n",
       "1344082      0         Litigation Support Clerk (afternoon shift)   \n",
       "1344083      0                                 Team Administrator   \n",
       "1344084      0  Retail Second In Charge - David Jones Chadston...   \n",
       "1344085      0                 Senior Commercial Property Manager   \n",
       "\n",
       "                                                  abstract  \\\n",
       "0               Permanent, Full Time Role Based in Penrose   \n",
       "1        Excellent opportunity for a proactive PA/Offic...   \n",
       "2        High profile Homemaker Retailer specialising i...   \n",
       "3        Yarra City Council is looking for enthusiastic...   \n",
       "4        Construction All Rounder/Labourer - Fulltime C...   \n",
       "...                                                    ...   \n",
       "1344081  Berwick Leading Agents Expected Income Earning...   \n",
       "1344082                         Afternoon shift loading $$   \n",
       "1344083  Dynamic role working within a passionate and s...   \n",
       "1344084  Join Seed on your exciting new journey; Help, ...   \n",
       "1344085  Seeking a dynamic Senior Commercial Property M...   \n",
       "\n",
       "                          location                          classification  \n",
       "0                         Auckland  Information & Communication Technology  \n",
       "1                           Sydney         Administration & Office Support  \n",
       "2                           Sydney              Retail & Consumer Products  \n",
       "3                        Melbourne                    Government & Defence  \n",
       "4        Toowoomba & Darling Downs                       Trades & Services  \n",
       "...                            ...                                     ...  \n",
       "1344081                  Melbourne                                   Sales  \n",
       "1344082                     Sydney         Administration & Office Support  \n",
       "1344083                   Auckland         Administration & Office Support  \n",
       "1344084                  Melbourne              Retail & Consumer Products  \n",
       "1344085                      Perth                  Real Estate & Property  \n",
       "\n",
       "[1344086 rows x 9 columns]"
      ]
     },
     "execution_count": 12,
     "metadata": {},
     "output_type": "execute_result"
    }
   ],
   "source": [
    "display(dataframe_dict['train'].dtypes)\n",
    "dataframe_dict['train']"
   ]
  },
  {
   "cell_type": "code",
   "execution_count": 6,
   "metadata": {},
   "outputs": [],
   "source": [
    "# for k, v in dataframe_dict.items():\n",
    "#     print(k)\n",
    "#     display(v.info(memory_usage=\"deep\"))"
   ]
  },
  {
   "cell_type": "code",
   "execution_count": 13,
   "metadata": {
    "ExecuteTime": {
     "end_time": "2023-06-25T13:58:37.673901745Z",
     "start_time": "2023-06-25T13:58:37.194164708Z"
    },
    "collapsed": false,
    "jupyter": {
     "outputs_hidden": false
    },
    "tags": []
   },
   "outputs": [
    {
     "data": {
      "text/plain": [
       "DatasetDict({\n",
       "    train: Dataset({\n",
       "        features: ['resume_id_encoded', 'job_id_sequence', 'job_id_next', 'class', 'title', 'abstract', 'location', 'classification'],\n",
       "        num_rows: 1344086\n",
       "    })\n",
       "    valid: Dataset({\n",
       "        features: ['resume_id_encoded', 'job_id_sequence', 'job_id_next', 'class', 'title', 'abstract', 'location', 'classification'],\n",
       "        num_rows: 168038\n",
       "    })\n",
       "    test: Dataset({\n",
       "        features: ['resume_id_encoded', 'job_id_sequence', 'job_id_next', 'class', 'title', 'abstract', 'location', 'classification'],\n",
       "        num_rows: 187480\n",
       "    })\n",
       "})"
      ]
     },
     "execution_count": 13,
     "metadata": {},
     "output_type": "execute_result"
    }
   ],
   "source": [
    "dataset_dict = DatasetDict({k: Dataset.from_pandas(v, split=k, preserve_index=False) for k, v in dataframe_dict.items()})\n",
    "dataset_dict = dataset_dict.remove_columns(['event_datetime'])\n",
    "dataset_dict"
   ]
  },
  {
   "cell_type": "code",
   "execution_count": 14,
   "metadata": {
    "ExecuteTime": {
     "end_time": "2023-06-25T13:58:42.696961855Z",
     "start_time": "2023-06-25T13:58:42.565921298Z"
    },
    "collapsed": false,
    "jupyter": {
     "outputs_hidden": false
    },
    "tags": []
   },
   "outputs": [
    {
     "data": {
      "text/plain": [
       "{'resume_id_encoded': Value(dtype='int32', id=None),\n",
       " 'job_id_sequence': Value(dtype='string', id=None),\n",
       " 'job_id_next': Value(dtype='int32', id=None),\n",
       " 'class': Value(dtype='int8', id=None),\n",
       " 'title': Value(dtype='string', id=None),\n",
       " 'abstract': Value(dtype='string', id=None),\n",
       " 'location': Value(dtype='string', id=None),\n",
       " 'classification': Value(dtype='string', id=None)}"
      ]
     },
     "execution_count": 14,
     "metadata": {},
     "output_type": "execute_result"
    }
   ],
   "source": [
    "dataset_dict['train'].features"
   ]
  },
  {
   "cell_type": "code",
   "execution_count": 15,
   "metadata": {
    "ExecuteTime": {
     "end_time": "2023-06-25T13:59:01.623775573Z",
     "start_time": "2023-06-25T13:58:52.056651458Z"
    },
    "collapsed": false,
    "jupyter": {
     "outputs_hidden": false
    },
    "tags": []
   },
   "outputs": [
    {
     "data": {
      "text/plain": [
       "512"
      ]
     },
     "execution_count": 15,
     "metadata": {},
     "output_type": "execute_result"
    }
   ],
   "source": [
    "MAX_LEN = 512\n",
    "\n",
    "# https://huggingface.co/jjzha/jobbert-base-cased\n",
    "checkpoint = 'bert-base-cased' # 'jjzha/jobbert-base-cased'\n",
    "tokenizer = AutoTokenizer.from_pretrained(checkpoint)\n",
    "tokenizer.model_max_length = MAX_LEN\n",
    "tokenizer.model_max_length"
   ]
  },
  {
   "cell_type": "code",
   "execution_count": 16,
   "metadata": {
    "ExecuteTime": {
     "end_time": "2023-06-25T13:59:03.075763434Z",
     "start_time": "2023-06-25T13:59:03.048827919Z"
    },
    "collapsed": false,
    "jupyter": {
     "outputs_hidden": false
    },
    "tags": []
   },
   "outputs": [
    {
     "data": {
      "text/plain": [
       "[101, 102]"
      ]
     },
     "execution_count": 16,
     "metadata": {},
     "output_type": "execute_result"
    }
   ],
   "source": [
    "tokenizer.convert_tokens_to_ids(['[CLS]', '[SEP]'])"
   ]
  },
  {
   "cell_type": "code",
   "execution_count": 17,
   "metadata": {
    "ExecuteTime": {
     "end_time": "2023-06-25T13:59:04.556840462Z",
     "start_time": "2023-06-25T13:59:04.532022128Z"
    },
    "collapsed": false,
    "jupyter": {
     "outputs_hidden": false
    },
    "tags": []
   },
   "outputs": [],
   "source": [
    "def tokenize(batch):\n",
    "    \"\"\"\n",
    "    Tokenizer function for job text columns. Postponed the padding part to batching by DataLoader.\n",
    "    :param batch:\n",
    "    :return:\n",
    "    \"\"\"\n",
    "    # return tokenizer(batch[\"title\"], batch[\"abstract\"], return_tensors='pt', truncation=True, max_length=MAX_LEN, padding='max_length')\n",
    "    return tokenizer(batch[\"title\"], batch[\"abstract\"], truncation=True, max_length=MAX_LEN, padding=False)"
   ]
  },
  {
   "cell_type": "code",
   "execution_count": 18,
   "metadata": {
    "ExecuteTime": {
     "end_time": "2023-05-22T14:09:46.222525417Z",
     "start_time": "2023-05-22T14:09:46.188224125Z"
    },
    "tags": []
   },
   "outputs": [
    {
     "data": {
      "text/plain": [
       "{'train': [], 'valid': [], 'test': []}"
      ]
     },
     "execution_count": 18,
     "metadata": {},
     "output_type": "execute_result"
    }
   ],
   "source": [
    "dataset_dict.cache_files"
   ]
  },
  {
   "cell_type": "code",
   "execution_count": 21,
   "metadata": {
    "ExecuteTime": {
     "end_time": "2023-06-25T13:59:39.185329706Z",
     "start_time": "2023-06-25T13:59:38.412174441Z"
    }
   },
   "outputs": [],
   "source": [
    "if running_on_aws:\n",
    "    # !rm -r \"/home/ec2-user/projects/ip-dual-encoder-factorization-machine/data/tmp_data/\"\n",
    "    !rm -r /home/ubuntu/projects/ip-dual-encoder-factorization-machine/data/tmp_data/\n",
    "else:\n",
    "    !rm -r \"/root/projects/PythonProjects/ip-dual-encoder-factorization-machine/data/tmp_data/\""
   ]
  },
  {
   "cell_type": "code",
   "execution_count": 22,
   "metadata": {
    "ExecuteTime": {
     "end_time": "2023-06-25T13:59:43.251092493Z",
     "start_time": "2023-06-25T13:59:43.236376640Z"
    }
   },
   "outputs": [
    {
     "data": {
      "text/plain": [
       "'/home/ubuntu/projects/ip-dual-encoder-factorization-machine'"
      ]
     },
     "execution_count": 22,
     "metadata": {},
     "output_type": "execute_result"
    }
   ],
   "source": [
    "proj_root_path"
   ]
  },
  {
   "cell_type": "code",
   "execution_count": 23,
   "metadata": {
    "ExecuteTime": {
     "end_time": "2023-06-25T14:02:02.140818225Z",
     "start_time": "2023-06-25T14:01:08.321600075Z"
    },
    "collapsed": false,
    "jupyter": {
     "outputs_hidden": false
    },
    "tags": []
   },
   "outputs": [
    {
     "name": "stdout",
     "output_type": "stream",
     "text": [
      "[Errno 17] File exists: '/home/ubuntu/projects/ip-dual-encoder-factorization-machine/data'\n"
     ]
    },
    {
     "data": {
      "application/vnd.jupyter.widget-view+json": {
       "model_id": "6c839d40a35f48aca9d90ea2be4f6441",
       "version_major": 2,
       "version_minor": 0
      },
      "text/plain": [
       "tokenize (num_proc=15):   0%|          | 0/1344086 [00:00<?, ? examples/s]"
      ]
     },
     "metadata": {},
     "output_type": "display_data"
    },
    {
     "data": {
      "application/vnd.jupyter.widget-view+json": {
       "model_id": "0e4adb43744b4e1ca3725decec5c447f",
       "version_major": 2,
       "version_minor": 0
      },
      "text/plain": [
       "tokenize (num_proc=15):   0%|          | 0/168038 [00:00<?, ? examples/s]"
      ]
     },
     "metadata": {},
     "output_type": "display_data"
    },
    {
     "data": {
      "application/vnd.jupyter.widget-view+json": {
       "model_id": "09b686bf0e4b4dfe8ed6bcf13d71442f",
       "version_major": 2,
       "version_minor": 0
      },
      "text/plain": [
       "tokenize (num_proc=15):   0%|          | 0/187480 [00:00<?, ? examples/s]"
      ]
     },
     "metadata": {},
     "output_type": "display_data"
    },
    {
     "name": "stdout",
     "output_type": "stream",
     "text": [
      "Map execution completed.\n"
     ]
    }
   ],
   "source": [
    "# p3.8xlarge: 32 CPUs\n",
    "\n",
    "map_batch_size = 15 #6\n",
    "num_proc = 15 #6\n",
    "writer_batch_size = 1000 #500\n",
    "\n",
    "# cache_file_path = f'{proj_root_path}/data/tmp_data'\n",
    "cache_paths = [\n",
    "    f'{proj_root_path}/data',\n",
    "    f'{proj_root_path}/data/tmp_data',\n",
    "    f'{proj_root_path}/data/tmp_data/tokenize',\n",
    "    # f'{proj_root_path}/tmp_data/pad_job_id_sequence'\n",
    "]\n",
    "for path in cache_paths:\n",
    "    try:\n",
    "        os.mkdir(path)\n",
    "    except OSError as error:\n",
    "        print(error)\n",
    "\n",
    "dataset_dict = dataset_dict.map(\n",
    "    tokenize,\n",
    "    batched=True,\n",
    "    batch_size=map_batch_size,\n",
    "    num_proc=num_proc,\n",
    "    cache_file_names={k: f'{cache_paths[-1]}/{k}_cache.arrow' for k in dataset_dict.keys()},\n",
    "    writer_batch_size=writer_batch_size,\n",
    "    desc='tokenize'\n",
    ")\n",
    "\n",
    "print('Map execution completed.')"
   ]
  },
  {
   "cell_type": "code",
   "execution_count": 25,
   "metadata": {
    "ExecuteTime": {
     "end_time": "2023-06-25T14:02:10.517481565Z",
     "start_time": "2023-06-25T14:02:10.391415713Z"
    }
   },
   "outputs": [
    {
     "data": {
      "text/html": [
       "<div>\n",
       "<style scoped>\n",
       "    .dataframe tbody tr th:only-of-type {\n",
       "        vertical-align: middle;\n",
       "    }\n",
       "\n",
       "    .dataframe tbody tr th {\n",
       "        vertical-align: top;\n",
       "    }\n",
       "\n",
       "    .dataframe thead th {\n",
       "        text-align: right;\n",
       "    }\n",
       "</style>\n",
       "<table border=\"1\" class=\"dataframe\">\n",
       "  <thead>\n",
       "    <tr style=\"text-align: right;\">\n",
       "      <th></th>\n",
       "      <th>resume_id_encoded</th>\n",
       "      <th>job_id_sequence</th>\n",
       "      <th>job_id_next</th>\n",
       "      <th>class</th>\n",
       "      <th>title</th>\n",
       "      <th>abstract</th>\n",
       "      <th>location</th>\n",
       "      <th>classification</th>\n",
       "      <th>input_ids</th>\n",
       "      <th>token_type_ids</th>\n",
       "      <th>attention_mask</th>\n",
       "    </tr>\n",
       "  </thead>\n",
       "  <tbody>\n",
       "    <tr>\n",
       "      <th>0</th>\n",
       "      <td>1</td>\n",
       "      <td>[23106]</td>\n",
       "      <td>17225</td>\n",
       "      <td>1</td>\n",
       "      <td>Programme Manager, healthAlliance</td>\n",
       "      <td>Permanent, Full Time Role Based in Penrose</td>\n",
       "      <td>Auckland</td>\n",
       "      <td>Information &amp; Communication Technology</td>\n",
       "      <td>[101, 11512, 7165, 117, 2332, 1592, 6473, 3923...</td>\n",
       "      <td>[0, 0, 0, 0, 0, 0, 0, 0, 0, 1, 1, 1, 1, 1, 1, ...</td>\n",
       "      <td>[1, 1, 1, 1, 1, 1, 1, 1, 1, 1, 1, 1, 1, 1, 1, ...</td>\n",
       "    </tr>\n",
       "    <tr>\n",
       "      <th>1</th>\n",
       "      <td>1</td>\n",
       "      <td>[23106, 17225]</td>\n",
       "      <td>939</td>\n",
       "      <td>1</td>\n",
       "      <td>Office Administrator</td>\n",
       "      <td>Excellent opportunity for a proactive PA/Offic...</td>\n",
       "      <td>Sydney</td>\n",
       "      <td>Administration &amp; Office Support</td>\n",
       "      <td>[101, 3060, 19483, 102, 25764, 3767, 1111, 170...</td>\n",
       "      <td>[0, 0, 0, 0, 1, 1, 1, 1, 1, 1, 1, 1, 1, 1, 1, ...</td>\n",
       "      <td>[1, 1, 1, 1, 1, 1, 1, 1, 1, 1, 1, 1, 1, 1, 1, ...</td>\n",
       "    </tr>\n",
       "    <tr>\n",
       "      <th>2</th>\n",
       "      <td>1</td>\n",
       "      <td>[23106, 17225, 939]</td>\n",
       "      <td>24851</td>\n",
       "      <td>1</td>\n",
       "      <td>2IC Retail Career Opportunity - Liverpool Store</td>\n",
       "      <td>High profile Homemaker Retailer specialising i...</td>\n",
       "      <td>Sydney</td>\n",
       "      <td>Retail &amp; Consumer Products</td>\n",
       "      <td>[101, 123, 9741, 11336, 11154, 17062, 9126, 43...</td>\n",
       "      <td>[0, 0, 0, 0, 0, 0, 0, 0, 0, 0, 0, 0, 0, 1, 1, ...</td>\n",
       "      <td>[1, 1, 1, 1, 1, 1, 1, 1, 1, 1, 1, 1, 1, 1, 1, ...</td>\n",
       "    </tr>\n",
       "    <tr>\n",
       "      <th>3</th>\n",
       "      <td>1</td>\n",
       "      <td>[23106, 17225, 939, 24851]</td>\n",
       "      <td>20479</td>\n",
       "      <td>1</td>\n",
       "      <td>Maternal &amp; Child Health Nurse</td>\n",
       "      <td>Yarra City Council is looking for enthusiastic...</td>\n",
       "      <td>Melbourne</td>\n",
       "      <td>Government &amp; Defence</td>\n",
       "      <td>[101, 25702, 10449, 1348, 111, 6405, 3225, 174...</td>\n",
       "      <td>[0, 0, 0, 0, 0, 0, 0, 0, 0, 1, 1, 1, 1, 1, 1, ...</td>\n",
       "      <td>[1, 1, 1, 1, 1, 1, 1, 1, 1, 1, 1, 1, 1, 1, 1, ...</td>\n",
       "    </tr>\n",
       "    <tr>\n",
       "      <th>4</th>\n",
       "      <td>1</td>\n",
       "      <td>[23106, 17225, 939, 24851, 20479]</td>\n",
       "      <td>44011</td>\n",
       "      <td>1</td>\n",
       "      <td>Construction All Rounder / Labourer</td>\n",
       "      <td>Construction All Rounder/Labourer - Fulltime C...</td>\n",
       "      <td>Toowoomba &amp; Darling Downs</td>\n",
       "      <td>Trades &amp; Services</td>\n",
       "      <td>[101, 6568, 1398, 4200, 1200, 120, 4560, 1200,...</td>\n",
       "      <td>[0, 0, 0, 0, 0, 0, 0, 0, 0, 1, 1, 1, 1, 1, 1, ...</td>\n",
       "      <td>[1, 1, 1, 1, 1, 1, 1, 1, 1, 1, 1, 1, 1, 1, 1, ...</td>\n",
       "    </tr>\n",
       "    <tr>\n",
       "      <th>5</th>\n",
       "      <td>1</td>\n",
       "      <td>[23106, 17225, 939, 24851, 20479, 44011]</td>\n",
       "      <td>37496</td>\n",
       "      <td>1</td>\n",
       "      <td>Casual Café All-rounder in North Rocks</td>\n",
       "      <td>A cafe in North Rocks is seeking a casual Café...</td>\n",
       "      <td>Sydney</td>\n",
       "      <td>Hospitality &amp; Tourism</td>\n",
       "      <td>[101, 140, 2225, 4746, 21036, 1398, 118, 1668,...</td>\n",
       "      <td>[0, 0, 0, 0, 0, 0, 0, 0, 0, 0, 0, 0, 0, 1, 1, ...</td>\n",
       "      <td>[1, 1, 1, 1, 1, 1, 1, 1, 1, 1, 1, 1, 1, 1, 1, ...</td>\n",
       "    </tr>\n",
       "    <tr>\n",
       "      <th>6</th>\n",
       "      <td>1</td>\n",
       "      <td>[23106, 17225, 939, 24851, 20479, 44011, 37496]</td>\n",
       "      <td>10857</td>\n",
       "      <td>1</td>\n",
       "      <td>Store Manager - North Eastern Suburbs</td>\n",
       "      <td>We are seeking an accomplished, energetic pers...</td>\n",
       "      <td>Melbourne</td>\n",
       "      <td>Retail &amp; Consumer Products</td>\n",
       "      <td>[101, 10422, 7165, 118, 1456, 2882, 12859, 214...</td>\n",
       "      <td>[0, 0, 0, 0, 0, 0, 0, 0, 0, 0, 1, 1, 1, 1, 1, ...</td>\n",
       "      <td>[1, 1, 1, 1, 1, 1, 1, 1, 1, 1, 1, 1, 1, 1, 1, ...</td>\n",
       "    </tr>\n",
       "    <tr>\n",
       "      <th>7</th>\n",
       "      <td>1</td>\n",
       "      <td>[23106, 17225, 939, 24851, 20479, 44011, 37496...</td>\n",
       "      <td>1610</td>\n",
       "      <td>1</td>\n",
       "      <td>Retail Store Manager - Sage Collective - Westf...</td>\n",
       "      <td>Sage Collective is currently looking for an in...</td>\n",
       "      <td>Newcastle, Maitland &amp; Hunter</td>\n",
       "      <td>Retail &amp; Consumer Products</td>\n",
       "      <td>[101, 11336, 11154, 10422, 7165, 118, 15204, 2...</td>\n",
       "      <td>[0, 0, 0, 0, 0, 0, 0, 0, 0, 0, 0, 0, 0, 0, 1, ...</td>\n",
       "      <td>[1, 1, 1, 1, 1, 1, 1, 1, 1, 1, 1, 1, 1, 1, 1, ...</td>\n",
       "    </tr>\n",
       "    <tr>\n",
       "      <th>8</th>\n",
       "      <td>1</td>\n",
       "      <td>[23106, 17225, 939, 24851, 20479, 44011, 37496...</td>\n",
       "      <td>28182</td>\n",
       "      <td>1</td>\n",
       "      <td>Drama/Humanities/Generalist Classroom Teacher</td>\n",
       "      <td>The classroom teacher classification comprises...</td>\n",
       "      <td>Melbourne</td>\n",
       "      <td>Education &amp; Training</td>\n",
       "      <td>[101, 8020, 120, 14860, 120, 1615, 1776, 3699,...</td>\n",
       "      <td>[0, 0, 0, 0, 0, 0, 0, 0, 0, 0, 0, 1, 1, 1, 1, ...</td>\n",
       "      <td>[1, 1, 1, 1, 1, 1, 1, 1, 1, 1, 1, 1, 1, 1, 1, ...</td>\n",
       "    </tr>\n",
       "    <tr>\n",
       "      <th>9</th>\n",
       "      <td>1</td>\n",
       "      <td>[23106, 17225, 939, 24851, 20479, 44011, 37496...</td>\n",
       "      <td>40665</td>\n",
       "      <td>1</td>\n",
       "      <td>Field Service Coordinator</td>\n",
       "      <td>Field Service Coordinator position available, ...</td>\n",
       "      <td>Brisbane</td>\n",
       "      <td>Engineering</td>\n",
       "      <td>[101, 3479, 2516, 25561, 102, 3479, 2516, 2556...</td>\n",
       "      <td>[0, 0, 0, 0, 0, 1, 1, 1, 1, 1, 1, 1, 1, 1, 1, ...</td>\n",
       "      <td>[1, 1, 1, 1, 1, 1, 1, 1, 1, 1, 1, 1, 1, 1, 1, ...</td>\n",
       "    </tr>\n",
       "  </tbody>\n",
       "</table>\n",
       "</div>"
      ],
      "text/plain": [
       "   resume_id_encoded                                    job_id_sequence  \\\n",
       "0                  1                                            [23106]   \n",
       "1                  1                                     [23106, 17225]   \n",
       "2                  1                                [23106, 17225, 939]   \n",
       "3                  1                         [23106, 17225, 939, 24851]   \n",
       "4                  1                  [23106, 17225, 939, 24851, 20479]   \n",
       "5                  1           [23106, 17225, 939, 24851, 20479, 44011]   \n",
       "6                  1    [23106, 17225, 939, 24851, 20479, 44011, 37496]   \n",
       "7                  1  [23106, 17225, 939, 24851, 20479, 44011, 37496...   \n",
       "8                  1  [23106, 17225, 939, 24851, 20479, 44011, 37496...   \n",
       "9                  1  [23106, 17225, 939, 24851, 20479, 44011, 37496...   \n",
       "\n",
       "   job_id_next  class                                              title  \\\n",
       "0        17225      1                  Programme Manager, healthAlliance   \n",
       "1          939      1                               Office Administrator   \n",
       "2        24851      1    2IC Retail Career Opportunity - Liverpool Store   \n",
       "3        20479      1                      Maternal & Child Health Nurse   \n",
       "4        44011      1                Construction All Rounder / Labourer   \n",
       "5        37496      1             Casual Café All-rounder in North Rocks   \n",
       "6        10857      1              Store Manager - North Eastern Suburbs   \n",
       "7         1610      1  Retail Store Manager - Sage Collective - Westf...   \n",
       "8        28182      1      Drama/Humanities/Generalist Classroom Teacher   \n",
       "9        40665      1                          Field Service Coordinator   \n",
       "\n",
       "                                            abstract  \\\n",
       "0         Permanent, Full Time Role Based in Penrose   \n",
       "1  Excellent opportunity for a proactive PA/Offic...   \n",
       "2  High profile Homemaker Retailer specialising i...   \n",
       "3  Yarra City Council is looking for enthusiastic...   \n",
       "4  Construction All Rounder/Labourer - Fulltime C...   \n",
       "5  A cafe in North Rocks is seeking a casual Café...   \n",
       "6  We are seeking an accomplished, energetic pers...   \n",
       "7  Sage Collective is currently looking for an in...   \n",
       "8  The classroom teacher classification comprises...   \n",
       "9  Field Service Coordinator position available, ...   \n",
       "\n",
       "                       location                          classification  \\\n",
       "0                      Auckland  Information & Communication Technology   \n",
       "1                        Sydney         Administration & Office Support   \n",
       "2                        Sydney              Retail & Consumer Products   \n",
       "3                     Melbourne                    Government & Defence   \n",
       "4     Toowoomba & Darling Downs                       Trades & Services   \n",
       "5                        Sydney                   Hospitality & Tourism   \n",
       "6                     Melbourne              Retail & Consumer Products   \n",
       "7  Newcastle, Maitland & Hunter              Retail & Consumer Products   \n",
       "8                     Melbourne                    Education & Training   \n",
       "9                      Brisbane                             Engineering   \n",
       "\n",
       "                                           input_ids  \\\n",
       "0  [101, 11512, 7165, 117, 2332, 1592, 6473, 3923...   \n",
       "1  [101, 3060, 19483, 102, 25764, 3767, 1111, 170...   \n",
       "2  [101, 123, 9741, 11336, 11154, 17062, 9126, 43...   \n",
       "3  [101, 25702, 10449, 1348, 111, 6405, 3225, 174...   \n",
       "4  [101, 6568, 1398, 4200, 1200, 120, 4560, 1200,...   \n",
       "5  [101, 140, 2225, 4746, 21036, 1398, 118, 1668,...   \n",
       "6  [101, 10422, 7165, 118, 1456, 2882, 12859, 214...   \n",
       "7  [101, 11336, 11154, 10422, 7165, 118, 15204, 2...   \n",
       "8  [101, 8020, 120, 14860, 120, 1615, 1776, 3699,...   \n",
       "9  [101, 3479, 2516, 25561, 102, 3479, 2516, 2556...   \n",
       "\n",
       "                                      token_type_ids  \\\n",
       "0  [0, 0, 0, 0, 0, 0, 0, 0, 0, 1, 1, 1, 1, 1, 1, ...   \n",
       "1  [0, 0, 0, 0, 1, 1, 1, 1, 1, 1, 1, 1, 1, 1, 1, ...   \n",
       "2  [0, 0, 0, 0, 0, 0, 0, 0, 0, 0, 0, 0, 0, 1, 1, ...   \n",
       "3  [0, 0, 0, 0, 0, 0, 0, 0, 0, 1, 1, 1, 1, 1, 1, ...   \n",
       "4  [0, 0, 0, 0, 0, 0, 0, 0, 0, 1, 1, 1, 1, 1, 1, ...   \n",
       "5  [0, 0, 0, 0, 0, 0, 0, 0, 0, 0, 0, 0, 0, 1, 1, ...   \n",
       "6  [0, 0, 0, 0, 0, 0, 0, 0, 0, 0, 1, 1, 1, 1, 1, ...   \n",
       "7  [0, 0, 0, 0, 0, 0, 0, 0, 0, 0, 0, 0, 0, 0, 1, ...   \n",
       "8  [0, 0, 0, 0, 0, 0, 0, 0, 0, 0, 0, 1, 1, 1, 1, ...   \n",
       "9  [0, 0, 0, 0, 0, 1, 1, 1, 1, 1, 1, 1, 1, 1, 1, ...   \n",
       "\n",
       "                                      attention_mask  \n",
       "0  [1, 1, 1, 1, 1, 1, 1, 1, 1, 1, 1, 1, 1, 1, 1, ...  \n",
       "1  [1, 1, 1, 1, 1, 1, 1, 1, 1, 1, 1, 1, 1, 1, 1, ...  \n",
       "2  [1, 1, 1, 1, 1, 1, 1, 1, 1, 1, 1, 1, 1, 1, 1, ...  \n",
       "3  [1, 1, 1, 1, 1, 1, 1, 1, 1, 1, 1, 1, 1, 1, 1, ...  \n",
       "4  [1, 1, 1, 1, 1, 1, 1, 1, 1, 1, 1, 1, 1, 1, 1, ...  \n",
       "5  [1, 1, 1, 1, 1, 1, 1, 1, 1, 1, 1, 1, 1, 1, 1, ...  \n",
       "6  [1, 1, 1, 1, 1, 1, 1, 1, 1, 1, 1, 1, 1, 1, 1, ...  \n",
       "7  [1, 1, 1, 1, 1, 1, 1, 1, 1, 1, 1, 1, 1, 1, 1, ...  \n",
       "8  [1, 1, 1, 1, 1, 1, 1, 1, 1, 1, 1, 1, 1, 1, 1, ...  \n",
       "9  [1, 1, 1, 1, 1, 1, 1, 1, 1, 1, 1, 1, 1, 1, 1, ...  "
      ]
     },
     "execution_count": 25,
     "metadata": {},
     "output_type": "execute_result"
    }
   ],
   "source": [
    "dataset_dict['train'].select(range(10)).to_pandas()"
   ]
  },
  {
   "cell_type": "code",
   "execution_count": 26,
   "metadata": {
    "ExecuteTime": {
     "end_time": "2023-06-25T14:02:17.152640089Z",
     "start_time": "2023-06-25T14:02:17.127430583Z"
    },
    "tags": []
   },
   "outputs": [],
   "source": [
    "# dataset_dict.cache_files"
   ]
  },
  {
   "cell_type": "code",
   "execution_count": 27,
   "metadata": {
    "ExecuteTime": {
     "end_time": "2023-06-25T14:02:17.630398347Z",
     "start_time": "2023-06-25T14:02:17.602245960Z"
    }
   },
   "outputs": [
    {
     "data": {
      "text/plain": [
       "DatasetDict({\n",
       "    train: Dataset({\n",
       "        features: ['resume_id_encoded', 'job_id_sequence', 'job_id_next', 'class', 'title', 'abstract', 'location', 'classification', 'input_ids', 'token_type_ids', 'attention_mask'],\n",
       "        num_rows: 1344086\n",
       "    })\n",
       "    valid: Dataset({\n",
       "        features: ['resume_id_encoded', 'job_id_sequence', 'job_id_next', 'class', 'title', 'abstract', 'location', 'classification', 'input_ids', 'token_type_ids', 'attention_mask'],\n",
       "        num_rows: 168038\n",
       "    })\n",
       "    test: Dataset({\n",
       "        features: ['resume_id_encoded', 'job_id_sequence', 'job_id_next', 'class', 'title', 'abstract', 'location', 'classification', 'input_ids', 'token_type_ids', 'attention_mask'],\n",
       "        num_rows: 187480\n",
       "    })\n",
       "})"
      ]
     },
     "execution_count": 27,
     "metadata": {},
     "output_type": "execute_result"
    }
   ],
   "source": [
    "dataset_dict"
   ]
  },
  {
   "cell_type": "code",
   "execution_count": 28,
   "metadata": {
    "ExecuteTime": {
     "end_time": "2023-06-25T14:02:26.323478351Z",
     "start_time": "2023-06-25T14:02:24.689425475Z"
    }
   },
   "outputs": [
    {
     "data": {
      "text/plain": [
       "DatasetDict({\n",
       "    train: Dataset({\n",
       "        features: ['resume_id_encoded', 'job_id_sequence', 'job_id_next', 'labels', 'input_ids', 'token_type_ids', 'attention_mask'],\n",
       "        num_rows: 1344086\n",
       "    })\n",
       "    valid: Dataset({\n",
       "        features: ['resume_id_encoded', 'job_id_sequence', 'job_id_next', 'labels', 'input_ids', 'token_type_ids', 'attention_mask'],\n",
       "        num_rows: 168038\n",
       "    })\n",
       "    test: Dataset({\n",
       "        features: ['resume_id_encoded', 'job_id_sequence', 'job_id_next', 'labels', 'input_ids', 'token_type_ids', 'attention_mask'],\n",
       "        num_rows: 187480\n",
       "    })\n",
       "})"
      ]
     },
     "execution_count": 28,
     "metadata": {},
     "output_type": "execute_result"
    }
   ],
   "source": [
    "keeping_column_names = [\n",
    "    'input_ids',\n",
    "    'attention_mask',\n",
    "    'token_type_ids',\n",
    "    'job_id_next',\n",
    "    'resume_id_encoded',\n",
    "    'job_id_sequence',\n",
    "    # 'padded_job_id_sequences',\n",
    "    # 'padded_job_id_sequences_padding_mask',\n",
    "    'class'\n",
    "]\n",
    "removing_column_names = [x for x in dataset_dict['train'].column_names if x not in keeping_column_names]\n",
    "\n",
    "dataset_dict = dataset_dict.remove_columns(removing_column_names)\n",
    "dataset_dict = dataset_dict.rename_column('class', 'labels')\n",
    "\n",
    "# dataset_dict.set_format(type='torch')\n",
    "# dataset_dict = dataset_dict.with_format(type='torch')\n",
    "\n",
    "dataset_dict"
   ]
  },
  {
   "cell_type": "code",
   "execution_count": 29,
   "metadata": {
    "ExecuteTime": {
     "end_time": "2023-06-25T14:02:39.074426553Z",
     "start_time": "2023-06-25T14:02:39.066139127Z"
    },
    "collapsed": false,
    "jupyter": {
     "outputs_hidden": false
    },
    "tags": []
   },
   "outputs": [
    {
     "data": {
      "text/plain": [
       "{'type': None,\n",
       " 'format_kwargs': {},\n",
       " 'columns': ['resume_id_encoded',\n",
       "  'job_id_sequence',\n",
       "  'job_id_next',\n",
       "  'labels',\n",
       "  'input_ids',\n",
       "  'token_type_ids',\n",
       "  'attention_mask'],\n",
       " 'output_all_columns': False}"
      ]
     },
     "execution_count": 29,
     "metadata": {},
     "output_type": "execute_result"
    }
   ],
   "source": [
    "dataset_dict['train'].format"
   ]
  },
  {
   "attachments": {},
   "cell_type": "markdown",
   "metadata": {},
   "source": [
    "# Save the DatasetDict to S3"
   ]
  },
  {
   "cell_type": "code",
   "execution_count": 30,
   "metadata": {
    "ExecuteTime": {
     "end_time": "2023-06-25T14:05:08.225945151Z",
     "start_time": "2023-06-25T14:05:01.182906454Z"
    }
   },
   "outputs": [
    {
     "data": {
      "application/vnd.jupyter.widget-view+json": {
       "model_id": "bdbe7c79b6b9488baa6753fd3edca7ff",
       "version_major": 2,
       "version_minor": 0
      },
      "text/plain": [
       "Saving the dataset (0/2 shards):   0%|          | 0/1344086 [00:00<?, ? examples/s]"
      ]
     },
     "metadata": {},
     "output_type": "display_data"
    },
    {
     "data": {
      "application/vnd.jupyter.widget-view+json": {
       "model_id": "d5cc2be107f642b594c0f48869938af4",
       "version_major": 2,
       "version_minor": 0
      },
      "text/plain": [
       "Saving the dataset (0/1 shards):   0%|          | 0/168038 [00:00<?, ? examples/s]"
      ]
     },
     "metadata": {},
     "output_type": "display_data"
    },
    {
     "data": {
      "application/vnd.jupyter.widget-view+json": {
       "model_id": "751d6d4504db4e9e9554cbc140a815ea",
       "version_major": 2,
       "version_minor": 0
      },
      "text/plain": [
       "Saving the dataset (0/1 shards):   0%|          | 0/187480 [00:00<?, ? examples/s]"
      ]
     },
     "metadata": {},
     "output_type": "display_data"
    }
   ],
   "source": [
    "dataset_dict_s3_path = 's3://tyler-s3-bucket/other/interview-projects/seek/final_dataset_dict/'\n",
    "# dataset_dict_s3_path = f'{proj_root_path}/data/tmp_data/final_dataset_dict'\n",
    "\n",
    "dataset_dict.save_to_disk(dataset_dict_path=dataset_dict_s3_path)"
   ]
  },
  {
   "attachments": {},
   "cell_type": "markdown",
   "metadata": {},
   "source": [
    "# Load the DatasetDict from S3"
   ]
  },
  {
   "cell_type": "code",
   "execution_count": 31,
   "metadata": {
    "ExecuteTime": {
     "end_time": "2023-06-25T14:05:27.403579233Z",
     "start_time": "2023-06-25T14:05:27.351138398Z"
    }
   },
   "outputs": [],
   "source": [
    "# Load the DatasetDict from S3\n",
    "dataset_dict_s3_path = 's3://tyler-s3-bucket/other/interview-projects/seek/final_dataset_dict/'\n",
    "# dataset_dict_s3_path = f'{proj_root_path}/data/tmp_data/final_dataset_dict'\n",
    "\n",
    "dataset_dict = DatasetDict.load_from_disk(dataset_dict_path=dataset_dict_s3_path)"
   ]
  },
  {
   "cell_type": "code",
   "execution_count": 32,
   "metadata": {
    "ExecuteTime": {
     "end_time": "2023-06-25T14:05:35.105138475Z",
     "start_time": "2023-06-25T14:05:35.095031269Z"
    },
    "collapsed": false
   },
   "outputs": [
    {
     "data": {
      "text/plain": [
       "{'resume_id_encoded': Value(dtype='int32', id=None),\n",
       " 'job_id_sequence': Value(dtype='string', id=None),\n",
       " 'job_id_next': Value(dtype='int32', id=None),\n",
       " 'labels': Value(dtype='int8', id=None),\n",
       " 'input_ids': Sequence(feature=Value(dtype='int32', id=None), length=-1, id=None),\n",
       " 'token_type_ids': Sequence(feature=Value(dtype='int8', id=None), length=-1, id=None),\n",
       " 'attention_mask': Sequence(feature=Value(dtype='int8', id=None), length=-1, id=None)}"
      ]
     },
     "execution_count": 32,
     "metadata": {},
     "output_type": "execute_result"
    }
   ],
   "source": [
    "dataset_dict['test'].features"
   ]
  },
  {
   "cell_type": "markdown",
   "metadata": {
    "collapsed": false
   },
   "source": [
    "----------------"
   ]
  },
  {
   "cell_type": "markdown",
   "metadata": {
    "collapsed": false
   },
   "source": [
    "# Check"
   ]
  },
  {
   "cell_type": "code",
   "execution_count": null,
   "metadata": {
    "ExecuteTime": {
     "end_time": "2023-06-25T14:05:38.514912567Z",
     "start_time": "2023-06-25T14:05:38.509363517Z"
    },
    "collapsed": false,
    "jupyter": {
     "outputs_hidden": false
    },
    "tags": []
   },
   "outputs": [
    {
     "data": {
      "text/plain": [
       "1"
      ]
     },
     "execution_count": 28,
     "metadata": {},
     "output_type": "execute_result"
    }
   ],
   "source": [
    "torch.cuda.device_count()"
   ]
  },
  {
   "cell_type": "code",
   "execution_count": null,
   "metadata": {
    "ExecuteTime": {
     "end_time": "2023-06-25T14:05:40.171745848Z",
     "start_time": "2023-06-25T14:05:40.166013900Z"
    },
    "collapsed": false,
    "jupyter": {
     "outputs_hidden": false
    },
    "tags": []
   },
   "outputs": [
    {
     "data": {
      "text/plain": [
       "device(type='cuda')"
      ]
     },
     "execution_count": 29,
     "metadata": {},
     "output_type": "execute_result"
    }
   ],
   "source": [
    "device = torch.device(\"cuda\" if torch.cuda.is_available() else \"cpu\")\n",
    "# device = 'cpu'\n",
    "device"
   ]
  },
  {
   "cell_type": "markdown",
   "metadata": {
    "collapsed": false
   },
   "source": [
    "# Check Noam LR scheduler"
   ]
  },
  {
   "cell_type": "code",
   "execution_count": 3,
   "metadata": {
    "ExecuteTime": {
     "end_time": "2023-07-10T08:51:06.920773814Z",
     "start_time": "2023-07-10T08:51:06.520252420Z"
    },
    "collapsed": false
   },
   "outputs": [
    {
     "data": {
      "image/png": "[encoded data removed]",
      "text/plain": [
       "<Figure size 640x480 with 1 Axes>"
      ]
     },
     "metadata": {},
     "output_type": "display_data"
    }
   ],
   "source": [
    "import matplotlib.pyplot as plt\n",
    "import numpy as np\n",
    "d_model = 768\n",
    "\n",
    "def calc_lr(step, dim_embed, warmup_steps):\n",
    "    return dim_embed ** (-0.5) * min(step ** (-0.5), step * warmup_steps ** (-1.5))\n",
    "\n",
    "lr_scheduler_scale_factor = 1 #0.9  # 1.0\n",
    "WARMUP_STEPS = 3000 #10000\n",
    "\n",
    "# lr_scheduler_scale_factor =0.9  # 1.0\n",
    "# WARMUP_STEPS = 6000 #10000\n",
    "\n",
    "_total_steps = 50_000\n",
    "_warmup_steps = WARMUP_STEPS\n",
    "_dim_models = [int(d_model / 2), d_model, d_model * 2]\n",
    "plt.plot(\n",
    "    np.arange(1, _total_steps),\n",
    "    [\n",
    "        [lr_scheduler_scale_factor * calc_lr(i, _dim_model, _warmup_steps) for _dim_model in _dim_models]\n",
    "        for i in range(1, _total_steps)\n",
    "    ]\n",
    ")\n",
    "plt.legend(_dim_models)\n",
    "plt.title(\"Learning Rate\")\n",
    "plt.show()"
   ]
  },
  {
   "cell_type": "code",
   "execution_count": 8,
   "metadata": {
    "ExecuteTime": {
     "end_time": "2023-07-13T06:32:48.111324625Z",
     "start_time": "2023-07-13T06:32:44.718328553Z"
    }
   },
   "outputs": [
    {
     "data": {
      "image/png": "[encoded data removed]",
      "text/plain": [
       "<Figure size 640x480 with 1 Axes>"
      ]
     },
     "metadata": {},
     "output_type": "display_data"
    }
   ],
   "source": [
    "import matplotlib.pyplot as plt\n",
    "import numpy as np\n",
    "d_model = 768\n",
    "\n",
    "def calc_lr(step, dim_embed, warmup_steps):\n",
    "    return dim_embed ** (-0.5) * min(step ** (-0.5), step * warmup_steps ** (-1.5))\n",
    "\n",
    "lr_scheduler_scale_factor = 1 #0.9  # 1.0\n",
    "WARMUP_STEPS = 3000 #10000\n",
    "\n",
    "# lr_scheduler_scale_factor =0.9  # 1.0\n",
    "# WARMUP_STEPS = 6000 #10000\n",
    "\n",
    "_total_steps = 50_000  # 50_000\n",
    "_warmup_steps = WARMUP_STEPS\n",
    "# _dim_models = [int(d_model / 2), d_model, d_model * 2]\n",
    "plt.plot(\n",
    "    np.arange(1, _total_steps),\n",
    "    [\n",
    "        [\n",
    "            # 1.0 * calc_lr(i, 768, 3000),\n",
    "            1.0 * calc_lr(i, 768, 10000),\n",
    "            # 1.0 * calc_lr(i, 768, 15000),\n",
    "            # # 0.7 * calc_lr(i, 768, 15000),\n",
    "            1.0 * calc_lr(i, 768, 3000),\n",
    "            0.5 * calc_lr(i, 768, 3000),\n",
    "            0.3 * calc_lr(i, 768, 3000),\n",
    "            # 1.0 * calc_lr(i, 768, 1000)\n",
    "            0.4 * calc_lr(i, 768, 1000),\n",
    "        ]\n",
    "        for i in range(1, _total_steps)\n",
    "    ]\n",
    ")\n",
    "plt.legend([\n",
    "    # 3000,\n",
    "    10000,\n",
    "    # 15000,\n",
    "    # # '0.7*15000',\n",
    "    '1.0*3000',\n",
    "    '0.5*3000',\n",
    "    '0.3*3000',\n",
    "    '0.4*1000'\n",
    "])\n",
    "plt.title(\"Learning Rate\")\n",
    "plt.show()"
   ]
  },
  {
   "cell_type": "code",
   "execution_count": null,
   "metadata": {},
   "outputs": [],
   "source": []
  }
 ],
 "metadata": {
  "kernelspec": {
   "display_name": "Python 3",
   "language": "python",
   "name": "python3"
  },
  "language_info": {
   "codemirror_mode": {
    "name": "ipython",
    "version": 3
   },
   "file_extension": ".py",
   "mimetype": "text/x-python",
   "name": "python",
   "nbconvert_exporter": "python",
   "pygments_lexer": "ipython3",
   "version": "3.10.12"
  }
 },
 "nbformat": 4,
 "nbformat_minor": 4
}
