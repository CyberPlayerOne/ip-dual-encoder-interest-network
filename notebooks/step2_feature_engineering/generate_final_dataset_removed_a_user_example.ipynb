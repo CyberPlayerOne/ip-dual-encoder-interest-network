{
 "cells": [
  {
   "cell_type": "code",
   "execution_count": 1,
   "metadata": {
    "collapsed": true,
    "ExecuteTime": {
     "end_time": "2023-07-04T18:13:24.621574260Z",
     "start_time": "2023-07-04T18:13:23.342083954Z"
    }
   },
   "outputs": [
    {
     "name": "stdout",
     "output_type": "stream",
     "text": [
      "/root/work\n"
     ]
    }
   ],
   "source": [
    "import os\n",
    "\n",
    "print(os.getcwd())\n",
    "import pandas as pd\n",
    "import numpy as np\n",
    "from tqdm.notebook import tqdm\n",
    "import matplotlib.pyplot as plt\n",
    "\n",
    "from sklearn.model_selection import TimeSeriesSplit\n",
    "from sklearn.model_selection import train_test_split"
   ]
  },
  {
   "cell_type": "code",
   "execution_count": 2,
   "metadata": {
    "collapsed": false,
    "ExecuteTime": {
     "end_time": "2023-07-04T18:13:27.908754709Z",
     "start_time": "2023-07-04T18:13:27.068056473Z"
    }
   },
   "outputs": [],
   "source": [
    "input_processed_path = '/root/projects/PythonProjects/ip-dual-encoder-factorization-machine/data/input_processed/'\n",
    "df_events = pd.read_csv(input_processed_path + 'ads-50k-events_processed.csv')"
   ]
  },
  {
   "cell_type": "code",
   "execution_count": 3,
   "metadata": {
    "collapsed": false,
    "ExecuteTime": {
     "end_time": "2023-07-04T18:13:28.654605563Z",
     "start_time": "2023-07-04T18:13:28.613541301Z"
    }
   },
   "outputs": [
    {
     "data": {
      "text/plain": "              event_datetime  resume_id    job_id kind\n0        2021-05-01 08:42:05     158655  38820886    V\n1        2021-05-01 08:42:05     158655  38901970    V\n2        2021-05-01 08:42:05     158655  38919645    V\n3        2021-05-01 08:42:05     158655  38928402    V\n4        2021-05-01 08:42:05     158655  38847632    V\n...                      ...        ...       ...  ...\n1153682  2021-05-01 22:29:00      11124  38933688    V\n1153683  2021-05-01 22:29:00      11124  38992991    V\n1153684  2021-05-01 22:29:00      11124  38821247    V\n1153685  2021-05-01 22:29:00      11124  38899420    V\n1153686  2021-05-01 22:29:00      11124  38863789    V\n\n[1153687 rows x 4 columns]",
      "text/html": "<div>\n<style scoped>\n    .dataframe tbody tr th:only-of-type {\n        vertical-align: middle;\n    }\n\n    .dataframe tbody tr th {\n        vertical-align: top;\n    }\n\n    .dataframe thead th {\n        text-align: right;\n    }\n</style>\n<table border=\"1\" class=\"dataframe\">\n  <thead>\n    <tr style=\"text-align: right;\">\n      <th></th>\n      <th>event_datetime</th>\n      <th>resume_id</th>\n      <th>job_id</th>\n      <th>kind</th>\n    </tr>\n  </thead>\n  <tbody>\n    <tr>\n      <th>0</th>\n      <td>2021-05-01 08:42:05</td>\n      <td>158655</td>\n      <td>38820886</td>\n      <td>V</td>\n    </tr>\n    <tr>\n      <th>1</th>\n      <td>2021-05-01 08:42:05</td>\n      <td>158655</td>\n      <td>38901970</td>\n      <td>V</td>\n    </tr>\n    <tr>\n      <th>2</th>\n      <td>2021-05-01 08:42:05</td>\n      <td>158655</td>\n      <td>38919645</td>\n      <td>V</td>\n    </tr>\n    <tr>\n      <th>3</th>\n      <td>2021-05-01 08:42:05</td>\n      <td>158655</td>\n      <td>38928402</td>\n      <td>V</td>\n    </tr>\n    <tr>\n      <th>4</th>\n      <td>2021-05-01 08:42:05</td>\n      <td>158655</td>\n      <td>38847632</td>\n      <td>V</td>\n    </tr>\n    <tr>\n      <th>...</th>\n      <td>...</td>\n      <td>...</td>\n      <td>...</td>\n      <td>...</td>\n    </tr>\n    <tr>\n      <th>1153682</th>\n      <td>2021-05-01 22:29:00</td>\n      <td>11124</td>\n      <td>38933688</td>\n      <td>V</td>\n    </tr>\n    <tr>\n      <th>1153683</th>\n      <td>2021-05-01 22:29:00</td>\n      <td>11124</td>\n      <td>38992991</td>\n      <td>V</td>\n    </tr>\n    <tr>\n      <th>1153684</th>\n      <td>2021-05-01 22:29:00</td>\n      <td>11124</td>\n      <td>38821247</td>\n      <td>V</td>\n    </tr>\n    <tr>\n      <th>1153685</th>\n      <td>2021-05-01 22:29:00</td>\n      <td>11124</td>\n      <td>38899420</td>\n      <td>V</td>\n    </tr>\n    <tr>\n      <th>1153686</th>\n      <td>2021-05-01 22:29:00</td>\n      <td>11124</td>\n      <td>38863789</td>\n      <td>V</td>\n    </tr>\n  </tbody>\n</table>\n<p>1153687 rows × 4 columns</p>\n</div>"
     },
     "execution_count": 3,
     "metadata": {},
     "output_type": "execute_result"
    }
   ],
   "source": [
    "df_events"
   ]
  },
  {
   "cell_type": "code",
   "execution_count": 4,
   "metadata": {
    "collapsed": false,
    "ExecuteTime": {
     "end_time": "2023-07-04T18:13:31.569444233Z",
     "start_time": "2023-07-04T18:13:29.198508996Z"
    }
   },
   "outputs": [],
   "source": [
    "df_ads = pd.read_json(input_processed_path + 'ads-50k_processed.json')\n",
    "df_ads = df_ads[[c for c in df_ads.columns if c not in ['content']]].rename(columns={'id': 'job_id'})\n",
    "df_ads = df_ads.rename(columns={'id': 'job_id'})"
   ]
  },
  {
   "cell_type": "code",
   "execution_count": 5,
   "metadata": {
    "collapsed": false,
    "ExecuteTime": {
     "end_time": "2023-07-04T18:13:31.590440225Z",
     "start_time": "2023-07-04T18:13:31.577064725Z"
    }
   },
   "outputs": [
    {
     "data": {
      "text/plain": "     job_id                                              title  \\\n0  38915469                             Recruitment Consultant   \n1  38934839                     Computers Salesperson - Coburg   \n2  38946054                              Senior Developer | SA   \n3  38833950  Senior Commercial Property Manager | Leading T...   \n4  38856271               Technology Manager | Travel Industry   \n\n                                            abstract   location  \\\n0  We are looking for someone to focus purely on ...     Sydney   \n1  Passionate about exceptional customer service?...  Melbourne   \n2  Readifarians are known for discovering the lat...   Adelaide   \n3  ~ Rare opportunity for a Senior PM to step int...  Melbourne   \n4  Rare opportunity for an experienced Technology...   Auckland   \n\n                           classification  \\\n0                    Education & Training   \n1              Retail & Consumer Products   \n2  Information & Communication Technology   \n3                  Real Estate & Property   \n4  Information & Communication Technology   \n\n                          sub_classification        work_type  \n0                                      Other        Full Time  \n1                          Retail Assistants  Casual/Vacation  \n2                                Consultants        Full Time  \n3  Commercial Sales, Leasing & Property Mgmt        Full Time  \n4                                 Management        Full Time  ",
      "text/html": "<div>\n<style scoped>\n    .dataframe tbody tr th:only-of-type {\n        vertical-align: middle;\n    }\n\n    .dataframe tbody tr th {\n        vertical-align: top;\n    }\n\n    .dataframe thead th {\n        text-align: right;\n    }\n</style>\n<table border=\"1\" class=\"dataframe\">\n  <thead>\n    <tr style=\"text-align: right;\">\n      <th></th>\n      <th>job_id</th>\n      <th>title</th>\n      <th>abstract</th>\n      <th>location</th>\n      <th>classification</th>\n      <th>sub_classification</th>\n      <th>work_type</th>\n    </tr>\n  </thead>\n  <tbody>\n    <tr>\n      <th>0</th>\n      <td>38915469</td>\n      <td>Recruitment Consultant</td>\n      <td>We are looking for someone to focus purely on ...</td>\n      <td>Sydney</td>\n      <td>Education &amp; Training</td>\n      <td>Other</td>\n      <td>Full Time</td>\n    </tr>\n    <tr>\n      <th>1</th>\n      <td>38934839</td>\n      <td>Computers Salesperson - Coburg</td>\n      <td>Passionate about exceptional customer service?...</td>\n      <td>Melbourne</td>\n      <td>Retail &amp; Consumer Products</td>\n      <td>Retail Assistants</td>\n      <td>Casual/Vacation</td>\n    </tr>\n    <tr>\n      <th>2</th>\n      <td>38946054</td>\n      <td>Senior Developer | SA</td>\n      <td>Readifarians are known for discovering the lat...</td>\n      <td>Adelaide</td>\n      <td>Information &amp; Communication Technology</td>\n      <td>Consultants</td>\n      <td>Full Time</td>\n    </tr>\n    <tr>\n      <th>3</th>\n      <td>38833950</td>\n      <td>Senior Commercial Property Manager | Leading T...</td>\n      <td>~ Rare opportunity for a Senior PM to step int...</td>\n      <td>Melbourne</td>\n      <td>Real Estate &amp; Property</td>\n      <td>Commercial Sales, Leasing &amp; Property Mgmt</td>\n      <td>Full Time</td>\n    </tr>\n    <tr>\n      <th>4</th>\n      <td>38856271</td>\n      <td>Technology Manager | Travel Industry</td>\n      <td>Rare opportunity for an experienced Technology...</td>\n      <td>Auckland</td>\n      <td>Information &amp; Communication Technology</td>\n      <td>Management</td>\n      <td>Full Time</td>\n    </tr>\n  </tbody>\n</table>\n</div>"
     },
     "execution_count": 5,
     "metadata": {},
     "output_type": "execute_result"
    }
   ],
   "source": [
    "df_ads.head()"
   ]
  },
  {
   "attachments": {},
   "cell_type": "markdown",
   "metadata": {
    "collapsed": false
   },
   "source": [
    "# Using the view data only"
   ]
  },
  {
   "cell_type": "code",
   "execution_count": 6,
   "metadata": {
    "collapsed": false,
    "ExecuteTime": {
     "end_time": "2023-07-04T18:13:33.107565721Z",
     "start_time": "2023-07-04T18:13:32.930326462Z"
    }
   },
   "outputs": [
    {
     "name": "stdout",
     "output_type": "stream",
     "text": [
      "1153687\n"
     ]
    },
    {
     "data": {
      "text/plain": "1055197"
     },
     "execution_count": 6,
     "metadata": {},
     "output_type": "execute_result"
    }
   ],
   "source": [
    "print(len(df_events.index))\n",
    "df_events_view = df_events[df_events['kind'] == 'V']\n",
    "\n",
    "# del df_events\n",
    "len(df_events_view.index)"
   ]
  },
  {
   "attachments": {},
   "cell_type": "markdown",
   "metadata": {
    "collapsed": false
   },
   "source": [
    "# Sort the events in temporal order"
   ]
  },
  {
   "cell_type": "code",
   "execution_count": 7,
   "metadata": {
    "collapsed": false,
    "ExecuteTime": {
     "end_time": "2023-07-04T18:13:35.419039480Z",
     "start_time": "2023-07-04T18:13:34.191506098Z"
    }
   },
   "outputs": [
    {
     "data": {
      "text/plain": "              event_datetime  resume_id    job_id\n0        2021-05-01 00:00:00         56  38897127\n1        2021-05-01 00:00:00         56  38898981\n2        2021-05-01 00:00:00         56  38847385\n3        2021-05-01 00:00:00         56  38941368\n4        2021-05-01 00:00:00         56  38929330\n...                      ...        ...       ...\n1055192  2021-05-01 23:58:54     279295  38959729\n1055193  2021-05-01 23:58:54     279295  38983909\n1055194  2021-05-01 23:58:54     279295  38861202\n1055195  2021-05-01 23:58:54     279295  38849122\n1055196  2021-05-01 23:58:54     279295  38934528\n\n[1055197 rows x 3 columns]",
      "text/html": "<div>\n<style scoped>\n    .dataframe tbody tr th:only-of-type {\n        vertical-align: middle;\n    }\n\n    .dataframe tbody tr th {\n        vertical-align: top;\n    }\n\n    .dataframe thead th {\n        text-align: right;\n    }\n</style>\n<table border=\"1\" class=\"dataframe\">\n  <thead>\n    <tr style=\"text-align: right;\">\n      <th></th>\n      <th>event_datetime</th>\n      <th>resume_id</th>\n      <th>job_id</th>\n    </tr>\n  </thead>\n  <tbody>\n    <tr>\n      <th>0</th>\n      <td>2021-05-01 00:00:00</td>\n      <td>56</td>\n      <td>38897127</td>\n    </tr>\n    <tr>\n      <th>1</th>\n      <td>2021-05-01 00:00:00</td>\n      <td>56</td>\n      <td>38898981</td>\n    </tr>\n    <tr>\n      <th>2</th>\n      <td>2021-05-01 00:00:00</td>\n      <td>56</td>\n      <td>38847385</td>\n    </tr>\n    <tr>\n      <th>3</th>\n      <td>2021-05-01 00:00:00</td>\n      <td>56</td>\n      <td>38941368</td>\n    </tr>\n    <tr>\n      <th>4</th>\n      <td>2021-05-01 00:00:00</td>\n      <td>56</td>\n      <td>38929330</td>\n    </tr>\n    <tr>\n      <th>...</th>\n      <td>...</td>\n      <td>...</td>\n      <td>...</td>\n    </tr>\n    <tr>\n      <th>1055192</th>\n      <td>2021-05-01 23:58:54</td>\n      <td>279295</td>\n      <td>38959729</td>\n    </tr>\n    <tr>\n      <th>1055193</th>\n      <td>2021-05-01 23:58:54</td>\n      <td>279295</td>\n      <td>38983909</td>\n    </tr>\n    <tr>\n      <th>1055194</th>\n      <td>2021-05-01 23:58:54</td>\n      <td>279295</td>\n      <td>38861202</td>\n    </tr>\n    <tr>\n      <th>1055195</th>\n      <td>2021-05-01 23:58:54</td>\n      <td>279295</td>\n      <td>38849122</td>\n    </tr>\n    <tr>\n      <th>1055196</th>\n      <td>2021-05-01 23:58:54</td>\n      <td>279295</td>\n      <td>38934528</td>\n    </tr>\n  </tbody>\n</table>\n<p>1055197 rows × 3 columns</p>\n</div>"
     },
     "execution_count": 7,
     "metadata": {},
     "output_type": "execute_result"
    }
   ],
   "source": [
    "df_events_view = df_events_view.sort_values('event_datetime', ascending=True).drop(columns='kind').reset_index(drop=True)\n",
    "df_events_view"
   ]
  },
  {
   "attachments": {},
   "cell_type": "markdown",
   "metadata": {
    "collapsed": false
   },
   "source": [
    "# Item popularities\n",
    "Will be used in popularity-biased negative sampling"
   ]
  },
  {
   "cell_type": "code",
   "execution_count": 8,
   "metadata": {
    "collapsed": false,
    "ExecuteTime": {
     "end_time": "2023-07-04T18:13:36.153349192Z",
     "start_time": "2023-07-04T18:13:36.078775573Z"
    }
   },
   "outputs": [
    {
     "data": {
      "text/plain": "48204"
     },
     "execution_count": 8,
     "metadata": {},
     "output_type": "execute_result"
    }
   ],
   "source": [
    "# set_vocab_job_ids = set(df_events_view['job_id'].unique())\n",
    "# len(set_vocab_job_ids)\n",
    "df_events_view['job_id'].nunique()"
   ]
  },
  {
   "cell_type": "code",
   "execution_count": 9,
   "metadata": {
    "collapsed": false,
    "ExecuteTime": {
     "end_time": "2023-07-04T18:13:39.734763455Z",
     "start_time": "2023-07-04T18:13:36.634990245Z"
    }
   },
   "outputs": [
    {
     "data": {
      "text/plain": "         job_id  num_resume_ids  num_resume_ids_pow2a\n0      34651092              83              9.110434\n1      35777980              28              5.291503\n2      36159727              59              7.681146\n3      36732624               2              1.414214\n4      36883097               9              3.000000\n...         ...             ...                   ...\n48199  39084900               4              2.000000\n48200  39084994              13              3.605551\n48201  39085046              39              6.244998\n48202  39085061               2              1.414214\n48203  39085071              78              8.831761\n\n[48204 rows x 3 columns]",
      "text/html": "<div>\n<style scoped>\n    .dataframe tbody tr th:only-of-type {\n        vertical-align: middle;\n    }\n\n    .dataframe tbody tr th {\n        vertical-align: top;\n    }\n\n    .dataframe thead th {\n        text-align: right;\n    }\n</style>\n<table border=\"1\" class=\"dataframe\">\n  <thead>\n    <tr style=\"text-align: right;\">\n      <th></th>\n      <th>job_id</th>\n      <th>num_resume_ids</th>\n      <th>num_resume_ids_pow2a</th>\n    </tr>\n  </thead>\n  <tbody>\n    <tr>\n      <th>0</th>\n      <td>34651092</td>\n      <td>83</td>\n      <td>9.110434</td>\n    </tr>\n    <tr>\n      <th>1</th>\n      <td>35777980</td>\n      <td>28</td>\n      <td>5.291503</td>\n    </tr>\n    <tr>\n      <th>2</th>\n      <td>36159727</td>\n      <td>59</td>\n      <td>7.681146</td>\n    </tr>\n    <tr>\n      <th>3</th>\n      <td>36732624</td>\n      <td>2</td>\n      <td>1.414214</td>\n    </tr>\n    <tr>\n      <th>4</th>\n      <td>36883097</td>\n      <td>9</td>\n      <td>3.000000</td>\n    </tr>\n    <tr>\n      <th>...</th>\n      <td>...</td>\n      <td>...</td>\n      <td>...</td>\n    </tr>\n    <tr>\n      <th>48199</th>\n      <td>39084900</td>\n      <td>4</td>\n      <td>2.000000</td>\n    </tr>\n    <tr>\n      <th>48200</th>\n      <td>39084994</td>\n      <td>13</td>\n      <td>3.605551</td>\n    </tr>\n    <tr>\n      <th>48201</th>\n      <td>39085046</td>\n      <td>39</td>\n      <td>6.244998</td>\n    </tr>\n    <tr>\n      <th>48202</th>\n      <td>39085061</td>\n      <td>2</td>\n      <td>1.414214</td>\n    </tr>\n    <tr>\n      <th>48203</th>\n      <td>39085071</td>\n      <td>78</td>\n      <td>8.831761</td>\n    </tr>\n  </tbody>\n</table>\n<p>48204 rows × 3 columns</p>\n</div>"
     },
     "execution_count": 9,
     "metadata": {},
     "output_type": "execute_result"
    }
   ],
   "source": [
    "df_job_id_popularity = df_events_view.groupby('job_id').agg({'resume_id': lambda x: x.nunique()}).reset_index().rename(columns={'resume_id': 'num_resume_ids'})\n",
    "# alpha = 0.75\n",
    "alpha = 0.5\n",
    "# sum_pop = df_job_id_popularity['num_resume_ids'].pow(alpha).sum()\n",
    "# df_job_id_popularity['prob_popularity'] = df_job_id_popularity['num_resume_ids'].pow(alpha)/sum_pop\n",
    "\n",
    "df_job_id_popularity['num_resume_ids_pow2a'] = df_job_id_popularity['num_resume_ids'].pow(alpha)\n",
    "\n",
    "df_job_id_popularity"
   ]
  },
  {
   "cell_type": "code",
   "execution_count": 10,
   "metadata": {
    "collapsed": false,
    "ExecuteTime": {
     "end_time": "2023-07-04T18:13:39.738884598Z",
     "start_time": "2023-07-04T18:13:39.735341732Z"
    }
   },
   "outputs": [],
   "source": [
    "# df_job_id_popularity['prob_popularity'].sum()"
   ]
  },
  {
   "attachments": {},
   "cell_type": "markdown",
   "metadata": {
    "collapsed": false
   },
   "source": [
    "# Select Users with number of unique `job_id` between 10 and 250\n",
    "max_len = 250"
   ]
  },
  {
   "cell_type": "code",
   "execution_count": 11,
   "outputs": [],
   "source": [
    "min_num_job_ids = 10\n",
    "max_num_job_ids = 250"
   ],
   "metadata": {
    "collapsed": false,
    "ExecuteTime": {
     "end_time": "2023-07-04T18:13:40.881686613Z",
     "start_time": "2023-07-04T18:13:40.856701762Z"
    }
   }
  },
  {
   "cell_type": "code",
   "execution_count": 12,
   "metadata": {
    "collapsed": false,
    "ExecuteTime": {
     "end_time": "2023-07-04T18:13:44.634895492Z",
     "start_time": "2023-07-04T18:13:41.508794968Z"
    }
   },
   "outputs": [
    {
     "name": "stdout",
     "output_type": "stream",
     "text": [
      "10 1921\n"
     ]
    },
    {
     "data": {
      "text/plain": "<Axes: ylabel='Frequency'>"
     },
     "execution_count": 12,
     "metadata": {},
     "output_type": "execute_result"
    },
    {
     "data": {
      "text/plain": "<Figure size 640x480 with 1 Axes>",
      "image/png": "[encoded data removed]"
     },
     "metadata": {},
     "output_type": "display_data"
    }
   ],
   "source": [
    "# df_users_times = df_events_view.groupby('resume_id')['event_datetime'].agg(lambda x: x.nunique()).reset_index()#['event_datetime'].plot.hist(bins=100)\n",
    "# df_users_times[df_users_times['event_datetime']>=5]\n",
    "\n",
    "df_users_times = df_events_view.groupby('resume_id')['job_id'].agg(lambda x: x.nunique()).reset_index().rename(columns={'job_id': 'num_job_ids'})\n",
    "\n",
    "print(df_users_times['num_job_ids'].min(), df_users_times['num_job_ids'].max())\n",
    "df_users_times['num_job_ids'].plot.hist(bins=1000)\n"
   ]
  },
  {
   "cell_type": "code",
   "execution_count": 13,
   "metadata": {
    "collapsed": false,
    "ExecuteTime": {
     "end_time": "2023-07-04T18:13:45.288146008Z",
     "start_time": "2023-07-04T18:13:44.635360441Z"
    }
   },
   "outputs": [
    {
     "data": {
      "text/plain": "<Axes: ylabel='Frequency'>"
     },
     "execution_count": 13,
     "metadata": {},
     "output_type": "execute_result"
    },
    {
     "data": {
      "text/plain": "<Figure size 640x480 with 1 Axes>",
      "image/png": "[encoded data removed]"
     },
     "metadata": {},
     "output_type": "display_data"
    }
   ],
   "source": [
    "df_users_active = df_users_times[(df_users_times['num_job_ids'] >= min_num_job_ids) & (df_users_times['num_job_ids'] <= max_num_job_ids)].copy()\n",
    "del df_users_times\n",
    "df_users_active['num_job_ids'].plot.hist(bins=500)"
   ]
  },
  {
   "cell_type": "code",
   "execution_count": 14,
   "metadata": {
    "collapsed": false,
    "ExecuteTime": {
     "end_time": "2023-07-04T18:13:45.962783671Z",
     "start_time": "2023-07-04T18:13:45.920107861Z"
    }
   },
   "outputs": [
    {
     "data": {
      "text/plain": "       resume_id  num_job_ids\n0              1           25\n1              2           62\n2              4           32\n3              5           15\n4              6          148\n...          ...          ...\n20154     394601           11\n20155     394625           30\n20156     394630           10\n20157     394632           12\n20158     394643           40\n\n[19672 rows x 2 columns]",
      "text/html": "<div>\n<style scoped>\n    .dataframe tbody tr th:only-of-type {\n        vertical-align: middle;\n    }\n\n    .dataframe tbody tr th {\n        vertical-align: top;\n    }\n\n    .dataframe thead th {\n        text-align: right;\n    }\n</style>\n<table border=\"1\" class=\"dataframe\">\n  <thead>\n    <tr style=\"text-align: right;\">\n      <th></th>\n      <th>resume_id</th>\n      <th>num_job_ids</th>\n    </tr>\n  </thead>\n  <tbody>\n    <tr>\n      <th>0</th>\n      <td>1</td>\n      <td>25</td>\n    </tr>\n    <tr>\n      <th>1</th>\n      <td>2</td>\n      <td>62</td>\n    </tr>\n    <tr>\n      <th>2</th>\n      <td>4</td>\n      <td>32</td>\n    </tr>\n    <tr>\n      <th>3</th>\n      <td>5</td>\n      <td>15</td>\n    </tr>\n    <tr>\n      <th>4</th>\n      <td>6</td>\n      <td>148</td>\n    </tr>\n    <tr>\n      <th>...</th>\n      <td>...</td>\n      <td>...</td>\n    </tr>\n    <tr>\n      <th>20154</th>\n      <td>394601</td>\n      <td>11</td>\n    </tr>\n    <tr>\n      <th>20155</th>\n      <td>394625</td>\n      <td>30</td>\n    </tr>\n    <tr>\n      <th>20156</th>\n      <td>394630</td>\n      <td>10</td>\n    </tr>\n    <tr>\n      <th>20157</th>\n      <td>394632</td>\n      <td>12</td>\n    </tr>\n    <tr>\n      <th>20158</th>\n      <td>394643</td>\n      <td>40</td>\n    </tr>\n  </tbody>\n</table>\n<p>19672 rows × 2 columns</p>\n</div>"
     },
     "execution_count": 14,
     "metadata": {},
     "output_type": "execute_result"
    }
   ],
   "source": [
    "df_users_active"
   ]
  },
  {
   "attachments": {},
   "cell_type": "markdown",
   "metadata": {
    "collapsed": false
   },
   "source": [
    "# Encode resume_ids and job_ids as `input_ids`"
   ]
  },
  {
   "cell_type": "code",
   "execution_count": 15,
   "metadata": {
    "collapsed": false,
    "ExecuteTime": {
     "end_time": "2023-07-04T18:13:47.291602036Z",
     "start_time": "2023-07-04T18:13:47.244102301Z"
    }
   },
   "outputs": [
    {
     "name": "stdout",
     "output_type": "stream",
     "text": [
      "Before selecting the subsets:\n",
      "20159\n",
      "48207\n"
     ]
    }
   ],
   "source": [
    "print('Before selecting the subsets:')\n",
    "print(df_events['resume_id'].nunique())\n",
    "print(df_events['job_id'].nunique())\n",
    "\n",
    "del df_events"
   ]
  },
  {
   "cell_type": "markdown",
   "source": [
    "Embedding sizes in the model"
   ],
   "metadata": {
    "collapsed": false
   }
  },
  {
   "cell_type": "code",
   "execution_count": 16,
   "metadata": {
    "collapsed": false,
    "ExecuteTime": {
     "end_time": "2023-07-04T18:13:48.743100443Z",
     "start_time": "2023-07-04T18:13:48.691983026Z"
    }
   },
   "outputs": [
    {
     "name": "stdout",
     "output_type": "stream",
     "text": [
      "Num of unique users: 19672\n",
      "Num of unique job ids: 47844\n"
     ]
    }
   ],
   "source": [
    "print('Num of unique users:', df_users_active['resume_id'].nunique())\n",
    "\n",
    "df_events_view_active = df_events_view.loc[df_events_view['resume_id'].isin(df_users_active['resume_id'])].copy()\n",
    "del df_events_view\n",
    "print('Num of unique job ids:', df_events_view_active['job_id'].nunique())"
   ]
  },
  {
   "attachments": {},
   "cell_type": "markdown",
   "metadata": {
    "collapsed": false
   },
   "source": [
    "encoding the resume_ids"
   ]
  },
  {
   "cell_type": "code",
   "execution_count": 17,
   "metadata": {
    "collapsed": false,
    "ExecuteTime": {
     "end_time": "2023-07-04T18:13:50.209537571Z",
     "start_time": "2023-07-04T18:13:50.143069668Z"
    }
   },
   "outputs": [
    {
     "name": "stdout",
     "output_type": "stream",
     "text": [
      "0 19671 0 19671\n",
      "1 19672 1 19672\n"
     ]
    }
   ],
   "source": [
    "from sklearn import preprocessing\n",
    "\n",
    "le_resume_ids = preprocessing.LabelEncoder()\n",
    "le_resume_ids.fit(df_users_active['resume_id'])\n",
    "\n",
    "df_users_active['resume_id_encoded'] = le_resume_ids.transform(df_users_active['resume_id'])\n",
    "df_events_view_active['resume_id_encoded'] = le_resume_ids.transform(df_events_view_active['resume_id'])\n",
    "\n",
    "#----------------\n",
    "print(df_users_active['resume_id_encoded'].min(), df_users_active['resume_id_encoded'].max(), df_events_view_active['resume_id_encoded'].min(), df_events_view_active['resume_id_encoded'].max())\n",
    "\n",
    "# reserve 0th as padding\n",
    "df_users_active['resume_id_encoded'] += 1\n",
    "df_events_view_active['resume_id_encoded'] += 1\n",
    "\n",
    "print(df_users_active['resume_id_encoded'].min(), df_users_active['resume_id_encoded'].max(), df_events_view_active['resume_id_encoded'].min(), df_events_view_active['resume_id_encoded'].max())\n"
   ]
  },
  {
   "cell_type": "code",
   "execution_count": 18,
   "metadata": {
    "collapsed": false,
    "ExecuteTime": {
     "end_time": "2023-07-04T18:13:51.111608968Z",
     "start_time": "2023-07-04T18:13:51.074808548Z"
    }
   },
   "outputs": [
    {
     "data": {
      "text/plain": "(19672, 19672)"
     },
     "execution_count": 18,
     "metadata": {},
     "output_type": "execute_result"
    }
   ],
   "source": [
    "df_events_view_active['resume_id_encoded'].nunique(), df_users_active['resume_id_encoded'].nunique()"
   ]
  },
  {
   "attachments": {},
   "cell_type": "markdown",
   "metadata": {
    "collapsed": false
   },
   "source": [
    "encode the job_ids"
   ]
  },
  {
   "cell_type": "code",
   "execution_count": 19,
   "metadata": {
    "collapsed": false,
    "ExecuteTime": {
     "end_time": "2023-07-04T18:13:52.576479964Z",
     "start_time": "2023-07-04T18:13:52.366392673Z"
    }
   },
   "outputs": [
    {
     "name": "stdout",
     "output_type": "stream",
     "text": [
      "47844\n",
      "47844\n",
      "47844\n",
      "0 47843\n",
      "1 47844\n"
     ]
    }
   ],
   "source": [
    "le_job_ids = preprocessing.LabelEncoder()\n",
    "le_job_ids.fit(df_events_view_active['job_id'])\n",
    "\n",
    "df_events_view_active['job_id_encoded'] = le_job_ids.transform(df_events_view_active['job_id'])\n",
    "print(df_events_view_active['job_id_encoded'].nunique())\n",
    "\n",
    "df_ads_active = df_ads[df_ads['job_id'].isin(le_job_ids.classes_)].copy()\n",
    "del df_ads\n",
    "df_ads_active['job_id_encoded'] = le_job_ids.transform(df_ads_active['job_id'])\n",
    "print(df_ads_active['job_id_encoded'].nunique())\n",
    "\n",
    "df_job_id_popularity_active = df_job_id_popularity[df_job_id_popularity['job_id'].isin(le_job_ids.classes_)].copy()\n",
    "del df_job_id_popularity\n",
    "df_job_id_popularity_active['job_id_encoded'] = le_job_ids.transform(df_job_id_popularity_active['job_id'])\n",
    "print(df_job_id_popularity_active['job_id_encoded'].nunique())\n",
    "\n",
    "#----------------------------\n",
    "print(df_events_view_active['job_id_encoded'].min(), df_events_view_active['job_id_encoded'].max())\n",
    "# reserve 0th as padding\n",
    "df_events_view_active['job_id_encoded'] += 1\n",
    "df_ads_active['job_id_encoded'] += 1\n",
    "df_job_id_popularity_active['job_id_encoded'] += 1\n",
    "print(df_events_view_active['job_id_encoded'].min(), df_events_view_active['job_id_encoded'].max())"
   ]
  },
  {
   "cell_type": "code",
   "execution_count": 20,
   "metadata": {
    "collapsed": false,
    "ExecuteTime": {
     "end_time": "2023-07-04T18:13:53.500286199Z",
     "start_time": "2023-07-04T18:13:53.350564476Z"
    }
   },
   "outputs": [],
   "source": [
    "assert df_users_active.resume_id.nunique() == df_users_active.resume_id_encoded.nunique()\n",
    "assert df_events_view_active.resume_id.nunique() == df_events_view_active.resume_id_encoded.nunique()\n",
    "assert df_events_view_active.job_id.nunique() == df_events_view_active.job_id_encoded.nunique()\n",
    "assert df_ads_active.job_id.nunique() == df_ads_active.job_id_encoded.nunique()\n",
    "assert df_job_id_popularity_active.job_id.nunique() == df_job_id_popularity_active.job_id_encoded.nunique()"
   ]
  },
  {
   "cell_type": "code",
   "execution_count": 21,
   "metadata": {
    "collapsed": false,
    "ExecuteTime": {
     "end_time": "2023-07-04T18:13:54.840869166Z",
     "start_time": "2023-07-04T18:13:54.760219443Z"
    }
   },
   "outputs": [],
   "source": [
    "df_users_active = df_users_active.drop(columns='resume_id')\n",
    "df_events_view_active = df_events_view_active.drop(columns=['resume_id', 'job_id'])\n",
    "df_ads_active = df_ads_active.drop(columns='job_id')\n",
    "df_job_id_popularity_active = df_job_id_popularity_active.drop(columns='job_id')"
   ]
  },
  {
   "cell_type": "code",
   "execution_count": 22,
   "metadata": {
    "collapsed": false,
    "ExecuteTime": {
     "end_time": "2023-07-04T18:14:22.105834193Z",
     "start_time": "2023-07-04T18:14:22.072596641Z"
    }
   },
   "outputs": [],
   "source": [
    "# df_users_active\n",
    "# df_events_view_active\n",
    "# df_ads_active\n",
    "# df_job_id_popularity_active"
   ]
  },
  {
   "cell_type": "markdown",
   "source": [
    "# Encode metadata of jobs, including location, etc."
   ],
   "metadata": {
    "collapsed": false
   }
  },
  {
   "cell_type": "code",
   "execution_count": 23,
   "outputs": [
    {
     "data": {
      "text/plain": "                          location                          classification  \\\n0                           Sydney                    Education & Training   \n1                        Melbourne              Retail & Consumer Products   \n2                         Adelaide  Information & Communication Technology   \n3                        Melbourne                  Real Estate & Property   \n4                         Auckland  Information & Communication Technology   \n...                            ...                                     ...   \n49995                       Sydney  Information & Communication Technology   \n49996                        Perth                    Healthcare & Medical   \n49997                    Melbourne    Manufacturing, Transport & Logistics   \n49998  Coffs Harbour & North Coast                       Trades & Services   \n49999                     Auckland    Manufacturing, Transport & Logistics   \n\n                              sub_classification        work_type  \\\n0                                          Other        Full Time   \n1                              Retail Assistants  Casual/Vacation   \n2                                    Consultants        Full Time   \n3      Commercial Sales, Leasing & Property Mgmt        Full Time   \n4                                     Management        Full Time   \n...                                          ...              ...   \n49995                  Business/Systems Analysts        Full Time   \n49996                                      Other        Full Time   \n49997        Warehousing, Storage & Distribution        Full Time   \n49998                                  Labourers  Casual/Vacation   \n49999        Purchasing, Procurement & Inventory        Full Time   \n\n       job_id_encoded  \n0               23106  \n1               28362  \n2               31516  \n3                4217  \n4                8791  \n...               ...  \n49995            4825  \n49996           17644  \n49997            8407  \n49998           20390  \n49999           10176  \n\n[47844 rows x 5 columns]",
      "text/html": "<div>\n<style scoped>\n    .dataframe tbody tr th:only-of-type {\n        vertical-align: middle;\n    }\n\n    .dataframe tbody tr th {\n        vertical-align: top;\n    }\n\n    .dataframe thead th {\n        text-align: right;\n    }\n</style>\n<table border=\"1\" class=\"dataframe\">\n  <thead>\n    <tr style=\"text-align: right;\">\n      <th></th>\n      <th>location</th>\n      <th>classification</th>\n      <th>sub_classification</th>\n      <th>work_type</th>\n      <th>job_id_encoded</th>\n    </tr>\n  </thead>\n  <tbody>\n    <tr>\n      <th>0</th>\n      <td>Sydney</td>\n      <td>Education &amp; Training</td>\n      <td>Other</td>\n      <td>Full Time</td>\n      <td>23106</td>\n    </tr>\n    <tr>\n      <th>1</th>\n      <td>Melbourne</td>\n      <td>Retail &amp; Consumer Products</td>\n      <td>Retail Assistants</td>\n      <td>Casual/Vacation</td>\n      <td>28362</td>\n    </tr>\n    <tr>\n      <th>2</th>\n      <td>Adelaide</td>\n      <td>Information &amp; Communication Technology</td>\n      <td>Consultants</td>\n      <td>Full Time</td>\n      <td>31516</td>\n    </tr>\n    <tr>\n      <th>3</th>\n      <td>Melbourne</td>\n      <td>Real Estate &amp; Property</td>\n      <td>Commercial Sales, Leasing &amp; Property Mgmt</td>\n      <td>Full Time</td>\n      <td>4217</td>\n    </tr>\n    <tr>\n      <th>4</th>\n      <td>Auckland</td>\n      <td>Information &amp; Communication Technology</td>\n      <td>Management</td>\n      <td>Full Time</td>\n      <td>8791</td>\n    </tr>\n    <tr>\n      <th>...</th>\n      <td>...</td>\n      <td>...</td>\n      <td>...</td>\n      <td>...</td>\n      <td>...</td>\n    </tr>\n    <tr>\n      <th>49995</th>\n      <td>Sydney</td>\n      <td>Information &amp; Communication Technology</td>\n      <td>Business/Systems Analysts</td>\n      <td>Full Time</td>\n      <td>4825</td>\n    </tr>\n    <tr>\n      <th>49996</th>\n      <td>Perth</td>\n      <td>Healthcare &amp; Medical</td>\n      <td>Other</td>\n      <td>Full Time</td>\n      <td>17644</td>\n    </tr>\n    <tr>\n      <th>49997</th>\n      <td>Melbourne</td>\n      <td>Manufacturing, Transport &amp; Logistics</td>\n      <td>Warehousing, Storage &amp; Distribution</td>\n      <td>Full Time</td>\n      <td>8407</td>\n    </tr>\n    <tr>\n      <th>49998</th>\n      <td>Coffs Harbour &amp; North Coast</td>\n      <td>Trades &amp; Services</td>\n      <td>Labourers</td>\n      <td>Casual/Vacation</td>\n      <td>20390</td>\n    </tr>\n    <tr>\n      <th>49999</th>\n      <td>Auckland</td>\n      <td>Manufacturing, Transport &amp; Logistics</td>\n      <td>Purchasing, Procurement &amp; Inventory</td>\n      <td>Full Time</td>\n      <td>10176</td>\n    </tr>\n  </tbody>\n</table>\n<p>47844 rows × 5 columns</p>\n</div>"
     },
     "execution_count": 23,
     "metadata": {},
     "output_type": "execute_result"
    }
   ],
   "source": [
    "metadata_cols = [x for x in df_ads_active.columns if x not in ['title', 'abstract', 'content']]\n",
    "df_ads_active_metadata = df_ads_active[metadata_cols].copy()\n",
    "df_ads_active_metadata"
   ],
   "metadata": {
    "collapsed": false,
    "ExecuteTime": {
     "end_time": "2023-07-04T18:14:23.582433007Z",
     "start_time": "2023-07-04T18:14:23.554638376Z"
    }
   }
  },
  {
   "cell_type": "code",
   "execution_count": 24,
   "outputs": [
    {
     "name": "stdout",
     "output_type": "stream",
     "text": [
      "location 83\n",
      "classification 30\n",
      "sub_classification 305\n",
      "work_type 4\n"
     ]
    }
   ],
   "source": [
    "for c in df_ads_active_metadata.columns:\n",
    "    if c == 'job_id_encoded' or str(c).endswith('_encoded'):\n",
    "        continue\n",
    "\n",
    "    le = preprocessing.LabelEncoder()\n",
    "    le.fit(df_ads_active_metadata[c])\n",
    "    df_ads_active_metadata[f'{c}_encoded'] = le.transform(df_ads_active_metadata[c])\n",
    "    # reserve 0th as padding\n",
    "    df_ads_active_metadata[f'{c}_encoded'] += 1\n",
    "    df_ads_active_metadata = df_ads_active_metadata.drop(columns=c)\n",
    "    print(c, le.classes_.size)"
   ],
   "metadata": {
    "collapsed": false,
    "ExecuteTime": {
     "end_time": "2023-07-04T18:14:26.593872761Z",
     "start_time": "2023-07-04T18:14:26.540800862Z"
    }
   }
  },
  {
   "cell_type": "code",
   "execution_count": 27,
   "outputs": [
    {
     "name": "stdout",
     "output_type": "stream",
     "text": [
      "job_id_encoded 47844 1 47844\n",
      "location_encoded 83 1 83\n",
      "classification_encoded 30 1 30\n",
      "sub_classification_encoded 305 1 305\n",
      "work_type_encoded 4 1 4\n"
     ]
    }
   ],
   "source": [
    "for c in df_ads_active_metadata.columns:\n",
    "    print(c, df_ads_active_metadata[c].nunique(), df_ads_active_metadata[c].min(), df_ads_active_metadata[c].max())"
   ],
   "metadata": {
    "collapsed": false,
    "ExecuteTime": {
     "end_time": "2023-07-04T18:16:35.740878345Z",
     "start_time": "2023-07-04T18:16:35.715338213Z"
    }
   }
  },
  {
   "cell_type": "code",
   "execution_count": 28,
   "outputs": [
    {
     "data": {
      "text/plain": "                location_encoded  classification_encoded  \\\njob_id_encoded                                             \n23106                         67                      11   \n28362                         46                      25   \n31516                          2                      18   \n4217                          46                      24   \n8791                           8                      18   \n...                          ...                     ...   \n4825                          67                      18   \n17644                         55                      15   \n8407                          46                      21   \n20390                         21                      30   \n10176                          8                      21   \n\n                sub_classification_encoded  work_type_encoded  \njob_id_encoded                                                 \n23106                                  206                  3  \n28362                                  251                  1  \n31516                                   63                  3  \n4217                                    58                  3  \n8791                                   156                  3  \n...                                    ...                ...  \n4825                                    41                  3  \n17644                                  206                  3  \n8407                                   298                  3  \n20390                                  146                  1  \n10176                                  237                  3  \n\n[47844 rows x 4 columns]",
      "text/html": "<div>\n<style scoped>\n    .dataframe tbody tr th:only-of-type {\n        vertical-align: middle;\n    }\n\n    .dataframe tbody tr th {\n        vertical-align: top;\n    }\n\n    .dataframe thead th {\n        text-align: right;\n    }\n</style>\n<table border=\"1\" class=\"dataframe\">\n  <thead>\n    <tr style=\"text-align: right;\">\n      <th></th>\n      <th>location_encoded</th>\n      <th>classification_encoded</th>\n      <th>sub_classification_encoded</th>\n      <th>work_type_encoded</th>\n    </tr>\n    <tr>\n      <th>job_id_encoded</th>\n      <th></th>\n      <th></th>\n      <th></th>\n      <th></th>\n    </tr>\n  </thead>\n  <tbody>\n    <tr>\n      <th>23106</th>\n      <td>67</td>\n      <td>11</td>\n      <td>206</td>\n      <td>3</td>\n    </tr>\n    <tr>\n      <th>28362</th>\n      <td>46</td>\n      <td>25</td>\n      <td>251</td>\n      <td>1</td>\n    </tr>\n    <tr>\n      <th>31516</th>\n      <td>2</td>\n      <td>18</td>\n      <td>63</td>\n      <td>3</td>\n    </tr>\n    <tr>\n      <th>4217</th>\n      <td>46</td>\n      <td>24</td>\n      <td>58</td>\n      <td>3</td>\n    </tr>\n    <tr>\n      <th>8791</th>\n      <td>8</td>\n      <td>18</td>\n      <td>156</td>\n      <td>3</td>\n    </tr>\n    <tr>\n      <th>...</th>\n      <td>...</td>\n      <td>...</td>\n      <td>...</td>\n      <td>...</td>\n    </tr>\n    <tr>\n      <th>4825</th>\n      <td>67</td>\n      <td>18</td>\n      <td>41</td>\n      <td>3</td>\n    </tr>\n    <tr>\n      <th>17644</th>\n      <td>55</td>\n      <td>15</td>\n      <td>206</td>\n      <td>3</td>\n    </tr>\n    <tr>\n      <th>8407</th>\n      <td>46</td>\n      <td>21</td>\n      <td>298</td>\n      <td>3</td>\n    </tr>\n    <tr>\n      <th>20390</th>\n      <td>21</td>\n      <td>30</td>\n      <td>146</td>\n      <td>1</td>\n    </tr>\n    <tr>\n      <th>10176</th>\n      <td>8</td>\n      <td>21</td>\n      <td>237</td>\n      <td>3</td>\n    </tr>\n  </tbody>\n</table>\n<p>47844 rows × 4 columns</p>\n</div>"
     },
     "execution_count": 28,
     "metadata": {},
     "output_type": "execute_result"
    }
   ],
   "source": [
    "df_ads_active_metadata.set_index(keys='job_id_encoded', verify_integrity=True)"
   ],
   "metadata": {
    "collapsed": false,
    "ExecuteTime": {
     "end_time": "2023-07-04T18:17:41.147116740Z",
     "start_time": "2023-07-04T18:17:41.084735806Z"
    }
   }
  },
  {
   "cell_type": "code",
   "execution_count": 29,
   "outputs": [],
   "source": [
    "jobs_metadata_output_path = '/root/projects/PythonProjects/ip-dual-encoder-factorization-machine/data/input_processed_output/' + 'jobs_metadata.csv'\n",
    "\n",
    "df_ads_active_metadata.to_csv(jobs_metadata_output_path, index=False)\n"
   ],
   "metadata": {
    "collapsed": false,
    "ExecuteTime": {
     "end_time": "2023-07-04T18:17:44.997614571Z",
     "start_time": "2023-07-04T18:17:44.852634467Z"
    }
   }
  },
  {
   "cell_type": "code",
   "execution_count": 82,
   "outputs": [
    {
     "data": {
      "text/plain": "dict_keys(['location_encoded', 'classification_encoded', 'sub_classification_encoded', 'work_type_encoded'])"
     },
     "execution_count": 82,
     "metadata": {},
     "output_type": "execute_result"
    }
   ],
   "source": [
    "df_ads_active_metadata.set_index(keys='job_id_encoded', verify_integrity=True).to_dict().keys()"
   ],
   "metadata": {
    "collapsed": false,
    "ExecuteTime": {
     "end_time": "2023-07-02T16:35:55.472418388Z",
     "start_time": "2023-07-02T16:35:55.412550433Z"
    }
   }
  },
  {
   "cell_type": "code",
   "execution_count": 121,
   "outputs": [],
   "source": [
    "# pd.read_csv(jobs_metadata_output_path)['location_encoded']\n",
    "# jobid_to_locationid = df_ads_active_metadata.set_index(keys='job_id_encoded', verify_integrity=True).to_dict()['location_encoded']\n",
    "# jobid_to_locationid"
   ],
   "metadata": {
    "collapsed": false,
    "ExecuteTime": {
     "end_time": "2023-07-02T17:58:26.975051309Z",
     "start_time": "2023-07-02T17:58:26.961243910Z"
    }
   }
  },
  {
   "cell_type": "markdown",
   "source": [
    "# Generating Train, Validation, Test data"
   ],
   "metadata": {
    "collapsed": false
   }
  },
  {
   "cell_type": "code",
   "execution_count": 23,
   "metadata": {
    "collapsed": false,
    "ExecuteTime": {
     "end_time": "2023-06-26T15:00:59.876865424Z",
     "start_time": "2023-06-26T15:00:59.812221396Z"
    }
   },
   "outputs": [],
   "source": [
    "RESUME_ID_ENCODED = 'resume_id_encoded'\n",
    "JOB_ID_ENCODED = 'job_id_encoded'"
   ]
  },
  {
   "attachments": {},
   "cell_type": "markdown",
   "metadata": {
    "collapsed": false
   },
   "source": [
    "# A user example (Skip!)"
   ]
  },
  {
   "cell_type": "code",
   "execution_count": 36,
   "outputs": [
    {
     "data": {
      "text/plain": "         event_datetime  resume_id_encoded  job_id_encoded\n0   2021-05-01 00:00:31                 10           12990\n1   2021-05-01 00:00:31                 10           20891\n2   2021-05-01 00:00:31                 10           31713\n3   2021-05-01 00:00:31                 10           17810\n4   2021-05-01 00:00:31                 10            8450\n5   2021-05-01 00:00:31                 10           30068\n6   2021-05-01 00:00:31                 10           34134\n7   2021-05-01 00:00:31                 10           17834\n8   2021-05-01 00:00:31                 10           39531\n9   2021-05-01 00:00:31                 10           39316\n10  2021-05-01 00:00:31                 10            6257\n11  2021-05-01 00:00:31                 10            9923\n12  2021-05-01 00:00:31                 10           35176\n13  2021-05-01 00:00:31                 10           13377\n14  2021-05-01 00:00:31                 10           44969\n15  2021-05-01 00:00:31                 10           38612\n16  2021-05-01 00:00:31                 10           17916\n17  2021-05-01 00:00:31                 10           30154\n18  2021-05-01 00:00:31                 10           11814\n19  2021-05-01 00:00:31                 10           13550\n20  2021-05-01 00:00:31                 10           40708\n21  2021-05-01 00:00:31                 10           27016\n22  2021-05-01 00:00:31                 10           21303",
      "text/html": "<div>\n<style scoped>\n    .dataframe tbody tr th:only-of-type {\n        vertical-align: middle;\n    }\n\n    .dataframe tbody tr th {\n        vertical-align: top;\n    }\n\n    .dataframe thead th {\n        text-align: right;\n    }\n</style>\n<table border=\"1\" class=\"dataframe\">\n  <thead>\n    <tr style=\"text-align: right;\">\n      <th></th>\n      <th>event_datetime</th>\n      <th>resume_id_encoded</th>\n      <th>job_id_encoded</th>\n    </tr>\n  </thead>\n  <tbody>\n    <tr>\n      <th>0</th>\n      <td>2021-05-01 00:00:31</td>\n      <td>10</td>\n      <td>12990</td>\n    </tr>\n    <tr>\n      <th>1</th>\n      <td>2021-05-01 00:00:31</td>\n      <td>10</td>\n      <td>20891</td>\n    </tr>\n    <tr>\n      <th>2</th>\n      <td>2021-05-01 00:00:31</td>\n      <td>10</td>\n      <td>31713</td>\n    </tr>\n    <tr>\n      <th>3</th>\n      <td>2021-05-01 00:00:31</td>\n      <td>10</td>\n      <td>17810</td>\n    </tr>\n    <tr>\n      <th>4</th>\n      <td>2021-05-01 00:00:31</td>\n      <td>10</td>\n      <td>8450</td>\n    </tr>\n    <tr>\n      <th>5</th>\n      <td>2021-05-01 00:00:31</td>\n      <td>10</td>\n      <td>30068</td>\n    </tr>\n    <tr>\n      <th>6</th>\n      <td>2021-05-01 00:00:31</td>\n      <td>10</td>\n      <td>34134</td>\n    </tr>\n    <tr>\n      <th>7</th>\n      <td>2021-05-01 00:00:31</td>\n      <td>10</td>\n      <td>17834</td>\n    </tr>\n    <tr>\n      <th>8</th>\n      <td>2021-05-01 00:00:31</td>\n      <td>10</td>\n      <td>39531</td>\n    </tr>\n    <tr>\n      <th>9</th>\n      <td>2021-05-01 00:00:31</td>\n      <td>10</td>\n      <td>39316</td>\n    </tr>\n    <tr>\n      <th>10</th>\n      <td>2021-05-01 00:00:31</td>\n      <td>10</td>\n      <td>6257</td>\n    </tr>\n    <tr>\n      <th>11</th>\n      <td>2021-05-01 00:00:31</td>\n      <td>10</td>\n      <td>9923</td>\n    </tr>\n    <tr>\n      <th>12</th>\n      <td>2021-05-01 00:00:31</td>\n      <td>10</td>\n      <td>35176</td>\n    </tr>\n    <tr>\n      <th>13</th>\n      <td>2021-05-01 00:00:31</td>\n      <td>10</td>\n      <td>13377</td>\n    </tr>\n    <tr>\n      <th>14</th>\n      <td>2021-05-01 00:00:31</td>\n      <td>10</td>\n      <td>44969</td>\n    </tr>\n    <tr>\n      <th>15</th>\n      <td>2021-05-01 00:00:31</td>\n      <td>10</td>\n      <td>38612</td>\n    </tr>\n    <tr>\n      <th>16</th>\n      <td>2021-05-01 00:00:31</td>\n      <td>10</td>\n      <td>17916</td>\n    </tr>\n    <tr>\n      <th>17</th>\n      <td>2021-05-01 00:00:31</td>\n      <td>10</td>\n      <td>30154</td>\n    </tr>\n    <tr>\n      <th>18</th>\n      <td>2021-05-01 00:00:31</td>\n      <td>10</td>\n      <td>11814</td>\n    </tr>\n    <tr>\n      <th>19</th>\n      <td>2021-05-01 00:00:31</td>\n      <td>10</td>\n      <td>13550</td>\n    </tr>\n    <tr>\n      <th>20</th>\n      <td>2021-05-01 00:00:31</td>\n      <td>10</td>\n      <td>40708</td>\n    </tr>\n    <tr>\n      <th>21</th>\n      <td>2021-05-01 00:00:31</td>\n      <td>10</td>\n      <td>27016</td>\n    </tr>\n    <tr>\n      <th>22</th>\n      <td>2021-05-01 00:00:31</td>\n      <td>10</td>\n      <td>21303</td>\n    </tr>\n  </tbody>\n</table>\n</div>"
     },
     "metadata": {},
     "output_type": "display_data"
    },
    {
     "data": {
      "text/plain": "array(['2021-05-01 00:00:31'], dtype=object)"
     },
     "execution_count": 36,
     "metadata": {},
     "output_type": "execute_result"
    }
   ],
   "source": [
    "example_resume_id = 10  #18  #11 #10 #3\n",
    "\n",
    "df_example_resume_id = df_events_view_active[df_events_view_active[RESUME_ID_ENCODED] == example_resume_id].reset_index(drop=True)\n",
    "\n",
    "display(df_example_resume_id)\n",
    "df_example_resume_id['event_datetime'].unique()"
   ],
   "metadata": {
    "collapsed": false,
    "ExecuteTime": {
     "end_time": "2023-06-26T14:29:36.670118358Z",
     "start_time": "2023-06-26T14:29:36.637733866Z"
    }
   }
  },
  {
   "cell_type": "code",
   "execution_count": 37,
   "outputs": [
    {
     "data": {
      "text/plain": "23"
     },
     "execution_count": 37,
     "metadata": {},
     "output_type": "execute_result"
    }
   ],
   "source": [
    "positive_items_by_current_user = df_example_resume_id[JOB_ID_ENCODED].to_list()\n",
    "len(positive_items_by_current_user)"
   ],
   "metadata": {
    "collapsed": false,
    "ExecuteTime": {
     "end_time": "2023-06-26T14:29:41.972402870Z",
     "start_time": "2023-06-26T14:29:41.902629835Z"
    }
   }
  },
  {
   "cell_type": "markdown",
   "source": [
    "Sequential job clicks by the example user"
   ],
   "metadata": {
    "collapsed": false
   }
  },
  {
   "cell_type": "code",
   "execution_count": 38,
   "outputs": [
    {
     "name": "stdout",
     "output_type": "stream",
     "text": [
      "0 [0] --> [1] \t 0 : [12990] --> 20891\n",
      "1 [0 1] --> [2] \t 1 : [12990, 20891] --> 31713\n",
      "2 [0 1 2] --> [3] \t 2 : [12990, 20891, 31713] --> 17810\n",
      "3 [0 1 2 3] --> [4] \t 3 : [12990, 20891, 31713, 17810] --> 8450\n",
      "4 [0 1 2 3 4] --> [5] \t 4 : [12990, 20891, 31713, 17810, 8450] --> 30068\n",
      "5 [0 1 2 3 4 5] --> [6] \t 5 : [12990, 20891, 31713, 17810, 8450, 30068] --> 34134\n",
      "6 [0 1 2 3 4 5 6] --> [7] \t 6 : [12990, 20891, 31713, 17810, 8450, 30068, 34134] --> 17834\n",
      "7 [0 1 2 3 4 5 6 7] --> [8] \t 7 : [12990, 20891, 31713, 17810, 8450, 30068, 34134, 17834] --> 39531\n",
      "8 [0 1 2 3 4 5 6 7 8] --> [9] \t 8 : [12990, 20891, 31713, 17810, 8450, 30068, 34134, 17834, 39531] --> 39316\n",
      "9 [0 1 2 3 4 5 6 7 8 9] --> [10] \t 9 : [12990, 20891, 31713, 17810, 8450, 30068, 34134, 17834, 39531, 39316] --> 6257\n",
      "10 [ 0  1  2  3  4  5  6  7  8  9 10] --> [11] \t 10 : [12990, 20891, 31713, 17810, 8450, 30068, 34134, 17834, 39531, 39316, 6257] --> 9923\n",
      "11 [ 0  1  2  3  4  5  6  7  8  9 10 11] --> [12] \t 11 : [12990, 20891, 31713, 17810, 8450, 30068, 34134, 17834, 39531, 39316, 6257, 9923] --> 35176\n",
      "12 [ 0  1  2  3  4  5  6  7  8  9 10 11 12] --> [13] \t 12 : [12990, 20891, 31713, 17810, 8450, 30068, 34134, 17834, 39531, 39316, 6257, 9923, 35176] --> 13377\n",
      "13 [ 0  1  2  3  4  5  6  7  8  9 10 11 12 13] --> [14] \t 13 : [12990, 20891, 31713, 17810, 8450, 30068, 34134, 17834, 39531, 39316, 6257, 9923, 35176, 13377] --> 44969\n",
      "14 [ 0  1  2  3  4  5  6  7  8  9 10 11 12 13 14] --> [15] \t 14 : [12990, 20891, 31713, 17810, 8450, 30068, 34134, 17834, 39531, 39316, 6257, 9923, 35176, 13377, 44969] --> 38612\n",
      "15 [ 0  1  2  3  4  5  6  7  8  9 10 11 12 13 14 15] --> [16] \t 15 : [12990, 20891, 31713, 17810, 8450, 30068, 34134, 17834, 39531, 39316, 6257, 9923, 35176, 13377, 44969, 38612] --> 17916\n",
      "16 [ 0  1  2  3  4  5  6  7  8  9 10 11 12 13 14 15 16] --> [17] \t 16 : [12990, 20891, 31713, 17810, 8450, 30068, 34134, 17834, 39531, 39316, 6257, 9923, 35176, 13377, 44969, 38612, 17916] --> 30154\n",
      "17 [ 0  1  2  3  4  5  6  7  8  9 10 11 12 13 14 15 16 17] --> [18] \t 17 : [12990, 20891, 31713, 17810, 8450, 30068, 34134, 17834, 39531, 39316, 6257, 9923, 35176, 13377, 44969, 38612, 17916, 30154] --> 11814\n",
      "18 [ 0  1  2  3  4  5  6  7  8  9 10 11 12 13 14 15 16 17 18] --> [19] \t 18 : [12990, 20891, 31713, 17810, 8450, 30068, 34134, 17834, 39531, 39316, 6257, 9923, 35176, 13377, 44969, 38612, 17916, 30154, 11814] --> 13550\n",
      "19 [ 0  1  2  3  4  5  6  7  8  9 10 11 12 13 14 15 16 17 18 19] --> [20] \t 19 : [12990, 20891, 31713, 17810, 8450, 30068, 34134, 17834, 39531, 39316, 6257, 9923, 35176, 13377, 44969, 38612, 17916, 30154, 11814, 13550] --> 40708\n",
      "20 [ 0  1  2  3  4  5  6  7  8  9 10 11 12 13 14 15 16 17 18 19 20] --> [21] \t 20 : [12990, 20891, 31713, 17810, 8450, 30068, 34134, 17834, 39531, 39316, 6257, 9923, 35176, 13377, 44969, 38612, 17916, 30154, 11814, 13550, 40708] --> 27016\n",
      "21 [ 0  1  2  3  4  5  6  7  8  9 10 11 12 13 14 15 16 17 18 19 20 21] --> [22] \t 21 : [12990, 20891, 31713, 17810, 8450, 30068, 34134, 17834, 39531, 39316, 6257, 9923, 35176, 13377, 44969, 38612, 17916, 30154, 11814, 13550, 40708, 27016] --> 21303\n"
     ]
    }
   ],
   "source": [
    "df_example_resume_id['job_id_sequence'] = None\n",
    "df_example_resume_id['job_id_next'] = None\n",
    "\n",
    "# tss = TimeSeriesSplit(test_size=1)#, test_size=2)\n",
    "# for i, (x, y) in enumerate(tss.split(df_example_resume_id)):\n",
    "#     print(i, x, y)\n",
    "\n",
    "tss = TimeSeriesSplit(n_splits=len(df_example_resume_id.index) - 1, test_size=1)  #, test_size=2)\n",
    "for i, (x, y) in enumerate(tss.split(df_example_resume_id)):\n",
    "    print(\n",
    "        i,\n",
    "        x, '-->', y, '\\t',\n",
    "        x[-1], ':',\n",
    "        df_example_resume_id.iloc[:x[-1] + 1][JOB_ID_ENCODED].tolist(), '-->', df_example_resume_id.iloc[y[-1]][JOB_ID_ENCODED]\n",
    "    )\n",
    "    df_example_resume_id.loc[df_example_resume_id.index == x[-1], 'job_id_sequence'] = str(df_example_resume_id.iloc[:x[-1] + 1][JOB_ID_ENCODED].tolist())\n",
    "    df_example_resume_id.loc[df_example_resume_id.index == x[-1], 'job_id_next'] = df_example_resume_id.iloc[y[-1]][JOB_ID_ENCODED]\n",
    "    df_example_resume_id.loc[df_example_resume_id.index == x[-1], 'class'] = 1\n"
   ],
   "metadata": {
    "collapsed": false,
    "ExecuteTime": {
     "end_time": "2023-06-26T14:29:43.722566513Z",
     "start_time": "2023-06-26T14:29:43.652131140Z"
    }
   }
  },
  {
   "cell_type": "code",
   "execution_count": 40,
   "metadata": {
    "collapsed": false,
    "ExecuteTime": {
     "end_time": "2023-06-26T14:30:30.275644862Z",
     "start_time": "2023-06-26T14:30:30.237807374Z"
    }
   },
   "outputs": [
    {
     "data": {
      "text/plain": "         event_datetime  resume_id_encoded  job_id_encoded  \\\n0   2021-05-01 00:00:31                 10           12990   \n1   2021-05-01 00:00:31                 10           20891   \n2   2021-05-01 00:00:31                 10           31713   \n3   2021-05-01 00:00:31                 10           17810   \n4   2021-05-01 00:00:31                 10            8450   \n5   2021-05-01 00:00:31                 10           30068   \n6   2021-05-01 00:00:31                 10           34134   \n7   2021-05-01 00:00:31                 10           17834   \n8   2021-05-01 00:00:31                 10           39531   \n9   2021-05-01 00:00:31                 10           39316   \n10  2021-05-01 00:00:31                 10            6257   \n11  2021-05-01 00:00:31                 10            9923   \n12  2021-05-01 00:00:31                 10           35176   \n13  2021-05-01 00:00:31                 10           13377   \n14  2021-05-01 00:00:31                 10           44969   \n15  2021-05-01 00:00:31                 10           38612   \n16  2021-05-01 00:00:31                 10           17916   \n17  2021-05-01 00:00:31                 10           30154   \n18  2021-05-01 00:00:31                 10           11814   \n19  2021-05-01 00:00:31                 10           13550   \n20  2021-05-01 00:00:31                 10           40708   \n21  2021-05-01 00:00:31                 10           27016   \n\n                                      job_id_sequence job_id_next  class  \n0                                             [12990]       20891    1.0  \n1                                      [12990, 20891]       31713    1.0  \n2                               [12990, 20891, 31713]       17810    1.0  \n3                        [12990, 20891, 31713, 17810]        8450    1.0  \n4                  [12990, 20891, 31713, 17810, 8450]       30068    1.0  \n5           [12990, 20891, 31713, 17810, 8450, 30068]       34134    1.0  \n6    [12990, 20891, 31713, 17810, 8450, 30068, 34134]       17834    1.0  \n7   [12990, 20891, 31713, 17810, 8450, 30068, 3413...       39531    1.0  \n8   [12990, 20891, 31713, 17810, 8450, 30068, 3413...       39316    1.0  \n9   [12990, 20891, 31713, 17810, 8450, 30068, 3413...        6257    1.0  \n10  [12990, 20891, 31713, 17810, 8450, 30068, 3413...        9923    1.0  \n11  [12990, 20891, 31713, 17810, 8450, 30068, 3413...       35176    1.0  \n12  [12990, 20891, 31713, 17810, 8450, 30068, 3413...       13377    1.0  \n13  [12990, 20891, 31713, 17810, 8450, 30068, 3413...       44969    1.0  \n14  [12990, 20891, 31713, 17810, 8450, 30068, 3413...       38612    1.0  \n15  [12990, 20891, 31713, 17810, 8450, 30068, 3413...       17916    1.0  \n16  [12990, 20891, 31713, 17810, 8450, 30068, 3413...       30154    1.0  \n17  [12990, 20891, 31713, 17810, 8450, 30068, 3413...       11814    1.0  \n18  [12990, 20891, 31713, 17810, 8450, 30068, 3413...       13550    1.0  \n19  [12990, 20891, 31713, 17810, 8450, 30068, 3413...       40708    1.0  \n20  [12990, 20891, 31713, 17810, 8450, 30068, 3413...       27016    1.0  \n21  [12990, 20891, 31713, 17810, 8450, 30068, 3413...       21303    1.0  ",
      "text/html": "<div>\n<style scoped>\n    .dataframe tbody tr th:only-of-type {\n        vertical-align: middle;\n    }\n\n    .dataframe tbody tr th {\n        vertical-align: top;\n    }\n\n    .dataframe thead th {\n        text-align: right;\n    }\n</style>\n<table border=\"1\" class=\"dataframe\">\n  <thead>\n    <tr style=\"text-align: right;\">\n      <th></th>\n      <th>event_datetime</th>\n      <th>resume_id_encoded</th>\n      <th>job_id_encoded</th>\n      <th>job_id_sequence</th>\n      <th>job_id_next</th>\n      <th>class</th>\n    </tr>\n  </thead>\n  <tbody>\n    <tr>\n      <th>0</th>\n      <td>2021-05-01 00:00:31</td>\n      <td>10</td>\n      <td>12990</td>\n      <td>[12990]</td>\n      <td>20891</td>\n      <td>1.0</td>\n    </tr>\n    <tr>\n      <th>1</th>\n      <td>2021-05-01 00:00:31</td>\n      <td>10</td>\n      <td>20891</td>\n      <td>[12990, 20891]</td>\n      <td>31713</td>\n      <td>1.0</td>\n    </tr>\n    <tr>\n      <th>2</th>\n      <td>2021-05-01 00:00:31</td>\n      <td>10</td>\n      <td>31713</td>\n      <td>[12990, 20891, 31713]</td>\n      <td>17810</td>\n      <td>1.0</td>\n    </tr>\n    <tr>\n      <th>3</th>\n      <td>2021-05-01 00:00:31</td>\n      <td>10</td>\n      <td>17810</td>\n      <td>[12990, 20891, 31713, 17810]</td>\n      <td>8450</td>\n      <td>1.0</td>\n    </tr>\n    <tr>\n      <th>4</th>\n      <td>2021-05-01 00:00:31</td>\n      <td>10</td>\n      <td>8450</td>\n      <td>[12990, 20891, 31713, 17810, 8450]</td>\n      <td>30068</td>\n      <td>1.0</td>\n    </tr>\n    <tr>\n      <th>5</th>\n      <td>2021-05-01 00:00:31</td>\n      <td>10</td>\n      <td>30068</td>\n      <td>[12990, 20891, 31713, 17810, 8450, 30068]</td>\n      <td>34134</td>\n      <td>1.0</td>\n    </tr>\n    <tr>\n      <th>6</th>\n      <td>2021-05-01 00:00:31</td>\n      <td>10</td>\n      <td>34134</td>\n      <td>[12990, 20891, 31713, 17810, 8450, 30068, 34134]</td>\n      <td>17834</td>\n      <td>1.0</td>\n    </tr>\n    <tr>\n      <th>7</th>\n      <td>2021-05-01 00:00:31</td>\n      <td>10</td>\n      <td>17834</td>\n      <td>[12990, 20891, 31713, 17810, 8450, 30068, 3413...</td>\n      <td>39531</td>\n      <td>1.0</td>\n    </tr>\n    <tr>\n      <th>8</th>\n      <td>2021-05-01 00:00:31</td>\n      <td>10</td>\n      <td>39531</td>\n      <td>[12990, 20891, 31713, 17810, 8450, 30068, 3413...</td>\n      <td>39316</td>\n      <td>1.0</td>\n    </tr>\n    <tr>\n      <th>9</th>\n      <td>2021-05-01 00:00:31</td>\n      <td>10</td>\n      <td>39316</td>\n      <td>[12990, 20891, 31713, 17810, 8450, 30068, 3413...</td>\n      <td>6257</td>\n      <td>1.0</td>\n    </tr>\n    <tr>\n      <th>10</th>\n      <td>2021-05-01 00:00:31</td>\n      <td>10</td>\n      <td>6257</td>\n      <td>[12990, 20891, 31713, 17810, 8450, 30068, 3413...</td>\n      <td>9923</td>\n      <td>1.0</td>\n    </tr>\n    <tr>\n      <th>11</th>\n      <td>2021-05-01 00:00:31</td>\n      <td>10</td>\n      <td>9923</td>\n      <td>[12990, 20891, 31713, 17810, 8450, 30068, 3413...</td>\n      <td>35176</td>\n      <td>1.0</td>\n    </tr>\n    <tr>\n      <th>12</th>\n      <td>2021-05-01 00:00:31</td>\n      <td>10</td>\n      <td>35176</td>\n      <td>[12990, 20891, 31713, 17810, 8450, 30068, 3413...</td>\n      <td>13377</td>\n      <td>1.0</td>\n    </tr>\n    <tr>\n      <th>13</th>\n      <td>2021-05-01 00:00:31</td>\n      <td>10</td>\n      <td>13377</td>\n      <td>[12990, 20891, 31713, 17810, 8450, 30068, 3413...</td>\n      <td>44969</td>\n      <td>1.0</td>\n    </tr>\n    <tr>\n      <th>14</th>\n      <td>2021-05-01 00:00:31</td>\n      <td>10</td>\n      <td>44969</td>\n      <td>[12990, 20891, 31713, 17810, 8450, 30068, 3413...</td>\n      <td>38612</td>\n      <td>1.0</td>\n    </tr>\n    <tr>\n      <th>15</th>\n      <td>2021-05-01 00:00:31</td>\n      <td>10</td>\n      <td>38612</td>\n      <td>[12990, 20891, 31713, 17810, 8450, 30068, 3413...</td>\n      <td>17916</td>\n      <td>1.0</td>\n    </tr>\n    <tr>\n      <th>16</th>\n      <td>2021-05-01 00:00:31</td>\n      <td>10</td>\n      <td>17916</td>\n      <td>[12990, 20891, 31713, 17810, 8450, 30068, 3413...</td>\n      <td>30154</td>\n      <td>1.0</td>\n    </tr>\n    <tr>\n      <th>17</th>\n      <td>2021-05-01 00:00:31</td>\n      <td>10</td>\n      <td>30154</td>\n      <td>[12990, 20891, 31713, 17810, 8450, 30068, 3413...</td>\n      <td>11814</td>\n      <td>1.0</td>\n    </tr>\n    <tr>\n      <th>18</th>\n      <td>2021-05-01 00:00:31</td>\n      <td>10</td>\n      <td>11814</td>\n      <td>[12990, 20891, 31713, 17810, 8450, 30068, 3413...</td>\n      <td>13550</td>\n      <td>1.0</td>\n    </tr>\n    <tr>\n      <th>19</th>\n      <td>2021-05-01 00:00:31</td>\n      <td>10</td>\n      <td>13550</td>\n      <td>[12990, 20891, 31713, 17810, 8450, 30068, 3413...</td>\n      <td>40708</td>\n      <td>1.0</td>\n    </tr>\n    <tr>\n      <th>20</th>\n      <td>2021-05-01 00:00:31</td>\n      <td>10</td>\n      <td>40708</td>\n      <td>[12990, 20891, 31713, 17810, 8450, 30068, 3413...</td>\n      <td>27016</td>\n      <td>1.0</td>\n    </tr>\n    <tr>\n      <th>21</th>\n      <td>2021-05-01 00:00:31</td>\n      <td>10</td>\n      <td>27016</td>\n      <td>[12990, 20891, 31713, 17810, 8450, 30068, 3413...</td>\n      <td>21303</td>\n      <td>1.0</td>\n    </tr>\n  </tbody>\n</table>\n</div>"
     },
     "execution_count": 40,
     "metadata": {},
     "output_type": "execute_result"
    }
   ],
   "source": [
    "# Remove the last row that has no next item for prediction\n",
    "df_example_resume_id_positive_items = df_example_resume_id.drop(index=df_example_resume_id.index[-1])\n",
    "\n",
    "df_example_resume_id_positive_items"
   ]
  },
  {
   "attachments": {},
   "cell_type": "markdown",
   "metadata": {
    "collapsed": false
   },
   "source": [
    "Popularity-biased Negative Sampling"
   ]
  },
  {
   "cell_type": "code",
   "execution_count": 42,
   "metadata": {
    "collapsed": false,
    "ExecuteTime": {
     "end_time": "2023-06-26T14:31:42.614650515Z",
     "start_time": "2023-06-26T14:31:42.561607042Z"
    }
   },
   "outputs": [
    {
     "data": {
      "text/plain": "       num_resume_ids  num_resume_ids_pow2a  job_id_encoded\n0                  83              9.110434               1\n1                  28              5.291503               2\n2                  59              7.681146               3\n3                   2              1.414214               4\n4                   9              3.000000               5\n...               ...                   ...             ...\n48199               4              2.000000           47840\n48200              13              3.605551           47841\n48201              39              6.244998           47842\n48202               2              1.414214           47843\n48203              78              8.831761           47844\n\n[47821 rows x 3 columns]",
      "text/html": "<div>\n<style scoped>\n    .dataframe tbody tr th:only-of-type {\n        vertical-align: middle;\n    }\n\n    .dataframe tbody tr th {\n        vertical-align: top;\n    }\n\n    .dataframe thead th {\n        text-align: right;\n    }\n</style>\n<table border=\"1\" class=\"dataframe\">\n  <thead>\n    <tr style=\"text-align: right;\">\n      <th></th>\n      <th>num_resume_ids</th>\n      <th>num_resume_ids_pow2a</th>\n      <th>job_id_encoded</th>\n    </tr>\n  </thead>\n  <tbody>\n    <tr>\n      <th>0</th>\n      <td>83</td>\n      <td>9.110434</td>\n      <td>1</td>\n    </tr>\n    <tr>\n      <th>1</th>\n      <td>28</td>\n      <td>5.291503</td>\n      <td>2</td>\n    </tr>\n    <tr>\n      <th>2</th>\n      <td>59</td>\n      <td>7.681146</td>\n      <td>3</td>\n    </tr>\n    <tr>\n      <th>3</th>\n      <td>2</td>\n      <td>1.414214</td>\n      <td>4</td>\n    </tr>\n    <tr>\n      <th>4</th>\n      <td>9</td>\n      <td>3.000000</td>\n      <td>5</td>\n    </tr>\n    <tr>\n      <th>...</th>\n      <td>...</td>\n      <td>...</td>\n      <td>...</td>\n    </tr>\n    <tr>\n      <th>48199</th>\n      <td>4</td>\n      <td>2.000000</td>\n      <td>47840</td>\n    </tr>\n    <tr>\n      <th>48200</th>\n      <td>13</td>\n      <td>3.605551</td>\n      <td>47841</td>\n    </tr>\n    <tr>\n      <th>48201</th>\n      <td>39</td>\n      <td>6.244998</td>\n      <td>47842</td>\n    </tr>\n    <tr>\n      <th>48202</th>\n      <td>2</td>\n      <td>1.414214</td>\n      <td>47843</td>\n    </tr>\n    <tr>\n      <th>48203</th>\n      <td>78</td>\n      <td>8.831761</td>\n      <td>47844</td>\n    </tr>\n  </tbody>\n</table>\n<p>47821 rows × 3 columns</p>\n</div>"
     },
     "execution_count": 42,
     "metadata": {},
     "output_type": "execute_result"
    }
   ],
   "source": [
    "# set_negative_items = set(df_job_id_popularity['job_id']) - set(df_example_resume_id['job_id'].values)\n",
    "# print(len(set_negative_items))\n",
    "\n",
    "df_negative_item_candidates = df_job_id_popularity_active[\n",
    "    ~df_job_id_popularity_active[JOB_ID_ENCODED].isin(positive_items_by_current_user)]\n",
    "df_negative_item_candidates"
   ]
  },
  {
   "cell_type": "code",
   "execution_count": 43,
   "metadata": {
    "collapsed": false,
    "ExecuteTime": {
     "end_time": "2023-06-26T14:31:57.796386694Z",
     "start_time": "2023-06-26T14:31:57.743717862Z"
    }
   },
   "outputs": [],
   "source": [
    "# ratio_negative_to_positive_samples = 5\n",
    "ratio_negative_to_positive_samples = 1"
   ]
  },
  {
   "cell_type": "code",
   "execution_count": 44,
   "metadata": {
    "collapsed": false,
    "ExecuteTime": {
     "end_time": "2023-06-26T14:31:58.796819769Z",
     "start_time": "2023-06-26T14:31:58.757843465Z"
    }
   },
   "outputs": [],
   "source": [
    "# train_ground_truth, valid_test_ground_truth = train_test_split(df_example_resume_id_positive_items, test_size=.4, shuffle=False)\n",
    "# valid_ground_truth, test_ground_truth = train_test_split(valid_test_ground_truth, test_size=.5, shuffle=False)\n",
    "# print(len(df_example_resume_id_positive_items.index), '--', len(train_ground_truth.index), len(valid_ground_truth.index), len(test_ground_truth.index))\n",
    "# print('0.6?', len(train_ground_truth.index) / len(df_example_resume_id_positive_items.index))"
   ]
  },
  {
   "cell_type": "code",
   "execution_count": 49,
   "outputs": [
    {
     "data": {
      "text/plain": "         event_datetime  resume_id_encoded  job_id_encoded  \\\n0   2021-05-01 00:00:31                 10           12990   \n1   2021-05-01 00:00:31                 10           20891   \n2   2021-05-01 00:00:31                 10           31713   \n3   2021-05-01 00:00:31                 10           17810   \n4   2021-05-01 00:00:31                 10            8450   \n5   2021-05-01 00:00:31                 10           30068   \n6   2021-05-01 00:00:31                 10           34134   \n7   2021-05-01 00:00:31                 10           17834   \n8   2021-05-01 00:00:31                 10           39531   \n9   2021-05-01 00:00:31                 10           39316   \n10  2021-05-01 00:00:31                 10            6257   \n11  2021-05-01 00:00:31                 10            9923   \n12  2021-05-01 00:00:31                 10           35176   \n13  2021-05-01 00:00:31                 10           13377   \n14  2021-05-01 00:00:31                 10           44969   \n15  2021-05-01 00:00:31                 10           38612   \n16  2021-05-01 00:00:31                 10           17916   \n\n                                      job_id_sequence job_id_next  class  \n0                                             [12990]       20891    1.0  \n1                                      [12990, 20891]       31713    1.0  \n2                               [12990, 20891, 31713]       17810    1.0  \n3                        [12990, 20891, 31713, 17810]        8450    1.0  \n4                  [12990, 20891, 31713, 17810, 8450]       30068    1.0  \n5           [12990, 20891, 31713, 17810, 8450, 30068]       34134    1.0  \n6    [12990, 20891, 31713, 17810, 8450, 30068, 34134]       17834    1.0  \n7   [12990, 20891, 31713, 17810, 8450, 30068, 3413...       39531    1.0  \n8   [12990, 20891, 31713, 17810, 8450, 30068, 3413...       39316    1.0  \n9   [12990, 20891, 31713, 17810, 8450, 30068, 3413...        6257    1.0  \n10  [12990, 20891, 31713, 17810, 8450, 30068, 3413...        9923    1.0  \n11  [12990, 20891, 31713, 17810, 8450, 30068, 3413...       35176    1.0  \n12  [12990, 20891, 31713, 17810, 8450, 30068, 3413...       13377    1.0  \n13  [12990, 20891, 31713, 17810, 8450, 30068, 3413...       44969    1.0  \n14  [12990, 20891, 31713, 17810, 8450, 30068, 3413...       38612    1.0  \n15  [12990, 20891, 31713, 17810, 8450, 30068, 3413...       17916    1.0  \n16  [12990, 20891, 31713, 17810, 8450, 30068, 3413...       30154    1.0  ",
      "text/html": "<div>\n<style scoped>\n    .dataframe tbody tr th:only-of-type {\n        vertical-align: middle;\n    }\n\n    .dataframe tbody tr th {\n        vertical-align: top;\n    }\n\n    .dataframe thead th {\n        text-align: right;\n    }\n</style>\n<table border=\"1\" class=\"dataframe\">\n  <thead>\n    <tr style=\"text-align: right;\">\n      <th></th>\n      <th>event_datetime</th>\n      <th>resume_id_encoded</th>\n      <th>job_id_encoded</th>\n      <th>job_id_sequence</th>\n      <th>job_id_next</th>\n      <th>class</th>\n    </tr>\n  </thead>\n  <tbody>\n    <tr>\n      <th>0</th>\n      <td>2021-05-01 00:00:31</td>\n      <td>10</td>\n      <td>12990</td>\n      <td>[12990]</td>\n      <td>20891</td>\n      <td>1.0</td>\n    </tr>\n    <tr>\n      <th>1</th>\n      <td>2021-05-01 00:00:31</td>\n      <td>10</td>\n      <td>20891</td>\n      <td>[12990, 20891]</td>\n      <td>31713</td>\n      <td>1.0</td>\n    </tr>\n    <tr>\n      <th>2</th>\n      <td>2021-05-01 00:00:31</td>\n      <td>10</td>\n      <td>31713</td>\n      <td>[12990, 20891, 31713]</td>\n      <td>17810</td>\n      <td>1.0</td>\n    </tr>\n    <tr>\n      <th>3</th>\n      <td>2021-05-01 00:00:31</td>\n      <td>10</td>\n      <td>17810</td>\n      <td>[12990, 20891, 31713, 17810]</td>\n      <td>8450</td>\n      <td>1.0</td>\n    </tr>\n    <tr>\n      <th>4</th>\n      <td>2021-05-01 00:00:31</td>\n      <td>10</td>\n      <td>8450</td>\n      <td>[12990, 20891, 31713, 17810, 8450]</td>\n      <td>30068</td>\n      <td>1.0</td>\n    </tr>\n    <tr>\n      <th>5</th>\n      <td>2021-05-01 00:00:31</td>\n      <td>10</td>\n      <td>30068</td>\n      <td>[12990, 20891, 31713, 17810, 8450, 30068]</td>\n      <td>34134</td>\n      <td>1.0</td>\n    </tr>\n    <tr>\n      <th>6</th>\n      <td>2021-05-01 00:00:31</td>\n      <td>10</td>\n      <td>34134</td>\n      <td>[12990, 20891, 31713, 17810, 8450, 30068, 34134]</td>\n      <td>17834</td>\n      <td>1.0</td>\n    </tr>\n    <tr>\n      <th>7</th>\n      <td>2021-05-01 00:00:31</td>\n      <td>10</td>\n      <td>17834</td>\n      <td>[12990, 20891, 31713, 17810, 8450, 30068, 3413...</td>\n      <td>39531</td>\n      <td>1.0</td>\n    </tr>\n    <tr>\n      <th>8</th>\n      <td>2021-05-01 00:00:31</td>\n      <td>10</td>\n      <td>39531</td>\n      <td>[12990, 20891, 31713, 17810, 8450, 30068, 3413...</td>\n      <td>39316</td>\n      <td>1.0</td>\n    </tr>\n    <tr>\n      <th>9</th>\n      <td>2021-05-01 00:00:31</td>\n      <td>10</td>\n      <td>39316</td>\n      <td>[12990, 20891, 31713, 17810, 8450, 30068, 3413...</td>\n      <td>6257</td>\n      <td>1.0</td>\n    </tr>\n    <tr>\n      <th>10</th>\n      <td>2021-05-01 00:00:31</td>\n      <td>10</td>\n      <td>6257</td>\n      <td>[12990, 20891, 31713, 17810, 8450, 30068, 3413...</td>\n      <td>9923</td>\n      <td>1.0</td>\n    </tr>\n    <tr>\n      <th>11</th>\n      <td>2021-05-01 00:00:31</td>\n      <td>10</td>\n      <td>9923</td>\n      <td>[12990, 20891, 31713, 17810, 8450, 30068, 3413...</td>\n      <td>35176</td>\n      <td>1.0</td>\n    </tr>\n    <tr>\n      <th>12</th>\n      <td>2021-05-01 00:00:31</td>\n      <td>10</td>\n      <td>35176</td>\n      <td>[12990, 20891, 31713, 17810, 8450, 30068, 3413...</td>\n      <td>13377</td>\n      <td>1.0</td>\n    </tr>\n    <tr>\n      <th>13</th>\n      <td>2021-05-01 00:00:31</td>\n      <td>10</td>\n      <td>13377</td>\n      <td>[12990, 20891, 31713, 17810, 8450, 30068, 3413...</td>\n      <td>44969</td>\n      <td>1.0</td>\n    </tr>\n    <tr>\n      <th>14</th>\n      <td>2021-05-01 00:00:31</td>\n      <td>10</td>\n      <td>44969</td>\n      <td>[12990, 20891, 31713, 17810, 8450, 30068, 3413...</td>\n      <td>38612</td>\n      <td>1.0</td>\n    </tr>\n    <tr>\n      <th>15</th>\n      <td>2021-05-01 00:00:31</td>\n      <td>10</td>\n      <td>38612</td>\n      <td>[12990, 20891, 31713, 17810, 8450, 30068, 3413...</td>\n      <td>17916</td>\n      <td>1.0</td>\n    </tr>\n    <tr>\n      <th>16</th>\n      <td>2021-05-01 00:00:31</td>\n      <td>10</td>\n      <td>17916</td>\n      <td>[12990, 20891, 31713, 17810, 8450, 30068, 3413...</td>\n      <td>30154</td>\n      <td>1.0</td>\n    </tr>\n  </tbody>\n</table>\n</div>"
     },
     "metadata": {},
     "output_type": "display_data"
    },
    {
     "data": {
      "text/plain": "         event_datetime  resume_id_encoded  job_id_encoded  \\\n17  2021-05-01 00:00:31                 10           30154   \n18  2021-05-01 00:00:31                 10           11814   \n\n                                      job_id_sequence job_id_next  class  \n17  [12990, 20891, 31713, 17810, 8450, 30068, 3413...       11814    1.0  \n18  [12990, 20891, 31713, 17810, 8450, 30068, 3413...       13550    1.0  ",
      "text/html": "<div>\n<style scoped>\n    .dataframe tbody tr th:only-of-type {\n        vertical-align: middle;\n    }\n\n    .dataframe tbody tr th {\n        vertical-align: top;\n    }\n\n    .dataframe thead th {\n        text-align: right;\n    }\n</style>\n<table border=\"1\" class=\"dataframe\">\n  <thead>\n    <tr style=\"text-align: right;\">\n      <th></th>\n      <th>event_datetime</th>\n      <th>resume_id_encoded</th>\n      <th>job_id_encoded</th>\n      <th>job_id_sequence</th>\n      <th>job_id_next</th>\n      <th>class</th>\n    </tr>\n  </thead>\n  <tbody>\n    <tr>\n      <th>17</th>\n      <td>2021-05-01 00:00:31</td>\n      <td>10</td>\n      <td>30154</td>\n      <td>[12990, 20891, 31713, 17810, 8450, 30068, 3413...</td>\n      <td>11814</td>\n      <td>1.0</td>\n    </tr>\n    <tr>\n      <th>18</th>\n      <td>2021-05-01 00:00:31</td>\n      <td>10</td>\n      <td>11814</td>\n      <td>[12990, 20891, 31713, 17810, 8450, 30068, 3413...</td>\n      <td>13550</td>\n      <td>1.0</td>\n    </tr>\n  </tbody>\n</table>\n</div>"
     },
     "metadata": {},
     "output_type": "display_data"
    },
    {
     "data": {
      "text/plain": "         event_datetime  resume_id_encoded  job_id_encoded  \\\n19  2021-05-01 00:00:31                 10           13550   \n20  2021-05-01 00:00:31                 10           40708   \n21  2021-05-01 00:00:31                 10           27016   \n\n                                      job_id_sequence job_id_next  class  \n19  [12990, 20891, 31713, 17810, 8450, 30068, 3413...       40708    1.0  \n20  [12990, 20891, 31713, 17810, 8450, 30068, 3413...       27016    1.0  \n21  [12990, 20891, 31713, 17810, 8450, 30068, 3413...       21303    1.0  ",
      "text/html": "<div>\n<style scoped>\n    .dataframe tbody tr th:only-of-type {\n        vertical-align: middle;\n    }\n\n    .dataframe tbody tr th {\n        vertical-align: top;\n    }\n\n    .dataframe thead th {\n        text-align: right;\n    }\n</style>\n<table border=\"1\" class=\"dataframe\">\n  <thead>\n    <tr style=\"text-align: right;\">\n      <th></th>\n      <th>event_datetime</th>\n      <th>resume_id_encoded</th>\n      <th>job_id_encoded</th>\n      <th>job_id_sequence</th>\n      <th>job_id_next</th>\n      <th>class</th>\n    </tr>\n  </thead>\n  <tbody>\n    <tr>\n      <th>19</th>\n      <td>2021-05-01 00:00:31</td>\n      <td>10</td>\n      <td>13550</td>\n      <td>[12990, 20891, 31713, 17810, 8450, 30068, 3413...</td>\n      <td>40708</td>\n      <td>1.0</td>\n    </tr>\n    <tr>\n      <th>20</th>\n      <td>2021-05-01 00:00:31</td>\n      <td>10</td>\n      <td>40708</td>\n      <td>[12990, 20891, 31713, 17810, 8450, 30068, 3413...</td>\n      <td>27016</td>\n      <td>1.0</td>\n    </tr>\n    <tr>\n      <th>21</th>\n      <td>2021-05-01 00:00:31</td>\n      <td>10</td>\n      <td>27016</td>\n      <td>[12990, 20891, 31713, 17810, 8450, 30068, 3413...</td>\n      <td>21303</td>\n      <td>1.0</td>\n    </tr>\n  </tbody>\n</table>\n</div>"
     },
     "metadata": {},
     "output_type": "display_data"
    }
   ],
   "source": [
    "# positive: train, valid, test\n",
    "TRAIN_TEST_SPLIT_TEST_SIZE = 0.2\n",
    "train_ground_truth, valid_test_ground_truth = train_test_split(df_example_resume_id_positive_items, test_size=TRAIN_TEST_SPLIT_TEST_SIZE, shuffle=False)\n",
    "VALID_TEST_SPLIT_TEST_SIZE = 0.5\n",
    "valid_ground_truth, test_ground_truth = train_test_split(valid_test_ground_truth, test_size=VALID_TEST_SPLIT_TEST_SIZE, shuffle=False)\n",
    "for x in [train_ground_truth, valid_ground_truth, test_ground_truth]:\n",
    "    display(x)"
   ],
   "metadata": {
    "collapsed": false,
    "ExecuteTime": {
     "end_time": "2023-06-26T14:39:00.562336050Z",
     "start_time": "2023-06-26T14:39:00.510694855Z"
    }
   }
  },
  {
   "cell_type": "code",
   "execution_count": 50,
   "metadata": {
    "collapsed": false,
    "ExecuteTime": {
     "end_time": "2023-06-26T14:39:03.471356651Z",
     "start_time": "2023-06-26T14:39:03.411401766Z"
    }
   },
   "outputs": [
    {
     "data": {
      "text/plain": "         event_datetime  resume_id_encoded  job_id_encoded  \\\n0   2021-05-01 00:00:31                 10           12990   \n1   2021-05-01 00:00:31                 10           20891   \n2   2021-05-01 00:00:31                 10           31713   \n3   2021-05-01 00:00:31                 10           17810   \n4   2021-05-01 00:00:31                 10            8450   \n5   2021-05-01 00:00:31                 10           30068   \n6   2021-05-01 00:00:31                 10           34134   \n7   2021-05-01 00:00:31                 10           17834   \n8   2021-05-01 00:00:31                 10           39531   \n9   2021-05-01 00:00:31                 10           39316   \n10  2021-05-01 00:00:31                 10            6257   \n11  2021-05-01 00:00:31                 10            9923   \n12  2021-05-01 00:00:31                 10           35176   \n13  2021-05-01 00:00:31                 10           13377   \n14  2021-05-01 00:00:31                 10           44969   \n15  2021-05-01 00:00:31                 10           38612   \n16  2021-05-01 00:00:31                 10           17916   \n\n                                      job_id_sequence  job_id_next  class  \n0                                             [12990]        35592      0  \n1                                      [12990, 20891]         4530      0  \n2                               [12990, 20891, 31713]         8642      0  \n3                        [12990, 20891, 31713, 17810]        19828      0  \n4                  [12990, 20891, 31713, 17810, 8450]        18409      0  \n5           [12990, 20891, 31713, 17810, 8450, 30068]        27392      0  \n6    [12990, 20891, 31713, 17810, 8450, 30068, 34134]        44813      0  \n7   [12990, 20891, 31713, 17810, 8450, 30068, 3413...        35825      0  \n8   [12990, 20891, 31713, 17810, 8450, 30068, 3413...        40239      0  \n9   [12990, 20891, 31713, 17810, 8450, 30068, 3413...        23330      0  \n10  [12990, 20891, 31713, 17810, 8450, 30068, 3413...        19642      0  \n11  [12990, 20891, 31713, 17810, 8450, 30068, 3413...        21055      0  \n12  [12990, 20891, 31713, 17810, 8450, 30068, 3413...        46267      0  \n13  [12990, 20891, 31713, 17810, 8450, 30068, 3413...         1232      0  \n14  [12990, 20891, 31713, 17810, 8450, 30068, 3413...        46292      0  \n15  [12990, 20891, 31713, 17810, 8450, 30068, 3413...        23877      0  \n16  [12990, 20891, 31713, 17810, 8450, 30068, 3413...        36949      0  ",
      "text/html": "<div>\n<style scoped>\n    .dataframe tbody tr th:only-of-type {\n        vertical-align: middle;\n    }\n\n    .dataframe tbody tr th {\n        vertical-align: top;\n    }\n\n    .dataframe thead th {\n        text-align: right;\n    }\n</style>\n<table border=\"1\" class=\"dataframe\">\n  <thead>\n    <tr style=\"text-align: right;\">\n      <th></th>\n      <th>event_datetime</th>\n      <th>resume_id_encoded</th>\n      <th>job_id_encoded</th>\n      <th>job_id_sequence</th>\n      <th>job_id_next</th>\n      <th>class</th>\n    </tr>\n  </thead>\n  <tbody>\n    <tr>\n      <th>0</th>\n      <td>2021-05-01 00:00:31</td>\n      <td>10</td>\n      <td>12990</td>\n      <td>[12990]</td>\n      <td>35592</td>\n      <td>0</td>\n    </tr>\n    <tr>\n      <th>1</th>\n      <td>2021-05-01 00:00:31</td>\n      <td>10</td>\n      <td>20891</td>\n      <td>[12990, 20891]</td>\n      <td>4530</td>\n      <td>0</td>\n    </tr>\n    <tr>\n      <th>2</th>\n      <td>2021-05-01 00:00:31</td>\n      <td>10</td>\n      <td>31713</td>\n      <td>[12990, 20891, 31713]</td>\n      <td>8642</td>\n      <td>0</td>\n    </tr>\n    <tr>\n      <th>3</th>\n      <td>2021-05-01 00:00:31</td>\n      <td>10</td>\n      <td>17810</td>\n      <td>[12990, 20891, 31713, 17810]</td>\n      <td>19828</td>\n      <td>0</td>\n    </tr>\n    <tr>\n      <th>4</th>\n      <td>2021-05-01 00:00:31</td>\n      <td>10</td>\n      <td>8450</td>\n      <td>[12990, 20891, 31713, 17810, 8450]</td>\n      <td>18409</td>\n      <td>0</td>\n    </tr>\n    <tr>\n      <th>5</th>\n      <td>2021-05-01 00:00:31</td>\n      <td>10</td>\n      <td>30068</td>\n      <td>[12990, 20891, 31713, 17810, 8450, 30068]</td>\n      <td>27392</td>\n      <td>0</td>\n    </tr>\n    <tr>\n      <th>6</th>\n      <td>2021-05-01 00:00:31</td>\n      <td>10</td>\n      <td>34134</td>\n      <td>[12990, 20891, 31713, 17810, 8450, 30068, 34134]</td>\n      <td>44813</td>\n      <td>0</td>\n    </tr>\n    <tr>\n      <th>7</th>\n      <td>2021-05-01 00:00:31</td>\n      <td>10</td>\n      <td>17834</td>\n      <td>[12990, 20891, 31713, 17810, 8450, 30068, 3413...</td>\n      <td>35825</td>\n      <td>0</td>\n    </tr>\n    <tr>\n      <th>8</th>\n      <td>2021-05-01 00:00:31</td>\n      <td>10</td>\n      <td>39531</td>\n      <td>[12990, 20891, 31713, 17810, 8450, 30068, 3413...</td>\n      <td>40239</td>\n      <td>0</td>\n    </tr>\n    <tr>\n      <th>9</th>\n      <td>2021-05-01 00:00:31</td>\n      <td>10</td>\n      <td>39316</td>\n      <td>[12990, 20891, 31713, 17810, 8450, 30068, 3413...</td>\n      <td>23330</td>\n      <td>0</td>\n    </tr>\n    <tr>\n      <th>10</th>\n      <td>2021-05-01 00:00:31</td>\n      <td>10</td>\n      <td>6257</td>\n      <td>[12990, 20891, 31713, 17810, 8450, 30068, 3413...</td>\n      <td>19642</td>\n      <td>0</td>\n    </tr>\n    <tr>\n      <th>11</th>\n      <td>2021-05-01 00:00:31</td>\n      <td>10</td>\n      <td>9923</td>\n      <td>[12990, 20891, 31713, 17810, 8450, 30068, 3413...</td>\n      <td>21055</td>\n      <td>0</td>\n    </tr>\n    <tr>\n      <th>12</th>\n      <td>2021-05-01 00:00:31</td>\n      <td>10</td>\n      <td>35176</td>\n      <td>[12990, 20891, 31713, 17810, 8450, 30068, 3413...</td>\n      <td>46267</td>\n      <td>0</td>\n    </tr>\n    <tr>\n      <th>13</th>\n      <td>2021-05-01 00:00:31</td>\n      <td>10</td>\n      <td>13377</td>\n      <td>[12990, 20891, 31713, 17810, 8450, 30068, 3413...</td>\n      <td>1232</td>\n      <td>0</td>\n    </tr>\n    <tr>\n      <th>14</th>\n      <td>2021-05-01 00:00:31</td>\n      <td>10</td>\n      <td>44969</td>\n      <td>[12990, 20891, 31713, 17810, 8450, 30068, 3413...</td>\n      <td>46292</td>\n      <td>0</td>\n    </tr>\n    <tr>\n      <th>15</th>\n      <td>2021-05-01 00:00:31</td>\n      <td>10</td>\n      <td>38612</td>\n      <td>[12990, 20891, 31713, 17810, 8450, 30068, 3413...</td>\n      <td>23877</td>\n      <td>0</td>\n    </tr>\n    <tr>\n      <th>16</th>\n      <td>2021-05-01 00:00:31</td>\n      <td>10</td>\n      <td>17916</td>\n      <td>[12990, 20891, 31713, 17810, 8450, 30068, 3413...</td>\n      <td>36949</td>\n      <td>0</td>\n    </tr>\n  </tbody>\n</table>\n</div>"
     },
     "metadata": {},
     "output_type": "display_data"
    },
    {
     "data": {
      "text/plain": "         event_datetime  resume_id_encoded  job_id_encoded  \\\n17  2021-05-01 00:00:31                 10           30154   \n18  2021-05-01 00:00:31                 10           11814   \n\n                                      job_id_sequence  job_id_next  class  \n17  [12990, 20891, 31713, 17810, 8450, 30068, 3413...        37509      0  \n18  [12990, 20891, 31713, 17810, 8450, 30068, 3413...        14870      0  ",
      "text/html": "<div>\n<style scoped>\n    .dataframe tbody tr th:only-of-type {\n        vertical-align: middle;\n    }\n\n    .dataframe tbody tr th {\n        vertical-align: top;\n    }\n\n    .dataframe thead th {\n        text-align: right;\n    }\n</style>\n<table border=\"1\" class=\"dataframe\">\n  <thead>\n    <tr style=\"text-align: right;\">\n      <th></th>\n      <th>event_datetime</th>\n      <th>resume_id_encoded</th>\n      <th>job_id_encoded</th>\n      <th>job_id_sequence</th>\n      <th>job_id_next</th>\n      <th>class</th>\n    </tr>\n  </thead>\n  <tbody>\n    <tr>\n      <th>17</th>\n      <td>2021-05-01 00:00:31</td>\n      <td>10</td>\n      <td>30154</td>\n      <td>[12990, 20891, 31713, 17810, 8450, 30068, 3413...</td>\n      <td>37509</td>\n      <td>0</td>\n    </tr>\n    <tr>\n      <th>18</th>\n      <td>2021-05-01 00:00:31</td>\n      <td>10</td>\n      <td>11814</td>\n      <td>[12990, 20891, 31713, 17810, 8450, 30068, 3413...</td>\n      <td>14870</td>\n      <td>0</td>\n    </tr>\n  </tbody>\n</table>\n</div>"
     },
     "metadata": {},
     "output_type": "display_data"
    },
    {
     "data": {
      "text/plain": "         event_datetime  resume_id_encoded  job_id_encoded  \\\n19  2021-05-01 00:00:31                 10           13550   \n20  2021-05-01 00:00:31                 10           40708   \n21  2021-05-01 00:00:31                 10           27016   \n\n                                      job_id_sequence  job_id_next  class  \n19  [12990, 20891, 31713, 17810, 8450, 30068, 3413...        26602      0  \n20  [12990, 20891, 31713, 17810, 8450, 30068, 3413...         3980      0  \n21  [12990, 20891, 31713, 17810, 8450, 30068, 3413...        24980      0  ",
      "text/html": "<div>\n<style scoped>\n    .dataframe tbody tr th:only-of-type {\n        vertical-align: middle;\n    }\n\n    .dataframe tbody tr th {\n        vertical-align: top;\n    }\n\n    .dataframe thead th {\n        text-align: right;\n    }\n</style>\n<table border=\"1\" class=\"dataframe\">\n  <thead>\n    <tr style=\"text-align: right;\">\n      <th></th>\n      <th>event_datetime</th>\n      <th>resume_id_encoded</th>\n      <th>job_id_encoded</th>\n      <th>job_id_sequence</th>\n      <th>job_id_next</th>\n      <th>class</th>\n    </tr>\n  </thead>\n  <tbody>\n    <tr>\n      <th>19</th>\n      <td>2021-05-01 00:00:31</td>\n      <td>10</td>\n      <td>13550</td>\n      <td>[12990, 20891, 31713, 17810, 8450, 30068, 3413...</td>\n      <td>26602</td>\n      <td>0</td>\n    </tr>\n    <tr>\n      <th>20</th>\n      <td>2021-05-01 00:00:31</td>\n      <td>10</td>\n      <td>40708</td>\n      <td>[12990, 20891, 31713, 17810, 8450, 30068, 3413...</td>\n      <td>3980</td>\n      <td>0</td>\n    </tr>\n    <tr>\n      <th>21</th>\n      <td>2021-05-01 00:00:31</td>\n      <td>10</td>\n      <td>27016</td>\n      <td>[12990, 20891, 31713, 17810, 8450, 30068, 3413...</td>\n      <td>24980</td>\n      <td>0</td>\n    </tr>\n  </tbody>\n</table>\n</div>"
     },
     "metadata": {},
     "output_type": "display_data"
    }
   ],
   "source": [
    "negative_item_sampling_prob = df_negative_item_candidates['num_resume_ids_pow2a'] / df_negative_item_candidates['num_resume_ids_pow2a'].sum()\n",
    "\n",
    "#data_split_dict = {'train': [train_ground_truth, train_negative_samples], 'valid': [valid_ground_truth, valid_negative_samples], 'test': [test_ground_truth, test_negative_samples]}\n",
    "data_split_dict = {'train': [train_ground_truth], 'valid': [valid_ground_truth], 'test': [test_ground_truth]}\n",
    "\n",
    "for k, v in data_split_dict.items():\n",
    "    v.append(pd.concat([v[0].copy()] * ratio_negative_to_positive_samples))\n",
    "    v[1]['job_id_next'] = np.random.choice(\n",
    "        a=df_negative_item_candidates[JOB_ID_ENCODED],\n",
    "        size=len(v[1].index),\n",
    "        replace=False,\n",
    "        p=negative_item_sampling_prob\n",
    "    )  #negative_samples\n",
    "    v[1]['class'] = 0\n",
    "\n",
    "for k, v in data_split_dict.items():\n",
    "    display(v[1])"
   ]
  },
  {
   "cell_type": "code",
   "execution_count": 51,
   "metadata": {
    "collapsed": false,
    "ExecuteTime": {
     "end_time": "2023-06-26T14:39:19.487572814Z",
     "start_time": "2023-06-26T14:39:19.447821011Z"
    }
   },
   "outputs": [],
   "source": [
    "# data_split_dict['train'][0]['class'].value_counts()"
   ]
  },
  {
   "cell_type": "code",
   "execution_count": 57,
   "outputs": [],
   "source": [
    "# df_ads_active[['location', 'classification']]"
   ],
   "metadata": {
    "collapsed": false,
    "ExecuteTime": {
     "end_time": "2023-06-26T14:43:31.221722284Z",
     "start_time": "2023-06-26T14:43:31.179431925Z"
    }
   }
  },
  {
   "cell_type": "code",
   "execution_count": 52,
   "metadata": {
    "collapsed": false,
    "ExecuteTime": {
     "end_time": "2023-06-26T14:39:20.825104637Z",
     "start_time": "2023-06-26T14:39:20.775019501Z"
    }
   },
   "outputs": [],
   "source": [
    "train_examples = pd.concat(data_split_dict['train']).drop(columns=JOB_ID_ENCODED)\n",
    "train_examples = train_examples.merge(df_ads_active[[JOB_ID_ENCODED, 'title', 'abstract']], left_on='job_id_next', right_on=JOB_ID_ENCODED).drop(columns=JOB_ID_ENCODED)\n",
    "\n",
    "valid_examples = pd.concat(data_split_dict['valid']).drop(columns=JOB_ID_ENCODED)\n",
    "valid_examples = valid_examples.merge(df_ads_active[[JOB_ID_ENCODED, 'title', 'abstract']], left_on='job_id_next', right_on=JOB_ID_ENCODED).drop(columns=JOB_ID_ENCODED)\n",
    "\n",
    "test_examples = pd.concat(data_split_dict['test']).drop(columns=JOB_ID_ENCODED)\n",
    "test_examples = test_examples.merge(df_ads_active[[JOB_ID_ENCODED, 'title', 'abstract']], left_on='job_id_next', right_on=JOB_ID_ENCODED).drop(columns=JOB_ID_ENCODED)\n"
   ]
  },
  {
   "cell_type": "code",
   "execution_count": 53,
   "metadata": {
    "collapsed": false,
    "ExecuteTime": {
     "end_time": "2023-06-26T14:40:52.930998548Z",
     "start_time": "2023-06-26T14:40:52.873397877Z"
    }
   },
   "outputs": [
    {
     "data": {
      "text/plain": "         event_datetime  resume_id_encoded  \\\n0   2021-05-01 00:00:31                 10   \n1   2021-05-01 00:00:31                 10   \n2   2021-05-01 00:00:31                 10   \n3   2021-05-01 00:00:31                 10   \n4   2021-05-01 00:00:31                 10   \n5   2021-05-01 00:00:31                 10   \n6   2021-05-01 00:00:31                 10   \n7   2021-05-01 00:00:31                 10   \n8   2021-05-01 00:00:31                 10   \n9   2021-05-01 00:00:31                 10   \n10  2021-05-01 00:00:31                 10   \n11  2021-05-01 00:00:31                 10   \n12  2021-05-01 00:00:31                 10   \n13  2021-05-01 00:00:31                 10   \n14  2021-05-01 00:00:31                 10   \n15  2021-05-01 00:00:31                 10   \n16  2021-05-01 00:00:31                 10   \n17  2021-05-01 00:00:31                 10   \n18  2021-05-01 00:00:31                 10   \n19  2021-05-01 00:00:31                 10   \n20  2021-05-01 00:00:31                 10   \n21  2021-05-01 00:00:31                 10   \n22  2021-05-01 00:00:31                 10   \n23  2021-05-01 00:00:31                 10   \n24  2021-05-01 00:00:31                 10   \n25  2021-05-01 00:00:31                 10   \n26  2021-05-01 00:00:31                 10   \n27  2021-05-01 00:00:31                 10   \n28  2021-05-01 00:00:31                 10   \n29  2021-05-01 00:00:31                 10   \n30  2021-05-01 00:00:31                 10   \n31  2021-05-01 00:00:31                 10   \n32  2021-05-01 00:00:31                 10   \n33  2021-05-01 00:00:31                 10   \n\n                                      job_id_sequence job_id_next  class  \\\n0                                             [12990]       20891    1.0   \n1                                      [12990, 20891]       31713    1.0   \n2                               [12990, 20891, 31713]       17810    1.0   \n3                        [12990, 20891, 31713, 17810]        8450    1.0   \n4                  [12990, 20891, 31713, 17810, 8450]       30068    1.0   \n5           [12990, 20891, 31713, 17810, 8450, 30068]       34134    1.0   \n6    [12990, 20891, 31713, 17810, 8450, 30068, 34134]       17834    1.0   \n7   [12990, 20891, 31713, 17810, 8450, 30068, 3413...       39531    1.0   \n8   [12990, 20891, 31713, 17810, 8450, 30068, 3413...       39316    1.0   \n9   [12990, 20891, 31713, 17810, 8450, 30068, 3413...        6257    1.0   \n10  [12990, 20891, 31713, 17810, 8450, 30068, 3413...        9923    1.0   \n11  [12990, 20891, 31713, 17810, 8450, 30068, 3413...       35176    1.0   \n12  [12990, 20891, 31713, 17810, 8450, 30068, 3413...       13377    1.0   \n13  [12990, 20891, 31713, 17810, 8450, 30068, 3413...       44969    1.0   \n14  [12990, 20891, 31713, 17810, 8450, 30068, 3413...       38612    1.0   \n15  [12990, 20891, 31713, 17810, 8450, 30068, 3413...       17916    1.0   \n16  [12990, 20891, 31713, 17810, 8450, 30068, 3413...       30154    1.0   \n17                                            [12990]       35592    0.0   \n18                                     [12990, 20891]        4530    0.0   \n19                              [12990, 20891, 31713]        8642    0.0   \n20                       [12990, 20891, 31713, 17810]       19828    0.0   \n21                 [12990, 20891, 31713, 17810, 8450]       18409    0.0   \n22          [12990, 20891, 31713, 17810, 8450, 30068]       27392    0.0   \n23   [12990, 20891, 31713, 17810, 8450, 30068, 34134]       44813    0.0   \n24  [12990, 20891, 31713, 17810, 8450, 30068, 3413...       35825    0.0   \n25  [12990, 20891, 31713, 17810, 8450, 30068, 3413...       40239    0.0   \n26  [12990, 20891, 31713, 17810, 8450, 30068, 3413...       23330    0.0   \n27  [12990, 20891, 31713, 17810, 8450, 30068, 3413...       19642    0.0   \n28  [12990, 20891, 31713, 17810, 8450, 30068, 3413...       21055    0.0   \n29  [12990, 20891, 31713, 17810, 8450, 30068, 3413...       46267    0.0   \n30  [12990, 20891, 31713, 17810, 8450, 30068, 3413...        1232    0.0   \n31  [12990, 20891, 31713, 17810, 8450, 30068, 3413...       46292    0.0   \n32  [12990, 20891, 31713, 17810, 8450, 30068, 3413...       23877    0.0   \n33  [12990, 20891, 31713, 17810, 8450, 30068, 3413...       36949    0.0   \n\n                                                title  \\\n0                               Deputy Mining Manager   \n1                                Domestic Meat Trader   \n2   Customer Care Agent (Customer Service Represen...   \n3                            Territory Manager QLD/NT   \n4                       Human Resources Administrator   \n5                Forklift Driver | Truganina Location   \n6   Family Support Worker - Healthy Mothers Health...   \n7                                     Privacy Advisor   \n8                                     Service Partner   \n9                                     Quality Advisor   \n10                                      Brand Manager   \n11                       Senior Digital Asset Manager   \n12                                     UX/UI Designer   \n13                                       Data Analyst   \n14  0.5 Locum Child & Adolescent Consultant Psychi...   \n15                                NDIS Support Worker   \n16                            Senior Property Manager   \n17  Senior Sonographer - Be part of close senior team   \n18  Medical Imaging Technologist - Mammographer - ...   \n19                            Rehab Physio | Brisbane   \n20        CLUSTER NATIONAL HOTEL OPERATIONS MANAGER -   \n21                             Java Analyst Developer   \n22                                    QC / QA OFFICER   \n23                             Senior Account Manager   \n24                                       Cafe Manager   \n25       Business Services Intermediate | Top 10 Firm   \n26               Part time Barista in Caulfield North   \n27               IP Litigation Lawyer - 3-6 years PQE   \n28                                  Mechanical Fitter   \n29               Aged Care Work in South East Suburbs   \n30             Membership Officers - Crunch Bankstown   \n31                             Communications Manager   \n32                                          Line Cook   \n33                          Full time Cook in Kenmore   \n\n                                             abstract  \n0   Beilby is seeking a highly skilled and experie...  \n1   Do you want to work with one of Australia's fa...  \n2   This is a Monday to Friday role which will be ...  \n3   This is an exciting opportunity for a professi...  \n4   Bring your passion for People and creative fla...  \n5   Looking for a new position in the new year? Lo...  \n6   As the leading public health service in the Ea...  \n7   6 Month opportunity for a Privacy expert to ut...  \n8   The Service Partner works with the Customer Bu...  \n9   We are seeking an enthusiastic and dedicated Q...  \n10  Are you a creative Brand Manager? Opportunity ...  \n11  Love digital marketing? Love content? Love tra...  \n12  Tipple, one of Australia's most exciting start...  \n13  The Data Analyst will support the Building Pol...  \n14  I am currently seeking a Consultant Psychiatri...  \n15  Provide non-clinical support to service users ...  \n16  Are you passionate about Property Management? ...  \n17  Senior role that provides consistent career de...  \n18  This is the opportunity to be part of an excit...  \n19  Enjoy changing the lives of your patients? Tre...  \n20  Are you a talented GM of a 5 star hotel lookin...  \n21  Calling all developers! Randstad is currently ...  \n22  We are a chocolate manufacture based in Padsto...  \n23  MKTG are looking for a Senior Account Manager ...  \n24  The Cafe Manager will be responsible for the d...  \n25  Leading CBD based accounting firm. Seeking a m...  \n26  A cafe in Caulfield North is seeking a part ti...  \n27  Leading IP firm seeks talented IP litigation l...  \n28   Mechanical Fitters temp to permanent opportunity  \n29  We are looking for confident, caring and relia...  \n30  Crunch Fitness is now looking for high energy ...  \n31  Are you an Instagram addict? Do you love commu...  \n32  Experienced and passionate Line Cook, looking ...  \n33  A cafe/restaurant in Kenmore is seeking a full...  ",
      "text/html": "<div>\n<style scoped>\n    .dataframe tbody tr th:only-of-type {\n        vertical-align: middle;\n    }\n\n    .dataframe tbody tr th {\n        vertical-align: top;\n    }\n\n    .dataframe thead th {\n        text-align: right;\n    }\n</style>\n<table border=\"1\" class=\"dataframe\">\n  <thead>\n    <tr style=\"text-align: right;\">\n      <th></th>\n      <th>event_datetime</th>\n      <th>resume_id_encoded</th>\n      <th>job_id_sequence</th>\n      <th>job_id_next</th>\n      <th>class</th>\n      <th>title</th>\n      <th>abstract</th>\n    </tr>\n  </thead>\n  <tbody>\n    <tr>\n      <th>0</th>\n      <td>2021-05-01 00:00:31</td>\n      <td>10</td>\n      <td>[12990]</td>\n      <td>20891</td>\n      <td>1.0</td>\n      <td>Deputy Mining Manager</td>\n      <td>Beilby is seeking a highly skilled and experie...</td>\n    </tr>\n    <tr>\n      <th>1</th>\n      <td>2021-05-01 00:00:31</td>\n      <td>10</td>\n      <td>[12990, 20891]</td>\n      <td>31713</td>\n      <td>1.0</td>\n      <td>Domestic Meat Trader</td>\n      <td>Do you want to work with one of Australia's fa...</td>\n    </tr>\n    <tr>\n      <th>2</th>\n      <td>2021-05-01 00:00:31</td>\n      <td>10</td>\n      <td>[12990, 20891, 31713]</td>\n      <td>17810</td>\n      <td>1.0</td>\n      <td>Customer Care Agent (Customer Service Represen...</td>\n      <td>This is a Monday to Friday role which will be ...</td>\n    </tr>\n    <tr>\n      <th>3</th>\n      <td>2021-05-01 00:00:31</td>\n      <td>10</td>\n      <td>[12990, 20891, 31713, 17810]</td>\n      <td>8450</td>\n      <td>1.0</td>\n      <td>Territory Manager QLD/NT</td>\n      <td>This is an exciting opportunity for a professi...</td>\n    </tr>\n    <tr>\n      <th>4</th>\n      <td>2021-05-01 00:00:31</td>\n      <td>10</td>\n      <td>[12990, 20891, 31713, 17810, 8450]</td>\n      <td>30068</td>\n      <td>1.0</td>\n      <td>Human Resources Administrator</td>\n      <td>Bring your passion for People and creative fla...</td>\n    </tr>\n    <tr>\n      <th>5</th>\n      <td>2021-05-01 00:00:31</td>\n      <td>10</td>\n      <td>[12990, 20891, 31713, 17810, 8450, 30068]</td>\n      <td>34134</td>\n      <td>1.0</td>\n      <td>Forklift Driver | Truganina Location</td>\n      <td>Looking for a new position in the new year? Lo...</td>\n    </tr>\n    <tr>\n      <th>6</th>\n      <td>2021-05-01 00:00:31</td>\n      <td>10</td>\n      <td>[12990, 20891, 31713, 17810, 8450, 30068, 34134]</td>\n      <td>17834</td>\n      <td>1.0</td>\n      <td>Family Support Worker - Healthy Mothers Health...</td>\n      <td>As the leading public health service in the Ea...</td>\n    </tr>\n    <tr>\n      <th>7</th>\n      <td>2021-05-01 00:00:31</td>\n      <td>10</td>\n      <td>[12990, 20891, 31713, 17810, 8450, 30068, 3413...</td>\n      <td>39531</td>\n      <td>1.0</td>\n      <td>Privacy Advisor</td>\n      <td>6 Month opportunity for a Privacy expert to ut...</td>\n    </tr>\n    <tr>\n      <th>8</th>\n      <td>2021-05-01 00:00:31</td>\n      <td>10</td>\n      <td>[12990, 20891, 31713, 17810, 8450, 30068, 3413...</td>\n      <td>39316</td>\n      <td>1.0</td>\n      <td>Service Partner</td>\n      <td>The Service Partner works with the Customer Bu...</td>\n    </tr>\n    <tr>\n      <th>9</th>\n      <td>2021-05-01 00:00:31</td>\n      <td>10</td>\n      <td>[12990, 20891, 31713, 17810, 8450, 30068, 3413...</td>\n      <td>6257</td>\n      <td>1.0</td>\n      <td>Quality Advisor</td>\n      <td>We are seeking an enthusiastic and dedicated Q...</td>\n    </tr>\n    <tr>\n      <th>10</th>\n      <td>2021-05-01 00:00:31</td>\n      <td>10</td>\n      <td>[12990, 20891, 31713, 17810, 8450, 30068, 3413...</td>\n      <td>9923</td>\n      <td>1.0</td>\n      <td>Brand Manager</td>\n      <td>Are you a creative Brand Manager? Opportunity ...</td>\n    </tr>\n    <tr>\n      <th>11</th>\n      <td>2021-05-01 00:00:31</td>\n      <td>10</td>\n      <td>[12990, 20891, 31713, 17810, 8450, 30068, 3413...</td>\n      <td>35176</td>\n      <td>1.0</td>\n      <td>Senior Digital Asset Manager</td>\n      <td>Love digital marketing? Love content? Love tra...</td>\n    </tr>\n    <tr>\n      <th>12</th>\n      <td>2021-05-01 00:00:31</td>\n      <td>10</td>\n      <td>[12990, 20891, 31713, 17810, 8450, 30068, 3413...</td>\n      <td>13377</td>\n      <td>1.0</td>\n      <td>UX/UI Designer</td>\n      <td>Tipple, one of Australia's most exciting start...</td>\n    </tr>\n    <tr>\n      <th>13</th>\n      <td>2021-05-01 00:00:31</td>\n      <td>10</td>\n      <td>[12990, 20891, 31713, 17810, 8450, 30068, 3413...</td>\n      <td>44969</td>\n      <td>1.0</td>\n      <td>Data Analyst</td>\n      <td>The Data Analyst will support the Building Pol...</td>\n    </tr>\n    <tr>\n      <th>14</th>\n      <td>2021-05-01 00:00:31</td>\n      <td>10</td>\n      <td>[12990, 20891, 31713, 17810, 8450, 30068, 3413...</td>\n      <td>38612</td>\n      <td>1.0</td>\n      <td>0.5 Locum Child &amp; Adolescent Consultant Psychi...</td>\n      <td>I am currently seeking a Consultant Psychiatri...</td>\n    </tr>\n    <tr>\n      <th>15</th>\n      <td>2021-05-01 00:00:31</td>\n      <td>10</td>\n      <td>[12990, 20891, 31713, 17810, 8450, 30068, 3413...</td>\n      <td>17916</td>\n      <td>1.0</td>\n      <td>NDIS Support Worker</td>\n      <td>Provide non-clinical support to service users ...</td>\n    </tr>\n    <tr>\n      <th>16</th>\n      <td>2021-05-01 00:00:31</td>\n      <td>10</td>\n      <td>[12990, 20891, 31713, 17810, 8450, 30068, 3413...</td>\n      <td>30154</td>\n      <td>1.0</td>\n      <td>Senior Property Manager</td>\n      <td>Are you passionate about Property Management? ...</td>\n    </tr>\n    <tr>\n      <th>17</th>\n      <td>2021-05-01 00:00:31</td>\n      <td>10</td>\n      <td>[12990]</td>\n      <td>35592</td>\n      <td>0.0</td>\n      <td>Senior Sonographer - Be part of close senior team</td>\n      <td>Senior role that provides consistent career de...</td>\n    </tr>\n    <tr>\n      <th>18</th>\n      <td>2021-05-01 00:00:31</td>\n      <td>10</td>\n      <td>[12990, 20891]</td>\n      <td>4530</td>\n      <td>0.0</td>\n      <td>Medical Imaging Technologist - Mammographer - ...</td>\n      <td>This is the opportunity to be part of an excit...</td>\n    </tr>\n    <tr>\n      <th>19</th>\n      <td>2021-05-01 00:00:31</td>\n      <td>10</td>\n      <td>[12990, 20891, 31713]</td>\n      <td>8642</td>\n      <td>0.0</td>\n      <td>Rehab Physio | Brisbane</td>\n      <td>Enjoy changing the lives of your patients? Tre...</td>\n    </tr>\n    <tr>\n      <th>20</th>\n      <td>2021-05-01 00:00:31</td>\n      <td>10</td>\n      <td>[12990, 20891, 31713, 17810]</td>\n      <td>19828</td>\n      <td>0.0</td>\n      <td>CLUSTER NATIONAL HOTEL OPERATIONS MANAGER -</td>\n      <td>Are you a talented GM of a 5 star hotel lookin...</td>\n    </tr>\n    <tr>\n      <th>21</th>\n      <td>2021-05-01 00:00:31</td>\n      <td>10</td>\n      <td>[12990, 20891, 31713, 17810, 8450]</td>\n      <td>18409</td>\n      <td>0.0</td>\n      <td>Java Analyst Developer</td>\n      <td>Calling all developers! Randstad is currently ...</td>\n    </tr>\n    <tr>\n      <th>22</th>\n      <td>2021-05-01 00:00:31</td>\n      <td>10</td>\n      <td>[12990, 20891, 31713, 17810, 8450, 30068]</td>\n      <td>27392</td>\n      <td>0.0</td>\n      <td>QC / QA OFFICER</td>\n      <td>We are a chocolate manufacture based in Padsto...</td>\n    </tr>\n    <tr>\n      <th>23</th>\n      <td>2021-05-01 00:00:31</td>\n      <td>10</td>\n      <td>[12990, 20891, 31713, 17810, 8450, 30068, 34134]</td>\n      <td>44813</td>\n      <td>0.0</td>\n      <td>Senior Account Manager</td>\n      <td>MKTG are looking for a Senior Account Manager ...</td>\n    </tr>\n    <tr>\n      <th>24</th>\n      <td>2021-05-01 00:00:31</td>\n      <td>10</td>\n      <td>[12990, 20891, 31713, 17810, 8450, 30068, 3413...</td>\n      <td>35825</td>\n      <td>0.0</td>\n      <td>Cafe Manager</td>\n      <td>The Cafe Manager will be responsible for the d...</td>\n    </tr>\n    <tr>\n      <th>25</th>\n      <td>2021-05-01 00:00:31</td>\n      <td>10</td>\n      <td>[12990, 20891, 31713, 17810, 8450, 30068, 3413...</td>\n      <td>40239</td>\n      <td>0.0</td>\n      <td>Business Services Intermediate | Top 10 Firm</td>\n      <td>Leading CBD based accounting firm. Seeking a m...</td>\n    </tr>\n    <tr>\n      <th>26</th>\n      <td>2021-05-01 00:00:31</td>\n      <td>10</td>\n      <td>[12990, 20891, 31713, 17810, 8450, 30068, 3413...</td>\n      <td>23330</td>\n      <td>0.0</td>\n      <td>Part time Barista in Caulfield North</td>\n      <td>A cafe in Caulfield North is seeking a part ti...</td>\n    </tr>\n    <tr>\n      <th>27</th>\n      <td>2021-05-01 00:00:31</td>\n      <td>10</td>\n      <td>[12990, 20891, 31713, 17810, 8450, 30068, 3413...</td>\n      <td>19642</td>\n      <td>0.0</td>\n      <td>IP Litigation Lawyer - 3-6 years PQE</td>\n      <td>Leading IP firm seeks talented IP litigation l...</td>\n    </tr>\n    <tr>\n      <th>28</th>\n      <td>2021-05-01 00:00:31</td>\n      <td>10</td>\n      <td>[12990, 20891, 31713, 17810, 8450, 30068, 3413...</td>\n      <td>21055</td>\n      <td>0.0</td>\n      <td>Mechanical Fitter</td>\n      <td>Mechanical Fitters temp to permanent opportunity</td>\n    </tr>\n    <tr>\n      <th>29</th>\n      <td>2021-05-01 00:00:31</td>\n      <td>10</td>\n      <td>[12990, 20891, 31713, 17810, 8450, 30068, 3413...</td>\n      <td>46267</td>\n      <td>0.0</td>\n      <td>Aged Care Work in South East Suburbs</td>\n      <td>We are looking for confident, caring and relia...</td>\n    </tr>\n    <tr>\n      <th>30</th>\n      <td>2021-05-01 00:00:31</td>\n      <td>10</td>\n      <td>[12990, 20891, 31713, 17810, 8450, 30068, 3413...</td>\n      <td>1232</td>\n      <td>0.0</td>\n      <td>Membership Officers - Crunch Bankstown</td>\n      <td>Crunch Fitness is now looking for high energy ...</td>\n    </tr>\n    <tr>\n      <th>31</th>\n      <td>2021-05-01 00:00:31</td>\n      <td>10</td>\n      <td>[12990, 20891, 31713, 17810, 8450, 30068, 3413...</td>\n      <td>46292</td>\n      <td>0.0</td>\n      <td>Communications Manager</td>\n      <td>Are you an Instagram addict? Do you love commu...</td>\n    </tr>\n    <tr>\n      <th>32</th>\n      <td>2021-05-01 00:00:31</td>\n      <td>10</td>\n      <td>[12990, 20891, 31713, 17810, 8450, 30068, 3413...</td>\n      <td>23877</td>\n      <td>0.0</td>\n      <td>Line Cook</td>\n      <td>Experienced and passionate Line Cook, looking ...</td>\n    </tr>\n    <tr>\n      <th>33</th>\n      <td>2021-05-01 00:00:31</td>\n      <td>10</td>\n      <td>[12990, 20891, 31713, 17810, 8450, 30068, 3413...</td>\n      <td>36949</td>\n      <td>0.0</td>\n      <td>Full time Cook in Kenmore</td>\n      <td>A cafe/restaurant in Kenmore is seeking a full...</td>\n    </tr>\n  </tbody>\n</table>\n</div>"
     },
     "execution_count": 53,
     "metadata": {},
     "output_type": "execute_result"
    }
   ],
   "source": [
    "train_examples"
   ]
  },
  {
   "cell_type": "code",
   "execution_count": 34,
   "metadata": {
    "collapsed": false,
    "ExecuteTime": {
     "end_time": "2023-06-15T11:43:19.868022080Z",
     "start_time": "2023-06-15T11:43:19.840758637Z"
    }
   },
   "outputs": [
    {
     "data": {
      "text/plain": "class\n0.0    25\n1.0     5\nName: count, dtype: int64"
     },
     "execution_count": 34,
     "metadata": {},
     "output_type": "execute_result"
    }
   ],
   "source": [
    "test_examples['class'].value_counts()"
   ]
  },
  {
   "attachments": {},
   "cell_type": "markdown",
   "metadata": {
    "collapsed": false
   },
   "source": [
    "# Generate train and test datasets (loop through all users)"
   ]
  },
  {
   "cell_type": "code",
   "execution_count": 24,
   "metadata": {
    "collapsed": false,
    "ExecuteTime": {
     "end_time": "2023-06-26T15:01:09.664112107Z",
     "start_time": "2023-06-26T15:01:09.603263455Z"
    }
   },
   "outputs": [],
   "source": [
    "def create_data_split(_ratio_negative_to_positive_samples: int):\n",
    "    \"\"\"\n",
    "    Traverse all users and create the training and test datasets\n",
    "    :return: (train_set, valid_set, test_set)\n",
    "    \"\"\"\n",
    "    train_examples_users_list = []\n",
    "    valid_examples_users_list = []\n",
    "    test_examples_users_list = []\n",
    "\n",
    "    for resume_id in tqdm(df_users_active[RESUME_ID_ENCODED].unique()):\n",
    "        df_example_resume_id = df_events_view_active[df_events_view_active[RESUME_ID_ENCODED] == resume_id].reset_index(drop=True)\n",
    "\n",
    "        positive_items_by_current_user = df_example_resume_id[JOB_ID_ENCODED].to_list()\n",
    "\n",
    "        #Sequential clicks by the example user\n",
    "        df_example_resume_id['job_id_sequence'] = None\n",
    "        df_example_resume_id['job_id_next'] = None\n",
    "\n",
    "        tss = TimeSeriesSplit(n_splits=len(df_example_resume_id.index) - 1, test_size=1)  #, test_size=2)\n",
    "        for i, (x, y) in enumerate(tss.split(df_example_resume_id)):\n",
    "            # print(\n",
    "            #     i,\n",
    "            #     x, '-->', y, '\\t',\n",
    "            #     x[-1], ':',\n",
    "            #     df_example_resume_id.iloc[:x[-1] + 1]['job_id'].tolist(), '-->', df_example_resume_id.iloc[y[-1]]['job_id']\n",
    "            # )\n",
    "            df_example_resume_id.loc[df_example_resume_id.index == x[-1], 'job_id_sequence'] = str(df_example_resume_id.iloc[:x[-1] + 1][JOB_ID_ENCODED].tolist())\n",
    "            df_example_resume_id.loc[df_example_resume_id.index == x[-1], 'job_id_next'] = df_example_resume_id.iloc[y[-1]][JOB_ID_ENCODED]\n",
    "            df_example_resume_id.loc[df_example_resume_id.index == x[-1], 'class'] = 1\n",
    "\n",
    "        # Remove the last row that has no next item for prediction\n",
    "        df_example_resume_id_positive_items = df_example_resume_id.drop(index=df_example_resume_id.index[-1])\n",
    "\n",
    "        #Popularity-biased Negative Sampling\n",
    "        df_negative_item_candidates = df_job_id_popularity_active[\n",
    "            ~df_job_id_popularity_active[JOB_ID_ENCODED].isin(positive_items_by_current_user)]\n",
    "\n",
    "        # ratio_negative_to_positive_samples = 5\n",
    "\n",
    "        # positive: train, valid, test\n",
    "        TRAIN_TEST_SPLIT_TEST_SIZE = 0.2\n",
    "        VALID_TEST_SPLIT_TEST_SIZE = 0.5\n",
    "        train_ground_truth, valid_test_ground_truth = train_test_split(df_example_resume_id_positive_items, test_size=TRAIN_TEST_SPLIT_TEST_SIZE, shuffle=False)\n",
    "        valid_ground_truth, test_ground_truth = train_test_split(valid_test_ground_truth, test_size=VALID_TEST_SPLIT_TEST_SIZE, shuffle=False)\n",
    "\n",
    "        negative_item_sampling_prob = df_negative_item_candidates['num_resume_ids_pow2a'] / df_negative_item_candidates['num_resume_ids_pow2a'].sum()\n",
    "\n",
    "        data_split_dict = {'train': [train_ground_truth], 'valid': [valid_ground_truth], 'test': [test_ground_truth]}\n",
    "        # Generate negative samples\n",
    "        for k, v in data_split_dict.items():\n",
    "            v.append(pd.concat([v[0].copy()] * _ratio_negative_to_positive_samples))\n",
    "            v[1]['job_id_next'] = np.random.choice(\n",
    "                a=df_negative_item_candidates[JOB_ID_ENCODED],\n",
    "                size=len(v[1].index),\n",
    "                replace=False,\n",
    "                p=negative_item_sampling_prob\n",
    "            )  #negative_samples\n",
    "            v[1]['class'] = 0\n",
    "\n",
    "        train_examples = pd.concat(data_split_dict['train']).drop(columns=JOB_ID_ENCODED)\n",
    "        train_examples = train_examples.merge(df_ads_active[[JOB_ID_ENCODED, 'title', 'abstract', 'location', 'classification']], left_on='job_id_next', right_on=JOB_ID_ENCODED).drop(columns=JOB_ID_ENCODED)\n",
    "\n",
    "        valid_examples = pd.concat(data_split_dict['valid']).drop(columns=JOB_ID_ENCODED)\n",
    "        valid_examples = valid_examples.merge(df_ads_active[[JOB_ID_ENCODED, 'title', 'abstract', 'location', 'classification']], left_on='job_id_next', right_on=JOB_ID_ENCODED).drop(columns=JOB_ID_ENCODED)\n",
    "\n",
    "        test_examples = pd.concat(data_split_dict['test']).drop(columns=JOB_ID_ENCODED)\n",
    "        test_examples = test_examples.merge(df_ads_active[[JOB_ID_ENCODED, 'title', 'abstract', 'location', 'classification']], left_on='job_id_next', right_on=JOB_ID_ENCODED).drop(columns=JOB_ID_ENCODED)\n",
    "\n",
    "        train_examples_users_list.append(train_examples)\n",
    "        valid_examples_users_list.append(valid_examples)\n",
    "        test_examples_users_list.append(test_examples)\n",
    "\n",
    "    return pd.concat(train_examples_users_list).reset_index(drop=True), pd.concat(valid_examples_users_list).reset_index(drop=True), pd.concat(test_examples_users_list).reset_index(drop=True)\n",
    "\n"
   ]
  },
  {
   "cell_type": "code",
   "execution_count": 25,
   "metadata": {
    "collapsed": false,
    "ExecuteTime": {
     "end_time": "2023-06-26T15:26:57.674456285Z",
     "start_time": "2023-06-26T15:01:22.887359103Z"
    }
   },
   "outputs": [
    {
     "data": {
      "text/plain": "  0%|          | 0/19672 [00:00<?, ?it/s]",
      "application/vnd.jupyter.widget-view+json": {
       "version_major": 2,
       "version_minor": 0,
       "model_id": "ffd3f4bcf95c4f2fbca79abacba6c8ae"
      }
     },
     "metadata": {},
     "output_type": "display_data"
    }
   ],
   "source": [
    "train_data, valid_data, test_data = create_data_split(_ratio_negative_to_positive_samples=1)"
   ]
  },
  {
   "cell_type": "code",
   "execution_count": 26,
   "metadata": {
    "collapsed": false,
    "ExecuteTime": {
     "end_time": "2023-06-26T15:27:05.081621757Z",
     "start_time": "2023-06-26T15:27:05.031635677Z"
    }
   },
   "outputs": [
    {
     "data": {
      "text/plain": "(19672, 19672, 19672)"
     },
     "execution_count": 26,
     "metadata": {},
     "output_type": "execute_result"
    }
   ],
   "source": [
    "train_data[RESUME_ID_ENCODED].nunique(), valid_data[RESUME_ID_ENCODED].nunique(), test_data[RESUME_ID_ENCODED].nunique()"
   ]
  },
  {
   "cell_type": "markdown",
   "source": [
    "# SAVE"
   ],
   "metadata": {
    "collapsed": false
   }
  },
  {
   "cell_type": "code",
   "execution_count": 27,
   "metadata": {
    "collapsed": false,
    "ExecuteTime": {
     "end_time": "2023-06-26T15:27:36.113353595Z",
     "start_time": "2023-06-26T15:27:26.957675323Z"
    }
   },
   "outputs": [],
   "source": [
    "output_path = '/root/projects/PythonProjects/ip-dual-encoder-factorization-machine/data/input_processed_output/'\n",
    "file_out = output_path + 'train_data.json'\n",
    "train_data.to_json(file_out)\n",
    "\n",
    "file_out = output_path + 'valid_data.json'\n",
    "valid_data.to_json(file_out)\n",
    "\n",
    "file_out = output_path + 'test_data.json'\n",
    "test_data.to_json(file_out)"
   ]
  },
  {
   "cell_type": "code",
   "execution_count": 28,
   "outputs": [
    {
     "data": {
      "text/plain": "(1344086, 168038, 187480)"
     },
     "execution_count": 28,
     "metadata": {},
     "output_type": "execute_result"
    }
   ],
   "source": [
    "len(train_data.index), len(valid_data.index), len(test_data.index)"
   ],
   "metadata": {
    "collapsed": false,
    "ExecuteTime": {
     "end_time": "2023-06-26T15:27:59.161928627Z",
     "start_time": "2023-06-26T15:27:59.083683659Z"
    }
   }
  },
  {
   "cell_type": "markdown",
   "source": [
    "## Verify the class ratio"
   ],
   "metadata": {
    "collapsed": false
   }
  },
  {
   "cell_type": "code",
   "execution_count": 2,
   "outputs": [
    {
     "data": {
      "text/plain": "              event_datetime  resume_id_encoded  \\\n0        2021-05-01 00:00:07                  1   \n1        2021-05-01 00:00:07                  1   \n2        2021-05-01 00:00:07                  1   \n3        2021-05-01 00:00:07                  1   \n4        2021-05-01 00:00:07                  1   \n...                      ...                ...   \n1344081  2021-05-01 23:54:48              19672   \n1344082  2021-05-01 23:54:48              19672   \n1344083  2021-05-01 23:54:48              19672   \n1344084  2021-05-01 23:54:48              19672   \n1344085  2021-05-01 23:54:48              19672   \n\n                                           job_id_sequence  job_id_next  \\\n0                                                  [23106]        17225   \n1                                           [23106, 17225]          939   \n2                                      [23106, 17225, 939]        24851   \n3                               [23106, 17225, 939, 24851]        20479   \n4                        [23106, 17225, 939, 24851, 20479]        44011   \n...                                                    ...          ...   \n1344081  [18229, 25037, 24828, 19224, 27766, 5343, 1579...        14325   \n1344082  [18229, 25037, 24828, 19224, 27766, 5343, 1579...        27777   \n1344083  [18229, 25037, 24828, 19224, 27766, 5343, 1579...        45281   \n1344084  [18229, 25037, 24828, 19224, 27766, 5343, 1579...        43618   \n1344085  [18229, 25037, 24828, 19224, 27766, 5343, 1579...        18715   \n\n         class                                              title  \\\n0            1                  Programme Manager, healthAlliance   \n1            1                               Office Administrator   \n2            1    2IC Retail Career Opportunity - Liverpool Store   \n3            1                      Maternal & Child Health Nurse   \n4            1                Construction All Rounder / Labourer   \n...        ...                                                ...   \n1344081      0  REAL ESTATE SALES - STAR PERFORMER WANTED - BE...   \n1344082      0         Litigation Support Clerk (afternoon shift)   \n1344083      0                                 Team Administrator   \n1344084      0  Retail Second In Charge - David Jones Chadston...   \n1344085      0                 Senior Commercial Property Manager   \n\n                                                  abstract  \\\n0               Permanent, Full Time Role Based in Penrose   \n1        Excellent opportunity for a proactive PA/Offic...   \n2        High profile Homemaker Retailer specialising i...   \n3        Yarra City Council is looking for enthusiastic...   \n4        Construction All Rounder/Labourer - Fulltime C...   \n...                                                    ...   \n1344081  Berwick Leading Agents Expected Income Earning...   \n1344082                         Afternoon shift loading $$   \n1344083  Dynamic role working within a passionate and s...   \n1344084  Join Seed on your exciting new journey; Help, ...   \n1344085  Seeking a dynamic Senior Commercial Property M...   \n\n                          location                          classification  \n0                         Auckland  Information & Communication Technology  \n1                           Sydney         Administration & Office Support  \n2                           Sydney              Retail & Consumer Products  \n3                        Melbourne                    Government & Defence  \n4        Toowoomba & Darling Downs                       Trades & Services  \n...                            ...                                     ...  \n1344081                  Melbourne                                   Sales  \n1344082                     Sydney         Administration & Office Support  \n1344083                   Auckland         Administration & Office Support  \n1344084                  Melbourne              Retail & Consumer Products  \n1344085                      Perth                  Real Estate & Property  \n\n[1344086 rows x 9 columns]",
      "text/html": "<div>\n<style scoped>\n    .dataframe tbody tr th:only-of-type {\n        vertical-align: middle;\n    }\n\n    .dataframe tbody tr th {\n        vertical-align: top;\n    }\n\n    .dataframe thead th {\n        text-align: right;\n    }\n</style>\n<table border=\"1\" class=\"dataframe\">\n  <thead>\n    <tr style=\"text-align: right;\">\n      <th></th>\n      <th>event_datetime</th>\n      <th>resume_id_encoded</th>\n      <th>job_id_sequence</th>\n      <th>job_id_next</th>\n      <th>class</th>\n      <th>title</th>\n      <th>abstract</th>\n      <th>location</th>\n      <th>classification</th>\n    </tr>\n  </thead>\n  <tbody>\n    <tr>\n      <th>0</th>\n      <td>2021-05-01 00:00:07</td>\n      <td>1</td>\n      <td>[23106]</td>\n      <td>17225</td>\n      <td>1</td>\n      <td>Programme Manager, healthAlliance</td>\n      <td>Permanent, Full Time Role Based in Penrose</td>\n      <td>Auckland</td>\n      <td>Information &amp; Communication Technology</td>\n    </tr>\n    <tr>\n      <th>1</th>\n      <td>2021-05-01 00:00:07</td>\n      <td>1</td>\n      <td>[23106, 17225]</td>\n      <td>939</td>\n      <td>1</td>\n      <td>Office Administrator</td>\n      <td>Excellent opportunity for a proactive PA/Offic...</td>\n      <td>Sydney</td>\n      <td>Administration &amp; Office Support</td>\n    </tr>\n    <tr>\n      <th>2</th>\n      <td>2021-05-01 00:00:07</td>\n      <td>1</td>\n      <td>[23106, 17225, 939]</td>\n      <td>24851</td>\n      <td>1</td>\n      <td>2IC Retail Career Opportunity - Liverpool Store</td>\n      <td>High profile Homemaker Retailer specialising i...</td>\n      <td>Sydney</td>\n      <td>Retail &amp; Consumer Products</td>\n    </tr>\n    <tr>\n      <th>3</th>\n      <td>2021-05-01 00:00:07</td>\n      <td>1</td>\n      <td>[23106, 17225, 939, 24851]</td>\n      <td>20479</td>\n      <td>1</td>\n      <td>Maternal &amp; Child Health Nurse</td>\n      <td>Yarra City Council is looking for enthusiastic...</td>\n      <td>Melbourne</td>\n      <td>Government &amp; Defence</td>\n    </tr>\n    <tr>\n      <th>4</th>\n      <td>2021-05-01 00:00:07</td>\n      <td>1</td>\n      <td>[23106, 17225, 939, 24851, 20479]</td>\n      <td>44011</td>\n      <td>1</td>\n      <td>Construction All Rounder / Labourer</td>\n      <td>Construction All Rounder/Labourer - Fulltime C...</td>\n      <td>Toowoomba &amp; Darling Downs</td>\n      <td>Trades &amp; Services</td>\n    </tr>\n    <tr>\n      <th>...</th>\n      <td>...</td>\n      <td>...</td>\n      <td>...</td>\n      <td>...</td>\n      <td>...</td>\n      <td>...</td>\n      <td>...</td>\n      <td>...</td>\n      <td>...</td>\n    </tr>\n    <tr>\n      <th>1344081</th>\n      <td>2021-05-01 23:54:48</td>\n      <td>19672</td>\n      <td>[18229, 25037, 24828, 19224, 27766, 5343, 1579...</td>\n      <td>14325</td>\n      <td>0</td>\n      <td>REAL ESTATE SALES - STAR PERFORMER WANTED - BE...</td>\n      <td>Berwick Leading Agents Expected Income Earning...</td>\n      <td>Melbourne</td>\n      <td>Sales</td>\n    </tr>\n    <tr>\n      <th>1344082</th>\n      <td>2021-05-01 23:54:48</td>\n      <td>19672</td>\n      <td>[18229, 25037, 24828, 19224, 27766, 5343, 1579...</td>\n      <td>27777</td>\n      <td>0</td>\n      <td>Litigation Support Clerk (afternoon shift)</td>\n      <td>Afternoon shift loading $$</td>\n      <td>Sydney</td>\n      <td>Administration &amp; Office Support</td>\n    </tr>\n    <tr>\n      <th>1344083</th>\n      <td>2021-05-01 23:54:48</td>\n      <td>19672</td>\n      <td>[18229, 25037, 24828, 19224, 27766, 5343, 1579...</td>\n      <td>45281</td>\n      <td>0</td>\n      <td>Team Administrator</td>\n      <td>Dynamic role working within a passionate and s...</td>\n      <td>Auckland</td>\n      <td>Administration &amp; Office Support</td>\n    </tr>\n    <tr>\n      <th>1344084</th>\n      <td>2021-05-01 23:54:48</td>\n      <td>19672</td>\n      <td>[18229, 25037, 24828, 19224, 27766, 5343, 1579...</td>\n      <td>43618</td>\n      <td>0</td>\n      <td>Retail Second In Charge - David Jones Chadston...</td>\n      <td>Join Seed on your exciting new journey; Help, ...</td>\n      <td>Melbourne</td>\n      <td>Retail &amp; Consumer Products</td>\n    </tr>\n    <tr>\n      <th>1344085</th>\n      <td>2021-05-01 23:54:48</td>\n      <td>19672</td>\n      <td>[18229, 25037, 24828, 19224, 27766, 5343, 1579...</td>\n      <td>18715</td>\n      <td>0</td>\n      <td>Senior Commercial Property Manager</td>\n      <td>Seeking a dynamic Senior Commercial Property M...</td>\n      <td>Perth</td>\n      <td>Real Estate &amp; Property</td>\n    </tr>\n  </tbody>\n</table>\n<p>1344086 rows × 9 columns</p>\n</div>"
     },
     "execution_count": 2,
     "metadata": {},
     "output_type": "execute_result"
    }
   ],
   "source": [
    "import pandas as pd\n",
    "output_path = '/root/projects/PythonProjects/ip-dual-encoder-factorization-machine/data/input_processed_output/' + 'train_data.json'\n",
    "df_train = pd.read_json(output_path)\n",
    "df_train"
   ],
   "metadata": {
    "collapsed": false,
    "ExecuteTime": {
     "end_time": "2023-06-26T16:25:40.862353916Z",
     "start_time": "2023-06-26T16:25:28.155155328Z"
    }
   }
  },
  {
   "cell_type": "code",
   "execution_count": 4,
   "outputs": [
    {
     "data": {
      "text/plain": "{1: 672043, 0: 672043}"
     },
     "execution_count": 4,
     "metadata": {},
     "output_type": "execute_result"
    }
   ],
   "source": [
    "df_train['class'].value_counts(dropna=False).to_dict()"
   ],
   "metadata": {
    "collapsed": false,
    "ExecuteTime": {
     "end_time": "2023-06-26T16:39:39.452288194Z",
     "start_time": "2023-06-26T16:39:39.434463035Z"
    }
   }
  },
  {
   "cell_type": "markdown",
   "source": [
    "# COPY to S3"
   ],
   "metadata": {
    "collapsed": false
   }
  },
  {
   "cell_type": "code",
   "execution_count": 29,
   "metadata": {
    "collapsed": false,
    "ExecuteTime": {
     "end_time": "2023-06-26T15:28:01.522023876Z",
     "start_time": "2023-06-26T15:28:01.478019552Z"
    }
   },
   "outputs": [],
   "source": [
    "# !aws s3 cp /root/projects/PythonProjects/ip-dual-encoder-factorization-machine/data/input_processed_output/ s3://tyler-s3-bucket/other/interview-projects/seek/input_processed_output/ --recursive"
   ]
  },
  {
   "cell_type": "code",
   "execution_count": 30,
   "outputs": [
    {
     "data": {
      "text/plain": "'Done'"
     },
     "execution_count": 30,
     "metadata": {},
     "output_type": "execute_result"
    }
   ],
   "source": [
    "'Done'"
   ],
   "metadata": {
    "collapsed": false,
    "ExecuteTime": {
     "end_time": "2023-06-26T15:28:02.758672412Z",
     "start_time": "2023-06-26T15:28:02.684738474Z"
    }
   }
  },
  {
   "cell_type": "markdown",
   "source": [
    "# Use the following numbers as the embedding sizes (vocab) in the model"
   ],
   "metadata": {
    "collapsed": false
   }
  },
  {
   "cell_type": "code",
   "execution_count": 31,
   "outputs": [
    {
     "name": "stdout",
     "output_type": "stream",
     "text": [
      "Num of unique users: 19672\n",
      "Num of unique job ids: 47844\n"
     ]
    }
   ],
   "source": [
    "print('Num of unique users:', df_users_active['resume_id_encoded'].nunique())\n",
    "print('Num of unique job ids:', df_events_view_active['job_id_encoded'].nunique())"
   ],
   "metadata": {
    "collapsed": false,
    "ExecuteTime": {
     "end_time": "2023-06-26T15:28:13.026654101Z",
     "start_time": "2023-06-26T15:28:12.976406072Z"
    }
   }
  },
  {
   "cell_type": "code",
   "execution_count": 32,
   "outputs": [
    {
     "data": {
      "text/plain": "19672"
     },
     "execution_count": 32,
     "metadata": {},
     "output_type": "execute_result"
    }
   ],
   "source": [
    "df_events_view_active['resume_id_encoded'].nunique()"
   ],
   "metadata": {
    "collapsed": false,
    "ExecuteTime": {
     "end_time": "2023-06-26T15:28:16.641476950Z",
     "start_time": "2023-06-26T15:28:16.587917207Z"
    }
   }
  },
  {
   "cell_type": "code",
   "execution_count": null,
   "outputs": [],
   "source": [],
   "metadata": {
    "collapsed": false
   }
  }
 ],
 "metadata": {
  "kernelspec": {
   "display_name": "Python 3",
   "language": "python",
   "name": "python3"
  },
  "language_info": {
   "codemirror_mode": {
    "name": "ipython",
    "version": 2
   },
   "file_extension": ".py",
   "mimetype": "text/x-python",
   "name": "python",
   "nbconvert_exporter": "python",
   "pygments_lexer": "ipython2",
   "version": "2.7.6"
  }
 },
 "nbformat": 4,
 "nbformat_minor": 0
}
