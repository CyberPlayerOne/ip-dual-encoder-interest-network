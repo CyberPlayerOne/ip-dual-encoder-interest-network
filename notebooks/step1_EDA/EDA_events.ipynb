{
 "cells": [
  {
   "cell_type": "code",
   "execution_count": 1,
   "metadata": {
    "collapsed": true,
    "ExecuteTime": {
     "end_time": "2023-06-15T11:10:58.956139525Z",
     "start_time": "2023-06-15T11:10:58.455306969Z"
    }
   },
   "outputs": [
    {
     "name": "stdout",
     "output_type": "stream",
     "text": [
      "/root/work\n"
     ]
    }
   ],
   "source": [
    "import os\n",
    "print(os.getcwd())\n",
    "import pandas as pd\n",
    "import numpy as np"
   ]
  },
  {
   "cell_type": "code",
   "execution_count": 2,
   "outputs": [
    {
     "name": "stdout",
     "output_type": "stream",
     "text": [
      "ads-50k-events.csv  ads-50k.json\r\n"
     ]
    }
   ],
   "source": [
    "!ls /root/projects/PythonProjects/ip-dual-encoder-factorization-machine/data/input/"
   ],
   "metadata": {
    "collapsed": false,
    "ExecuteTime": {
     "end_time": "2023-06-15T11:10:59.458292086Z",
     "start_time": "2023-06-15T11:10:58.844024319Z"
    }
   }
  },
  {
   "cell_type": "markdown",
   "source": [
    "# Events data"
   ],
   "metadata": {
    "collapsed": false
   }
  },
  {
   "cell_type": "code",
   "execution_count": 3,
   "outputs": [
    {
     "data": {
      "text/plain": "              event_datetime  resume_id    job_id event_platform kind\n0        2021-05-01T08:42:05     158655  38820886        IOS_APP    V\n1        2021-05-01T08:42:05     158655  38901970        IOS_APP    V\n2        2021-05-01T08:42:05     158655  38919645        IOS_APP    V\n3        2021-05-01T08:42:05     158655  38928402        IOS_APP    V\n4        2021-05-01T08:42:05     158655  38847632        IOS_APP    V\n...                      ...        ...       ...            ...  ...\n4304683  2021-05-01T03:34:41      97605  38984280            WEB    V\n4304684  2021-05-01T03:34:41      97605  38977257            WEB    V\n4304685  2021-05-01T03:34:41      97605  38943585            WEB    V\n4304686  2021-05-01T03:34:41      97605  38864861            WEB    V\n4304687  2021-05-01T03:34:41      97605  38984280            WEB    V\n\n[4304688 rows x 5 columns]",
      "text/html": "<div>\n<style scoped>\n    .dataframe tbody tr th:only-of-type {\n        vertical-align: middle;\n    }\n\n    .dataframe tbody tr th {\n        vertical-align: top;\n    }\n\n    .dataframe thead th {\n        text-align: right;\n    }\n</style>\n<table border=\"1\" class=\"dataframe\">\n  <thead>\n    <tr style=\"text-align: right;\">\n      <th></th>\n      <th>event_datetime</th>\n      <th>resume_id</th>\n      <th>job_id</th>\n      <th>event_platform</th>\n      <th>kind</th>\n    </tr>\n  </thead>\n  <tbody>\n    <tr>\n      <th>0</th>\n      <td>2021-05-01T08:42:05</td>\n      <td>158655</td>\n      <td>38820886</td>\n      <td>IOS_APP</td>\n      <td>V</td>\n    </tr>\n    <tr>\n      <th>1</th>\n      <td>2021-05-01T08:42:05</td>\n      <td>158655</td>\n      <td>38901970</td>\n      <td>IOS_APP</td>\n      <td>V</td>\n    </tr>\n    <tr>\n      <th>2</th>\n      <td>2021-05-01T08:42:05</td>\n      <td>158655</td>\n      <td>38919645</td>\n      <td>IOS_APP</td>\n      <td>V</td>\n    </tr>\n    <tr>\n      <th>3</th>\n      <td>2021-05-01T08:42:05</td>\n      <td>158655</td>\n      <td>38928402</td>\n      <td>IOS_APP</td>\n      <td>V</td>\n    </tr>\n    <tr>\n      <th>4</th>\n      <td>2021-05-01T08:42:05</td>\n      <td>158655</td>\n      <td>38847632</td>\n      <td>IOS_APP</td>\n      <td>V</td>\n    </tr>\n    <tr>\n      <th>...</th>\n      <td>...</td>\n      <td>...</td>\n      <td>...</td>\n      <td>...</td>\n      <td>...</td>\n    </tr>\n    <tr>\n      <th>4304683</th>\n      <td>2021-05-01T03:34:41</td>\n      <td>97605</td>\n      <td>38984280</td>\n      <td>WEB</td>\n      <td>V</td>\n    </tr>\n    <tr>\n      <th>4304684</th>\n      <td>2021-05-01T03:34:41</td>\n      <td>97605</td>\n      <td>38977257</td>\n      <td>WEB</td>\n      <td>V</td>\n    </tr>\n    <tr>\n      <th>4304685</th>\n      <td>2021-05-01T03:34:41</td>\n      <td>97605</td>\n      <td>38943585</td>\n      <td>WEB</td>\n      <td>V</td>\n    </tr>\n    <tr>\n      <th>4304686</th>\n      <td>2021-05-01T03:34:41</td>\n      <td>97605</td>\n      <td>38864861</td>\n      <td>WEB</td>\n      <td>V</td>\n    </tr>\n    <tr>\n      <th>4304687</th>\n      <td>2021-05-01T03:34:41</td>\n      <td>97605</td>\n      <td>38984280</td>\n      <td>WEB</td>\n      <td>V</td>\n    </tr>\n  </tbody>\n</table>\n<p>4304688 rows × 5 columns</p>\n</div>"
     },
     "execution_count": 3,
     "metadata": {},
     "output_type": "execute_result"
    }
   ],
   "source": [
    "file_events = '/root/projects/PythonProjects/ip-dual-encoder-factorization-machine/data/input/ads-50k-events.csv'\n",
    "df_events = pd.read_csv(file_events)\n",
    "df_events"
   ],
   "metadata": {
    "collapsed": false,
    "ExecuteTime": {
     "end_time": "2023-06-15T11:11:01.080299440Z",
     "start_time": "2023-06-15T11:10:59.468134128Z"
    }
   }
  },
  {
   "cell_type": "markdown",
   "source": [
    "## Removing the duplicated event logs"
   ],
   "metadata": {
    "collapsed": false
   }
  },
  {
   "cell_type": "code",
   "execution_count": 4,
   "outputs": [
    {
     "data": {
      "text/plain": "1434896"
     },
     "execution_count": 4,
     "metadata": {},
     "output_type": "execute_result"
    }
   ],
   "source": [
    "df_events = df_events.drop_duplicates().copy()\n",
    "len(df_events.index)"
   ],
   "metadata": {
    "collapsed": false,
    "ExecuteTime": {
     "end_time": "2023-06-15T11:11:02.070493603Z",
     "start_time": "2023-06-15T11:11:01.206583631Z"
    }
   }
  },
  {
   "cell_type": "code",
   "execution_count": 5,
   "outputs": [
    {
     "data": {
      "text/plain": "event_datetime    0\nresume_id         0\njob_id            0\nevent_platform    0\nkind              0\ndtype: int64"
     },
     "execution_count": 5,
     "metadata": {},
     "output_type": "execute_result"
    }
   ],
   "source": [
    "df_events.isna().sum(axis=0)"
   ],
   "metadata": {
    "collapsed": false,
    "ExecuteTime": {
     "end_time": "2023-06-15T11:11:02.175637206Z",
     "start_time": "2023-06-15T11:11:02.167236514Z"
    }
   }
  },
  {
   "cell_type": "code",
   "execution_count": 6,
   "outputs": [
    {
     "data": {
      "text/plain": "event_datetime    datetime64[ns]\nresume_id                  int64\njob_id                     int64\nevent_platform            object\nkind                      object\ndtype: object"
     },
     "execution_count": 6,
     "metadata": {},
     "output_type": "execute_result"
    }
   ],
   "source": [
    "df_events['event_datetime'] = pd.to_datetime(df_events['event_datetime'])\n",
    "df_events['resume_id'] = df_events['resume_id'].astype(int)\n",
    "df_events['job_id'] = df_events['job_id'].astype(int)\n",
    "df_events['event_platform'] = df_events['event_platform'].astype(str)\n",
    "df_events['kind'] = df_events['kind'].astype(str)\n",
    "df_events.dtypes"
   ],
   "metadata": {
    "collapsed": false,
    "ExecuteTime": {
     "end_time": "2023-06-15T11:11:02.402145318Z",
     "start_time": "2023-06-15T11:11:02.217248686Z"
    }
   }
  },
  {
   "cell_type": "markdown",
   "source": [
    "## column `event_datetime`"
   ],
   "metadata": {
    "collapsed": false
   }
  },
  {
   "cell_type": "code",
   "execution_count": 7,
   "outputs": [
    {
     "data": {
      "text/plain": "(Timestamp('2021-05-01 00:00:00'), Timestamp('2021-05-01 23:58:54'))"
     },
     "execution_count": 7,
     "metadata": {},
     "output_type": "execute_result"
    }
   ],
   "source": [
    "df_events['event_datetime'].min(), df_events['event_datetime'].max()"
   ],
   "metadata": {
    "collapsed": false,
    "ExecuteTime": {
     "end_time": "2023-06-15T11:11:02.411511245Z",
     "start_time": "2023-06-15T11:11:02.401652662Z"
    }
   }
  },
  {
   "cell_type": "code",
   "execution_count": 8,
   "outputs": [
    {
     "data": {
      "text/plain": "<Figure size 640x480 with 1 Axes>",
      "image/png": "[encoded data removed]"
     },
     "metadata": {},
     "output_type": "display_data"
    }
   ],
   "source": [
    "import matplotlib.pyplot as plt\n",
    "df_events['event_datetime_period'] = df_events['event_datetime'].dt.to_period(freq='H').astype(str)\n",
    "df_event_datetime_period = df_events['event_datetime_period'].value_counts().reset_index().sort_values(by='event_datetime_period').reset_index(drop=True)\n",
    "\n",
    "# plt.bar(list(map(str, df_event_datetime_period.index)), df_event_datetime_period['event_datetime_period'])\n",
    "plt.bar(df_event_datetime_period['event_datetime_period'], df_event_datetime_period['count'])\n",
    "plt.xticks(rotation=90)\n",
    "plt.tight_layout()\n",
    "plt.show()"
   ],
   "metadata": {
    "collapsed": false,
    "ExecuteTime": {
     "end_time": "2023-06-15T11:11:07.226600496Z",
     "start_time": "2023-06-15T11:11:02.413491674Z"
    }
   }
  },
  {
   "cell_type": "markdown",
   "source": [
    "## column `resume_id`"
   ],
   "metadata": {
    "collapsed": false
   }
  },
  {
   "cell_type": "code",
   "execution_count": 9,
   "outputs": [
    {
     "name": "stdout",
     "output_type": "stream",
     "text": [
      "Number of unique users:  29578\n"
     ]
    }
   ],
   "source": [
    "print('Number of unique users: ', df_events['resume_id'].nunique())"
   ],
   "metadata": {
    "collapsed": false,
    "ExecuteTime": {
     "end_time": "2023-06-15T11:11:07.244944904Z",
     "start_time": "2023-06-15T11:11:07.228082909Z"
    }
   }
  },
  {
   "cell_type": "code",
   "execution_count": 10,
   "outputs": [
    {
     "name": "stdout",
     "output_type": "stream",
     "text": [
      "Per-user event number distribution:\n"
     ]
    },
    {
     "data": {
      "text/plain": "<Figure size 640x480 with 1 Axes>",
      "image/png": "[encoded data removed]"
     },
     "metadata": {},
     "output_type": "display_data"
    }
   ],
   "source": [
    "df_events_user = df_events['resume_id'].value_counts().reset_index()\n",
    "\n",
    "print('Per-user event number distribution:')\n",
    "df_events_user['count'].plot.line()\n",
    "plt.show()"
   ],
   "metadata": {
    "collapsed": false,
    "ExecuteTime": {
     "end_time": "2023-06-15T11:11:07.393106825Z",
     "start_time": "2023-06-15T11:11:07.252613579Z"
    }
   }
  },
  {
   "cell_type": "code",
   "execution_count": 11,
   "outputs": [
    {
     "data": {
      "text/plain": "count    29578.000000\nmean        48.512273\nstd         95.585588\nmin          1.000000\n25%          8.000000\n50%         20.000000\n75%         49.000000\nmax       3359.000000\nName: count, dtype: float64"
     },
     "execution_count": 11,
     "metadata": {},
     "output_type": "execute_result"
    }
   ],
   "source": [
    "df_events_user['count'].describe()"
   ],
   "metadata": {
    "collapsed": false,
    "ExecuteTime": {
     "end_time": "2023-06-15T11:11:07.393321951Z",
     "start_time": "2023-06-15T11:11:07.378556997Z"
    }
   }
  },
  {
   "cell_type": "code",
   "execution_count": 12,
   "outputs": [
    {
     "name": "stdout",
     "output_type": "stream",
     "text": [
      "User#245 has max number of events: 3359. Avg number of events per min in 24 hours: 2.332638888888889.\n"
     ]
    },
    {
     "data": {
      "text/plain": "             event_datetime  resume_id    job_id event_platform kind  \\\n3153087 2021-05-01 01:32:46        245  38998941            WEB    V   \n3153088 2021-05-01 01:32:46        245  38824276            WEB    V   \n3153089 2021-05-01 01:32:46        245  38979948            WEB    V   \n3153090 2021-05-01 01:32:46        245  38823030            WEB    V   \n3153091 2021-05-01 01:32:46        245  38947689            WEB    V   \n...                     ...        ...       ...            ...  ...   \n3163147 2021-05-01 23:03:50        245  38940102            WEB    V   \n3163148 2021-05-01 23:03:50        245  38916091            WEB    V   \n3163149 2021-05-01 23:03:50        245  38848600            WEB    V   \n3163150 2021-05-01 23:03:50        245  38934257            WEB    V   \n3163151 2021-05-01 23:03:50        245  38932462            WEB    V   \n\n        event_datetime_period  \n3153087      2021-05-01 01:00  \n3153088      2021-05-01 01:00  \n3153089      2021-05-01 01:00  \n3153090      2021-05-01 01:00  \n3153091      2021-05-01 01:00  \n...                       ...  \n3163147      2021-05-01 23:00  \n3163148      2021-05-01 23:00  \n3163149      2021-05-01 23:00  \n3163150      2021-05-01 23:00  \n3163151      2021-05-01 23:00  \n\n[3359 rows x 6 columns]",
      "text/html": "<div>\n<style scoped>\n    .dataframe tbody tr th:only-of-type {\n        vertical-align: middle;\n    }\n\n    .dataframe tbody tr th {\n        vertical-align: top;\n    }\n\n    .dataframe thead th {\n        text-align: right;\n    }\n</style>\n<table border=\"1\" class=\"dataframe\">\n  <thead>\n    <tr style=\"text-align: right;\">\n      <th></th>\n      <th>event_datetime</th>\n      <th>resume_id</th>\n      <th>job_id</th>\n      <th>event_platform</th>\n      <th>kind</th>\n      <th>event_datetime_period</th>\n    </tr>\n  </thead>\n  <tbody>\n    <tr>\n      <th>3153087</th>\n      <td>2021-05-01 01:32:46</td>\n      <td>245</td>\n      <td>38998941</td>\n      <td>WEB</td>\n      <td>V</td>\n      <td>2021-05-01 01:00</td>\n    </tr>\n    <tr>\n      <th>3153088</th>\n      <td>2021-05-01 01:32:46</td>\n      <td>245</td>\n      <td>38824276</td>\n      <td>WEB</td>\n      <td>V</td>\n      <td>2021-05-01 01:00</td>\n    </tr>\n    <tr>\n      <th>3153089</th>\n      <td>2021-05-01 01:32:46</td>\n      <td>245</td>\n      <td>38979948</td>\n      <td>WEB</td>\n      <td>V</td>\n      <td>2021-05-01 01:00</td>\n    </tr>\n    <tr>\n      <th>3153090</th>\n      <td>2021-05-01 01:32:46</td>\n      <td>245</td>\n      <td>38823030</td>\n      <td>WEB</td>\n      <td>V</td>\n      <td>2021-05-01 01:00</td>\n    </tr>\n    <tr>\n      <th>3153091</th>\n      <td>2021-05-01 01:32:46</td>\n      <td>245</td>\n      <td>38947689</td>\n      <td>WEB</td>\n      <td>V</td>\n      <td>2021-05-01 01:00</td>\n    </tr>\n    <tr>\n      <th>...</th>\n      <td>...</td>\n      <td>...</td>\n      <td>...</td>\n      <td>...</td>\n      <td>...</td>\n      <td>...</td>\n    </tr>\n    <tr>\n      <th>3163147</th>\n      <td>2021-05-01 23:03:50</td>\n      <td>245</td>\n      <td>38940102</td>\n      <td>WEB</td>\n      <td>V</td>\n      <td>2021-05-01 23:00</td>\n    </tr>\n    <tr>\n      <th>3163148</th>\n      <td>2021-05-01 23:03:50</td>\n      <td>245</td>\n      <td>38916091</td>\n      <td>WEB</td>\n      <td>V</td>\n      <td>2021-05-01 23:00</td>\n    </tr>\n    <tr>\n      <th>3163149</th>\n      <td>2021-05-01 23:03:50</td>\n      <td>245</td>\n      <td>38848600</td>\n      <td>WEB</td>\n      <td>V</td>\n      <td>2021-05-01 23:00</td>\n    </tr>\n    <tr>\n      <th>3163150</th>\n      <td>2021-05-01 23:03:50</td>\n      <td>245</td>\n      <td>38934257</td>\n      <td>WEB</td>\n      <td>V</td>\n      <td>2021-05-01 23:00</td>\n    </tr>\n    <tr>\n      <th>3163151</th>\n      <td>2021-05-01 23:03:50</td>\n      <td>245</td>\n      <td>38932462</td>\n      <td>WEB</td>\n      <td>V</td>\n      <td>2021-05-01 23:00</td>\n    </tr>\n  </tbody>\n</table>\n<p>3359 rows × 6 columns</p>\n</div>"
     },
     "execution_count": 12,
     "metadata": {},
     "output_type": "execute_result"
    }
   ],
   "source": [
    "print(f'User#245 has max number of events: 3359. Avg number of events per min in 24 hours: {3359/24/60}.')\n",
    "df_events[df_events['resume_id']==df_events_user.loc[0, 'resume_id']]"
   ],
   "metadata": {
    "collapsed": false,
    "ExecuteTime": {
     "end_time": "2023-06-15T11:11:07.402284456Z",
     "start_time": "2023-06-15T11:11:07.392802482Z"
    }
   }
  },
  {
   "cell_type": "code",
   "execution_count": 13,
   "outputs": [
    {
     "name": "stdout",
     "output_type": "stream",
     "text": [
      "User#245's events mostly happened after midnight:\n"
     ]
    },
    {
     "data": {
      "text/plain": "event_datetime_period\n2021-05-01 02:00    1311\n2021-05-01 03:00     743\n2021-05-01 01:00     610\n2021-05-01 00:00     601\n2021-05-01 10:00      50\n2021-05-01 09:00      33\n2021-05-01 23:00       6\n2021-05-01 22:00       5\nName: count, dtype: int64"
     },
     "execution_count": 13,
     "metadata": {},
     "output_type": "execute_result"
    }
   ],
   "source": [
    "print('User#245\\'s events mostly happened after midnight:')\n",
    "df_events[df_events['resume_id']==df_events_user.loc[0, 'resume_id']]['event_datetime_period'].value_counts()"
   ],
   "metadata": {
    "collapsed": false,
    "ExecuteTime": {
     "end_time": "2023-06-15T11:11:07.411669301Z",
     "start_time": "2023-06-15T11:11:07.397105762Z"
    }
   }
  },
  {
   "cell_type": "markdown",
   "source": [
    " ## column `job_id`"
   ],
   "metadata": {
    "collapsed": false
   }
  },
  {
   "cell_type": "code",
   "execution_count": 14,
   "outputs": [
    {
     "name": "stdout",
     "output_type": "stream",
     "text": [
      "Number of unique jobs:  50000\n"
     ]
    }
   ],
   "source": [
    "print('Number of unique jobs: ', df_events['job_id'].nunique())"
   ],
   "metadata": {
    "collapsed": false,
    "ExecuteTime": {
     "end_time": "2023-06-15T11:11:07.469314942Z",
     "start_time": "2023-06-15T11:11:07.408221377Z"
    }
   }
  },
  {
   "cell_type": "code",
   "execution_count": 15,
   "outputs": [
    {
     "name": "stdout",
     "output_type": "stream",
     "text": [
      "Per-job event number distribution:\n"
     ]
    },
    {
     "data": {
      "text/plain": "<Figure size 640x480 with 1 Axes>",
      "image/png": "[encoded data removed]"
     },
     "metadata": {},
     "output_type": "display_data"
    }
   ],
   "source": [
    "df_events_job = df_events['job_id'].value_counts().reset_index()\n",
    "print('Per-job event number distribution:')\n",
    "df_events_job['count'].plot.line()\n",
    "plt.show()"
   ],
   "metadata": {
    "collapsed": false,
    "ExecuteTime": {
     "end_time": "2023-06-15T11:11:07.560156606Z",
     "start_time": "2023-06-15T11:11:07.437403443Z"
    }
   }
  },
  {
   "cell_type": "code",
   "execution_count": 16,
   "outputs": [
    {
     "data": {
      "text/plain": "count    50000.000000\nmean        28.697920\nstd         40.917611\nmin          1.000000\n25%          6.000000\n50%         15.000000\n75%         35.000000\nmax        389.000000\nName: count, dtype: float64"
     },
     "execution_count": 16,
     "metadata": {},
     "output_type": "execute_result"
    }
   ],
   "source": [
    "df_events_job['count'].describe()"
   ],
   "metadata": {
    "collapsed": false,
    "ExecuteTime": {
     "end_time": "2023-06-15T11:11:07.566589425Z",
     "start_time": "2023-06-15T11:11:07.558351299Z"
    }
   }
  },
  {
   "cell_type": "markdown",
   "source": [
    "## column `event_platform` and `kind`"
   ],
   "metadata": {
    "collapsed": false
   }
  },
  {
   "cell_type": "code",
   "execution_count": 17,
   "outputs": [
    {
     "data": {
      "text/plain": "event_platform\nWEB            506668\nIOS_APP        474427\nANDROID_APP    453801\nName: count, dtype: int64"
     },
     "execution_count": 17,
     "metadata": {},
     "output_type": "execute_result"
    }
   ],
   "source": [
    "df_events['event_platform'].value_counts()"
   ],
   "metadata": {
    "collapsed": false,
    "ExecuteTime": {
     "end_time": "2023-06-15T11:11:07.634159284Z",
     "start_time": "2023-06-15T11:11:07.630270128Z"
    }
   }
  },
  {
   "cell_type": "code",
   "execution_count": 18,
   "outputs": [
    {
     "data": {
      "text/plain": "kind\nV    1314401\nA     120495\nName: count, dtype: int64"
     },
     "execution_count": 18,
     "metadata": {},
     "output_type": "execute_result"
    }
   ],
   "source": [
    "df_events['kind'].value_counts()"
   ],
   "metadata": {
    "collapsed": false,
    "ExecuteTime": {
     "end_time": "2023-06-15T11:11:07.679867931Z",
     "start_time": "2023-06-15T11:11:07.675021038Z"
    }
   }
  },
  {
   "cell_type": "markdown",
   "source": [
    "## `event_datetime_period` vs. `resume_id`"
   ],
   "metadata": {
    "collapsed": false
   }
  },
  {
   "cell_type": "code",
   "execution_count": 19,
   "outputs": [
    {
     "data": {
      "text/plain": "0          2021-05-01 08:00\n1          2021-05-01 08:00\n2          2021-05-01 08:00\n3          2021-05-01 08:00\n4          2021-05-01 08:00\n                 ...       \n4304655    2021-05-01 22:00\n4304676    2021-05-01 03:00\n4304677    2021-05-01 03:00\n4304678    2021-05-01 03:00\n4304679    2021-05-01 03:00\nName: event_datetime_period, Length: 1434896, dtype: object"
     },
     "execution_count": 19,
     "metadata": {},
     "output_type": "execute_result"
    }
   ],
   "source": [
    "df_events['event_datetime_period']"
   ],
   "metadata": {
    "collapsed": false,
    "ExecuteTime": {
     "end_time": "2023-06-15T11:11:07.686026739Z",
     "start_time": "2023-06-15T11:11:07.682639165Z"
    }
   }
  },
  {
   "cell_type": "code",
   "execution_count": 20,
   "outputs": [
    {
     "name": "stdout",
     "output_type": "stream",
     "text": [
      "Most users' events happened within 1-3 hours:\n"
     ]
    },
    {
     "data": {
      "text/plain": "event_datetime_period\n1                        23159\n2                         4714\n3                         1133\n4                          364\n5                          124\n6                           43\n7                           20\n8                           14\n9                            5\n10                           1\n11                           1\nName: count, dtype: int64"
     },
     "execution_count": 20,
     "metadata": {},
     "output_type": "execute_result"
    }
   ],
   "source": [
    "print('Most users\\' events happened within 1-3 hours:')\n",
    "df_events[['event_datetime_period', 'resume_id']].drop_duplicates().groupby(by='resume_id').agg(len).value_counts()"
   ],
   "metadata": {
    "collapsed": false,
    "ExecuteTime": {
     "end_time": "2023-06-15T11:11:08.218658418Z",
     "start_time": "2023-06-15T11:11:07.688451747Z"
    }
   }
  },
  {
   "cell_type": "markdown",
   "source": [
    "## Drop the temporary column `event_datetime_period`; keep `event_datetime` for the clicked job sequences"
   ],
   "metadata": {
    "collapsed": false
   }
  },
  {
   "cell_type": "code",
   "execution_count": 21,
   "outputs": [
    {
     "data": {
      "text/plain": "             event_datetime  resume_id    job_id event_platform kind\n0       2021-05-01 08:42:05     158655  38820886        IOS_APP    V\n1       2021-05-01 08:42:05     158655  38901970        IOS_APP    V\n2       2021-05-01 08:42:05     158655  38919645        IOS_APP    V\n3       2021-05-01 08:42:05     158655  38928402        IOS_APP    V\n4       2021-05-01 08:42:05     158655  38847632        IOS_APP    V\n...                     ...        ...       ...            ...  ...\n4304655 2021-05-01 22:29:00      11124  38863789            WEB    V\n4304676 2021-05-01 03:34:41      97605  38977257            WEB    V\n4304677 2021-05-01 03:34:41      97605  38943585            WEB    V\n4304678 2021-05-01 03:34:41      97605  38864861            WEB    V\n4304679 2021-05-01 03:34:41      97605  38984280            WEB    V\n\n[1434896 rows x 5 columns]",
      "text/html": "<div>\n<style scoped>\n    .dataframe tbody tr th:only-of-type {\n        vertical-align: middle;\n    }\n\n    .dataframe tbody tr th {\n        vertical-align: top;\n    }\n\n    .dataframe thead th {\n        text-align: right;\n    }\n</style>\n<table border=\"1\" class=\"dataframe\">\n  <thead>\n    <tr style=\"text-align: right;\">\n      <th></th>\n      <th>event_datetime</th>\n      <th>resume_id</th>\n      <th>job_id</th>\n      <th>event_platform</th>\n      <th>kind</th>\n    </tr>\n  </thead>\n  <tbody>\n    <tr>\n      <th>0</th>\n      <td>2021-05-01 08:42:05</td>\n      <td>158655</td>\n      <td>38820886</td>\n      <td>IOS_APP</td>\n      <td>V</td>\n    </tr>\n    <tr>\n      <th>1</th>\n      <td>2021-05-01 08:42:05</td>\n      <td>158655</td>\n      <td>38901970</td>\n      <td>IOS_APP</td>\n      <td>V</td>\n    </tr>\n    <tr>\n      <th>2</th>\n      <td>2021-05-01 08:42:05</td>\n      <td>158655</td>\n      <td>38919645</td>\n      <td>IOS_APP</td>\n      <td>V</td>\n    </tr>\n    <tr>\n      <th>3</th>\n      <td>2021-05-01 08:42:05</td>\n      <td>158655</td>\n      <td>38928402</td>\n      <td>IOS_APP</td>\n      <td>V</td>\n    </tr>\n    <tr>\n      <th>4</th>\n      <td>2021-05-01 08:42:05</td>\n      <td>158655</td>\n      <td>38847632</td>\n      <td>IOS_APP</td>\n      <td>V</td>\n    </tr>\n    <tr>\n      <th>...</th>\n      <td>...</td>\n      <td>...</td>\n      <td>...</td>\n      <td>...</td>\n      <td>...</td>\n    </tr>\n    <tr>\n      <th>4304655</th>\n      <td>2021-05-01 22:29:00</td>\n      <td>11124</td>\n      <td>38863789</td>\n      <td>WEB</td>\n      <td>V</td>\n    </tr>\n    <tr>\n      <th>4304676</th>\n      <td>2021-05-01 03:34:41</td>\n      <td>97605</td>\n      <td>38977257</td>\n      <td>WEB</td>\n      <td>V</td>\n    </tr>\n    <tr>\n      <th>4304677</th>\n      <td>2021-05-01 03:34:41</td>\n      <td>97605</td>\n      <td>38943585</td>\n      <td>WEB</td>\n      <td>V</td>\n    </tr>\n    <tr>\n      <th>4304678</th>\n      <td>2021-05-01 03:34:41</td>\n      <td>97605</td>\n      <td>38864861</td>\n      <td>WEB</td>\n      <td>V</td>\n    </tr>\n    <tr>\n      <th>4304679</th>\n      <td>2021-05-01 03:34:41</td>\n      <td>97605</td>\n      <td>38984280</td>\n      <td>WEB</td>\n      <td>V</td>\n    </tr>\n  </tbody>\n</table>\n<p>1434896 rows × 5 columns</p>\n</div>"
     },
     "execution_count": 21,
     "metadata": {},
     "output_type": "execute_result"
    }
   ],
   "source": [
    "# if 'event_datetime' in df_events.columns:\n",
    "#     df_events = df_events.drop(columns=['event_datetime', 'event_datetime_period'])\n",
    "#\n",
    "\n",
    "if 'event_datetime_period' in df_events.columns:\n",
    "    df_events = df_events.drop(columns='event_datetime_period')\n",
    "\n",
    "df_events"
   ],
   "metadata": {
    "collapsed": false,
    "ExecuteTime": {
     "end_time": "2023-06-15T11:11:08.264515928Z",
     "start_time": "2023-06-15T11:11:08.219483503Z"
    }
   }
  },
  {
   "cell_type": "markdown",
   "source": [
    "## `resume_id` VS. `job_id`"
   ],
   "metadata": {
    "collapsed": false
   }
  },
  {
   "cell_type": "code",
   "execution_count": 22,
   "outputs": [
    {
     "name": "stdout",
     "output_type": "stream",
     "text": [
      "Most users have very few view interactions with jobs.\n",
      "kind=V: \t user_count=29489 \t mode=3\n"
     ]
    },
    {
     "data": {
      "text/plain": "       resume_id  job_count\n211          245       1921\n3770        5046       1344\n2499        3272       1227\n3364        4456       1124\n851         1099       1019\n...          ...        ...\n20599     160818          1\n11805      45203          1\n18262     127523          1\n21944     188395          1\n25607     275390          1\n\n[29489 rows x 2 columns]",
      "text/html": "<div>\n<style scoped>\n    .dataframe tbody tr th:only-of-type {\n        vertical-align: middle;\n    }\n\n    .dataframe tbody tr th {\n        vertical-align: top;\n    }\n\n    .dataframe thead th {\n        text-align: right;\n    }\n</style>\n<table border=\"1\" class=\"dataframe\">\n  <thead>\n    <tr style=\"text-align: right;\">\n      <th></th>\n      <th>resume_id</th>\n      <th>job_count</th>\n    </tr>\n  </thead>\n  <tbody>\n    <tr>\n      <th>211</th>\n      <td>245</td>\n      <td>1921</td>\n    </tr>\n    <tr>\n      <th>3770</th>\n      <td>5046</td>\n      <td>1344</td>\n    </tr>\n    <tr>\n      <th>2499</th>\n      <td>3272</td>\n      <td>1227</td>\n    </tr>\n    <tr>\n      <th>3364</th>\n      <td>4456</td>\n      <td>1124</td>\n    </tr>\n    <tr>\n      <th>851</th>\n      <td>1099</td>\n      <td>1019</td>\n    </tr>\n    <tr>\n      <th>...</th>\n      <td>...</td>\n      <td>...</td>\n    </tr>\n    <tr>\n      <th>20599</th>\n      <td>160818</td>\n      <td>1</td>\n    </tr>\n    <tr>\n      <th>11805</th>\n      <td>45203</td>\n      <td>1</td>\n    </tr>\n    <tr>\n      <th>18262</th>\n      <td>127523</td>\n      <td>1</td>\n    </tr>\n    <tr>\n      <th>21944</th>\n      <td>188395</td>\n      <td>1</td>\n    </tr>\n    <tr>\n      <th>25607</th>\n      <td>275390</td>\n      <td>1</td>\n    </tr>\n  </tbody>\n</table>\n<p>29489 rows × 2 columns</p>\n</div>"
     },
     "metadata": {},
     "output_type": "display_data"
    },
    {
     "data": {
      "text/plain": "[]"
     },
     "execution_count": 22,
     "metadata": {},
     "output_type": "execute_result"
    },
    {
     "data": {
      "text/plain": "<Figure size 640x480 with 1 Axes>",
      "image/png": "[encoded data removed]"
     },
     "metadata": {},
     "output_type": "display_data"
    }
   ],
   "source": [
    "print('Most users have very few view interactions with jobs.')\n",
    "\n",
    "df_resumeId_jobCount = df_events.loc[df_events['kind']=='V', ['resume_id', 'job_id']].groupby('resume_id').agg(lambda x: x.nunique()).reset_index(drop=False).rename(columns={'job_id':'job_count'}).sort_values('job_count', ascending=False)\n",
    "\n",
    "print(f'kind=V: \\t user_count={len(df_resumeId_jobCount.index)} \\t mode={df_resumeId_jobCount[\"job_count\"].mode()[0]}')\n",
    "\n",
    "display(df_resumeId_jobCount)\n",
    "df_resumeId_jobCount['job_count'].plot.hist(bins=100)\n",
    "plt.plot()"
   ],
   "metadata": {
    "collapsed": false,
    "ExecuteTime": {
     "end_time": "2023-06-15T11:11:10.354282571Z",
     "start_time": "2023-06-15T11:11:08.319045029Z"
    }
   }
  },
  {
   "cell_type": "markdown",
   "source": [
    "## Choose only the active users with View interactions with at least 10 unique jobs\n",
    "This is related to train/validation/test data split"
   ],
   "metadata": {
    "collapsed": false
   }
  },
  {
   "cell_type": "code",
   "execution_count": 23,
   "outputs": [
    {
     "name": "stdout",
     "output_type": "stream",
     "text": [
      "Number of active users: 20159\n"
     ]
    }
   ],
   "source": [
    "active_users = df_resumeId_jobCount.loc[df_resumeId_jobCount['job_count']>=10, 'resume_id']\n",
    "df_events = df_events[df_events['resume_id'].isin(active_users)]\n",
    "print('Number of active users:', len(active_users.index))"
   ],
   "metadata": {
    "collapsed": false,
    "ExecuteTime": {
     "end_time": "2023-06-15T11:11:10.401503018Z",
     "start_time": "2023-06-15T11:11:10.340709506Z"
    }
   }
  },
  {
   "cell_type": "markdown",
   "source": [
    "## `resume_id` vs. `platform`"
   ],
   "metadata": {
    "collapsed": false
   }
  },
  {
   "cell_type": "code",
   "execution_count": 24,
   "outputs": [
    {
     "name": "stdout",
     "output_type": "stream",
     "text": [
      "`event_platform` can be discarded because most users use only 1 platform, thus as a feature it is not discriminative.\n",
      "kind=V: \t user_count=20159 \t mode=1\n"
     ]
    },
    {
     "data": {
      "text/plain": "event_platform\n1                 19471\n2                   684\n3                     4\nName: count, dtype: int64"
     },
     "metadata": {},
     "output_type": "display_data"
    },
    {
     "data": {
      "text/plain": "[]"
     },
     "execution_count": 24,
     "metadata": {},
     "output_type": "execute_result"
    },
    {
     "data": {
      "text/plain": "<Figure size 640x480 with 1 Axes>",
      "image/png": "[encoded data removed]"
     },
     "metadata": {},
     "output_type": "display_data"
    }
   ],
   "source": [
    "print('`event_platform` can be discarded because most users use only 1 platform, thus as a feature it is not discriminative.')\n",
    "\n",
    "df_resume_id_platform = df_events.loc[df_events['kind']=='V', ['resume_id', 'event_platform']].groupby('resume_id').agg(lambda x: x.nunique()).sort_values('event_platform', ascending=False)\n",
    "# display(df_resume_id_location)\n",
    "\n",
    "print(f'kind=V: \\t user_count={len(df_resume_id_platform.index)} \\t mode={df_resume_id_platform[\"event_platform\"].mode()[0]}')\n",
    "df_resume_id_platform = df_resume_id_platform.value_counts()\n",
    "display(df_resume_id_platform)\n",
    "df_resume_id_platform.plot.bar()\n",
    "plt.plot()"
   ],
   "metadata": {
    "collapsed": false,
    "ExecuteTime": {
     "end_time": "2023-06-15T11:11:11.801875418Z",
     "start_time": "2023-06-15T11:11:10.446932114Z"
    }
   }
  },
  {
   "cell_type": "code",
   "execution_count": 25,
   "outputs": [],
   "source": [
    "df_events = df_events.drop(columns='event_platform')"
   ],
   "metadata": {
    "collapsed": false,
    "ExecuteTime": {
     "end_time": "2023-06-15T11:11:11.857354550Z",
     "start_time": "2023-06-15T11:11:11.803604779Z"
    }
   }
  },
  {
   "cell_type": "markdown",
   "source": [
    "## Repeated events by users (on different `event_datetime`)"
   ],
   "metadata": {
    "collapsed": false
   }
  },
  {
   "cell_type": "markdown",
   "source": [
    "Repeated (duplicated) view events"
   ],
   "metadata": {
    "collapsed": false
   }
  },
  {
   "cell_type": "code",
   "execution_count": 26,
   "outputs": [
    {
     "data": {
      "text/plain": "         resume_id    job_id kind  count\n0            11931  38885192    V     19\n1            11931  38998718    V     19\n2            11931  38836316    V     19\n3             5629  38896371    V     18\n4             5629  38951213    V     18\n...            ...       ...  ...    ...\n1055192       8235  38926658    V      1\n1055193       8235  38927300    V      1\n1055194       8235  38927468    V      1\n1055195       8235  38927542    V      1\n1055196     394643  38990382    V      1\n\n[1055197 rows x 4 columns]",
      "text/html": "<div>\n<style scoped>\n    .dataframe tbody tr th:only-of-type {\n        vertical-align: middle;\n    }\n\n    .dataframe tbody tr th {\n        vertical-align: top;\n    }\n\n    .dataframe thead th {\n        text-align: right;\n    }\n</style>\n<table border=\"1\" class=\"dataframe\">\n  <thead>\n    <tr style=\"text-align: right;\">\n      <th></th>\n      <th>resume_id</th>\n      <th>job_id</th>\n      <th>kind</th>\n      <th>count</th>\n    </tr>\n  </thead>\n  <tbody>\n    <tr>\n      <th>0</th>\n      <td>11931</td>\n      <td>38885192</td>\n      <td>V</td>\n      <td>19</td>\n    </tr>\n    <tr>\n      <th>1</th>\n      <td>11931</td>\n      <td>38998718</td>\n      <td>V</td>\n      <td>19</td>\n    </tr>\n    <tr>\n      <th>2</th>\n      <td>11931</td>\n      <td>38836316</td>\n      <td>V</td>\n      <td>19</td>\n    </tr>\n    <tr>\n      <th>3</th>\n      <td>5629</td>\n      <td>38896371</td>\n      <td>V</td>\n      <td>18</td>\n    </tr>\n    <tr>\n      <th>4</th>\n      <td>5629</td>\n      <td>38951213</td>\n      <td>V</td>\n      <td>18</td>\n    </tr>\n    <tr>\n      <th>...</th>\n      <td>...</td>\n      <td>...</td>\n      <td>...</td>\n      <td>...</td>\n    </tr>\n    <tr>\n      <th>1055192</th>\n      <td>8235</td>\n      <td>38926658</td>\n      <td>V</td>\n      <td>1</td>\n    </tr>\n    <tr>\n      <th>1055193</th>\n      <td>8235</td>\n      <td>38927300</td>\n      <td>V</td>\n      <td>1</td>\n    </tr>\n    <tr>\n      <th>1055194</th>\n      <td>8235</td>\n      <td>38927468</td>\n      <td>V</td>\n      <td>1</td>\n    </tr>\n    <tr>\n      <th>1055195</th>\n      <td>8235</td>\n      <td>38927542</td>\n      <td>V</td>\n      <td>1</td>\n    </tr>\n    <tr>\n      <th>1055196</th>\n      <td>394643</td>\n      <td>38990382</td>\n      <td>V</td>\n      <td>1</td>\n    </tr>\n  </tbody>\n</table>\n<p>1055197 rows × 4 columns</p>\n</div>"
     },
     "execution_count": 26,
     "metadata": {},
     "output_type": "execute_result"
    }
   ],
   "source": [
    "df_events.loc[df_events['kind']=='V', ['resume_id', 'job_id', 'kind']].value_counts().reset_index()"
   ],
   "metadata": {
    "collapsed": false,
    "ExecuteTime": {
     "end_time": "2023-06-15T11:11:12.275752470Z",
     "start_time": "2023-06-15T11:11:11.880243213Z"
    }
   }
  },
  {
   "cell_type": "code",
   "execution_count": 27,
   "outputs": [
    {
     "data": {
      "text/plain": "<Figure size 640x480 with 1 Axes>",
      "image/png": "[encoded data removed]"
     },
     "metadata": {},
     "output_type": "display_data"
    }
   ],
   "source": [
    "df_events.loc[df_events['kind']=='V', ['resume_id', 'job_id', 'kind']].value_counts().reset_index()['count'].plot.line()\n",
    "plt.show()"
   ],
   "metadata": {
    "collapsed": false,
    "ExecuteTime": {
     "end_time": "2023-06-15T11:11:12.954751036Z",
     "start_time": "2023-06-15T11:11:12.327623905Z"
    }
   }
  },
  {
   "cell_type": "markdown",
   "source": [
    "Repeated (duplicated) application events"
   ],
   "metadata": {
    "collapsed": false
   }
  },
  {
   "cell_type": "code",
   "execution_count": 28,
   "outputs": [
    {
     "data": {
      "text/plain": "<Figure size 640x480 with 1 Axes>",
      "image/png": "[encoded data removed]"
     },
     "metadata": {},
     "output_type": "display_data"
    }
   ],
   "source": [
    "df_events.loc[df_events['kind']=='A', ['resume_id', 'job_id', 'kind']].value_counts().reset_index()['count'].plot.line()\n",
    "plt.show()"
   ],
   "metadata": {
    "collapsed": false,
    "ExecuteTime": {
     "end_time": "2023-06-15T11:11:13.177390148Z",
     "start_time": "2023-06-15T11:11:13.009721163Z"
    }
   }
  },
  {
   "cell_type": "markdown",
   "source": [
    "## Removing all repeated(duplicated) event rows"
   ],
   "metadata": {
    "collapsed": false
   }
  },
  {
   "cell_type": "code",
   "execution_count": 29,
   "outputs": [
    {
     "data": {
      "text/plain": "1375719"
     },
     "metadata": {},
     "output_type": "display_data"
    },
    {
     "data": {
      "text/plain": "1153687"
     },
     "execution_count": 29,
     "metadata": {},
     "output_type": "execute_result"
    }
   ],
   "source": [
    "display(len(df_events.index))\n",
    "\n",
    "df_events = df_events.drop_duplicates(subset=['resume_id', 'job_id', 'kind'], keep='first')\n",
    "len(df_events.index)"
   ],
   "metadata": {
    "collapsed": false,
    "ExecuteTime": {
     "end_time": "2023-06-15T11:11:13.360385928Z",
     "start_time": "2023-06-15T11:11:13.178168886Z"
    }
   }
  },
  {
   "cell_type": "markdown",
   "source": [
    "## Rechecking"
   ],
   "metadata": {
    "collapsed": false
   }
  },
  {
   "cell_type": "code",
   "execution_count": 30,
   "outputs": [
    {
     "data": {
      "text/plain": "kind\nV    1055197\nA      98490\nName: count, dtype: int64"
     },
     "execution_count": 30,
     "metadata": {},
     "output_type": "execute_result"
    }
   ],
   "source": [
    "df_events['kind'].value_counts()"
   ],
   "metadata": {
    "collapsed": false,
    "ExecuteTime": {
     "end_time": "2023-06-15T11:11:13.393049569Z",
     "start_time": "2023-06-15T11:11:13.382771326Z"
    }
   }
  },
  {
   "cell_type": "markdown",
   "source": [
    "## Final data"
   ],
   "metadata": {
    "collapsed": false
   }
  },
  {
   "cell_type": "code",
   "execution_count": 31,
   "outputs": [
    {
     "data": {
      "text/plain": "             event_datetime  resume_id    job_id kind\n0       2021-05-01 08:42:05     158655  38820886    V\n1       2021-05-01 08:42:05     158655  38901970    V\n2       2021-05-01 08:42:05     158655  38919645    V\n3       2021-05-01 08:42:05     158655  38928402    V\n4       2021-05-01 08:42:05     158655  38847632    V\n...                     ...        ...       ...  ...\n4304651 2021-05-01 22:29:00      11124  38933688    V\n4304652 2021-05-01 22:29:00      11124  38992991    V\n4304653 2021-05-01 22:29:00      11124  38821247    V\n4304654 2021-05-01 22:29:00      11124  38899420    V\n4304655 2021-05-01 22:29:00      11124  38863789    V\n\n[1153687 rows x 4 columns]",
      "text/html": "<div>\n<style scoped>\n    .dataframe tbody tr th:only-of-type {\n        vertical-align: middle;\n    }\n\n    .dataframe tbody tr th {\n        vertical-align: top;\n    }\n\n    .dataframe thead th {\n        text-align: right;\n    }\n</style>\n<table border=\"1\" class=\"dataframe\">\n  <thead>\n    <tr style=\"text-align: right;\">\n      <th></th>\n      <th>event_datetime</th>\n      <th>resume_id</th>\n      <th>job_id</th>\n      <th>kind</th>\n    </tr>\n  </thead>\n  <tbody>\n    <tr>\n      <th>0</th>\n      <td>2021-05-01 08:42:05</td>\n      <td>158655</td>\n      <td>38820886</td>\n      <td>V</td>\n    </tr>\n    <tr>\n      <th>1</th>\n      <td>2021-05-01 08:42:05</td>\n      <td>158655</td>\n      <td>38901970</td>\n      <td>V</td>\n    </tr>\n    <tr>\n      <th>2</th>\n      <td>2021-05-01 08:42:05</td>\n      <td>158655</td>\n      <td>38919645</td>\n      <td>V</td>\n    </tr>\n    <tr>\n      <th>3</th>\n      <td>2021-05-01 08:42:05</td>\n      <td>158655</td>\n      <td>38928402</td>\n      <td>V</td>\n    </tr>\n    <tr>\n      <th>4</th>\n      <td>2021-05-01 08:42:05</td>\n      <td>158655</td>\n      <td>38847632</td>\n      <td>V</td>\n    </tr>\n    <tr>\n      <th>...</th>\n      <td>...</td>\n      <td>...</td>\n      <td>...</td>\n      <td>...</td>\n    </tr>\n    <tr>\n      <th>4304651</th>\n      <td>2021-05-01 22:29:00</td>\n      <td>11124</td>\n      <td>38933688</td>\n      <td>V</td>\n    </tr>\n    <tr>\n      <th>4304652</th>\n      <td>2021-05-01 22:29:00</td>\n      <td>11124</td>\n      <td>38992991</td>\n      <td>V</td>\n    </tr>\n    <tr>\n      <th>4304653</th>\n      <td>2021-05-01 22:29:00</td>\n      <td>11124</td>\n      <td>38821247</td>\n      <td>V</td>\n    </tr>\n    <tr>\n      <th>4304654</th>\n      <td>2021-05-01 22:29:00</td>\n      <td>11124</td>\n      <td>38899420</td>\n      <td>V</td>\n    </tr>\n    <tr>\n      <th>4304655</th>\n      <td>2021-05-01 22:29:00</td>\n      <td>11124</td>\n      <td>38863789</td>\n      <td>V</td>\n    </tr>\n  </tbody>\n</table>\n<p>1153687 rows × 4 columns</p>\n</div>"
     },
     "execution_count": 31,
     "metadata": {},
     "output_type": "execute_result"
    }
   ],
   "source": [
    "df_events"
   ],
   "metadata": {
    "collapsed": false,
    "ExecuteTime": {
     "end_time": "2023-06-15T11:11:13.400405383Z",
     "start_time": "2023-06-15T11:11:13.390228168Z"
    }
   }
  },
  {
   "cell_type": "code",
   "execution_count": 32,
   "outputs": [],
   "source": [
    "file_out = '/root/projects/PythonProjects/ip-dual-encoder-factorization-machine/data/input_processed/ads-50k-events_processed.csv'\n",
    "df_events.to_csv(file_out, index=False)"
   ],
   "metadata": {
    "collapsed": false,
    "ExecuteTime": {
     "end_time": "2023-06-15T11:11:16.297675519Z",
     "start_time": "2023-06-15T11:11:13.396853995Z"
    }
   }
  },
  {
   "cell_type": "code",
   "execution_count": 32,
   "outputs": [],
   "source": [],
   "metadata": {
    "collapsed": false,
    "ExecuteTime": {
     "end_time": "2023-06-15T11:11:16.301605212Z",
     "start_time": "2023-06-15T11:11:16.300248745Z"
    }
   }
  },
  {
   "cell_type": "markdown",
   "source": [
    "# Summary"
   ],
   "metadata": {
    "collapsed": false
   }
  },
  {
   "cell_type": "markdown",
   "source": [
    "1) On this particular day, there are much fewer events in the afternoon.\n",
    "2) On this particular day, for most users, his/her events happen within 1-3 hours.\n",
    "3) Some users, e.g. user#245, have much more events than others.\n",
    "4) The distributions of numbers of events per user and per job are long tail: most users/jobs have small numbers of events, very few users/jobs have large number of events.\n",
    "  The data sparsity issue is expected in the recommendation setting. However in the job recommendation setting, the sparsity issue (or cold start problem) is increased due to the fact that **jobs are short lived**. This is similar to news recommendation. This likely causes higher data sparsity to CF and thus prediction difficulty. It is probably more preferable to focus on content-based approaches.\n",
    "5) Duplicated view and application events can be deduplicated. The duplications could be due to logging methods or users' repeated activities.\n",
    "https://medium.com/pinterest-engineering/building-a-real-time-user-action-counting-system-for-ads-88a60d9c9a"
   ],
   "metadata": {
    "collapsed": false
   }
  },
  {
   "cell_type": "code",
   "execution_count": 32,
   "outputs": [],
   "source": [],
   "metadata": {
    "collapsed": false,
    "ExecuteTime": {
     "end_time": "2023-06-15T11:11:16.304473983Z",
     "start_time": "2023-06-15T11:11:16.302918130Z"
    }
   }
  }
 ],
 "metadata": {
  "kernelspec": {
   "display_name": "Python 3",
   "language": "python",
   "name": "python3"
  },
  "language_info": {
   "codemirror_mode": {
    "name": "ipython",
    "version": 2
   },
   "file_extension": ".py",
   "mimetype": "text/x-python",
   "name": "python",
   "nbconvert_exporter": "python",
   "pygments_lexer": "ipython2",
   "version": "2.7.6"
  }
 },
 "nbformat": 4,
 "nbformat_minor": 0
}
